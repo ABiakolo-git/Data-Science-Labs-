{
  "nbformat": 4,
  "nbformat_minor": 0,
  "metadata": {
    "kernelspec": {
      "display_name": "Python 3",
      "language": "python",
      "name": "python3"
    },
    "language_info": {
      "codemirror_mode": {
        "name": "ipython",
        "version": 3
      },
      "file_extension": ".py",
      "mimetype": "text/x-python",
      "name": "python",
      "nbconvert_exporter": "python",
      "pygments_lexer": "ipython3",
      "version": "3.7.6"
    },
    "colab": {
      "name": "Lab 12 - Aghogho.ipynb",
      "provenance": [],
      "collapsed_sections": [],
      "toc_visible": true
    },
    "widgets": {
      "application/vnd.jupyter.widget-state+json": {
        "fab0c5a7f5854b6fa013ff114ff4595c": {
          "model_module": "@jupyter-widgets/controls",
          "model_name": "VBoxModel",
          "state": {
            "_view_name": "VBoxView",
            "_dom_classes": [
              "widget-interact"
            ],
            "_model_name": "VBoxModel",
            "_view_module": "@jupyter-widgets/controls",
            "_model_module_version": "1.5.0",
            "_view_count": null,
            "_view_module_version": "1.5.0",
            "box_style": "",
            "layout": "IPY_MODEL_cd9fa4f6ef0449edacf5e6733e3d7bd3",
            "_model_module": "@jupyter-widgets/controls",
            "children": [
              "IPY_MODEL_cedd679825f94c6ca1c87eacc46375af",
              "IPY_MODEL_e5e84ede7d8f4d76890be942a730479c",
              "IPY_MODEL_35e4a6a2d63544b78550b9bd028d7375"
            ]
          }
        },
        "cd9fa4f6ef0449edacf5e6733e3d7bd3": {
          "model_module": "@jupyter-widgets/base",
          "model_name": "LayoutModel",
          "state": {
            "_view_name": "LayoutView",
            "grid_template_rows": null,
            "right": null,
            "justify_content": null,
            "_view_module": "@jupyter-widgets/base",
            "overflow": null,
            "_model_module_version": "1.2.0",
            "_view_count": null,
            "flex_flow": null,
            "width": null,
            "min_width": null,
            "border": null,
            "align_items": null,
            "bottom": null,
            "_model_module": "@jupyter-widgets/base",
            "top": null,
            "grid_column": null,
            "overflow_y": null,
            "overflow_x": null,
            "grid_auto_flow": null,
            "grid_area": null,
            "grid_template_columns": null,
            "flex": null,
            "_model_name": "LayoutModel",
            "justify_items": null,
            "grid_row": null,
            "max_height": null,
            "align_content": null,
            "visibility": null,
            "align_self": null,
            "height": null,
            "min_height": null,
            "padding": null,
            "grid_auto_rows": null,
            "grid_gap": null,
            "max_width": null,
            "order": null,
            "_view_module_version": "1.2.0",
            "grid_template_areas": null,
            "object_position": null,
            "object_fit": null,
            "grid_auto_columns": null,
            "margin": null,
            "display": null,
            "left": null
          }
        },
        "cedd679825f94c6ca1c87eacc46375af": {
          "model_module": "@jupyter-widgets/controls",
          "model_name": "DropdownModel",
          "state": {
            "_options_labels": [
              "Alabama",
              "Alaska",
              "Arizona",
              "Arkansas",
              "California",
              "Colorado",
              "Connecticut",
              "Delaware",
              "Florida",
              "Georgia",
              "Hawaii",
              "Idaho",
              "Illinois",
              "Indiana",
              "Iowa",
              "Kansas",
              "Kentucky",
              "Louisiana",
              "Maine",
              "Maryland",
              "Massachuse",
              "Michigan",
              "Minnesota",
              "Mississippi",
              "Missouri",
              "Montana",
              "Nebraska",
              "Nevada",
              "New Hampshire",
              "New Jersey",
              "New Mexico",
              "New York",
              "North Carolina",
              "North Dakota",
              "Ohio",
              "Oklahoma",
              "Oregon",
              "Pennsylvania",
              "Rhode Isla",
              "South Carolina",
              "South Dakota",
              "Tennessee",
              "Texas",
              "Utah",
              "Vermont",
              "Virginia",
              "Washington",
              "West Virginia",
              "Wisconsin",
              "Wyoming"
            ],
            "_view_name": "DropdownView",
            "style": "IPY_MODEL_e65a6cf2363d403ca39d3a2aa6bb57cd",
            "_dom_classes": [],
            "description": "state1",
            "_model_name": "DropdownModel",
            "index": 4,
            "_view_module": "@jupyter-widgets/controls",
            "_model_module_version": "1.5.0",
            "_view_count": null,
            "disabled": false,
            "_view_module_version": "1.5.0",
            "description_tooltip": null,
            "_model_module": "@jupyter-widgets/controls",
            "layout": "IPY_MODEL_ff150fe38c6d4bf78f1849410bb3725b"
          }
        },
        "e5e84ede7d8f4d76890be942a730479c": {
          "model_module": "@jupyter-widgets/controls",
          "model_name": "DropdownModel",
          "state": {
            "_options_labels": [
              "Alabama",
              "Alaska",
              "Arizona",
              "Arkansas",
              "California",
              "Colorado",
              "Connecticut",
              "Delaware",
              "Florida",
              "Georgia",
              "Hawaii",
              "Idaho",
              "Illinois",
              "Indiana",
              "Iowa",
              "Kansas",
              "Kentucky",
              "Louisiana",
              "Maine",
              "Maryland",
              "Massachuse",
              "Michigan",
              "Minnesota",
              "Mississippi",
              "Missouri",
              "Montana",
              "Nebraska",
              "Nevada",
              "New Hampshire",
              "New Jersey",
              "New Mexico",
              "New York",
              "North Carolina",
              "North Dakota",
              "Ohio",
              "Oklahoma",
              "Oregon",
              "Pennsylvania",
              "Rhode Isla",
              "South Carolina",
              "South Dakota",
              "Tennessee",
              "Texas",
              "Utah",
              "Vermont",
              "Virginia",
              "Washington",
              "West Virginia",
              "Wisconsin",
              "Wyoming"
            ],
            "_view_name": "DropdownView",
            "style": "IPY_MODEL_a5e02baf86dd4b3c938a8d48923b1d54",
            "_dom_classes": [],
            "description": "state2",
            "_model_name": "DropdownModel",
            "index": 31,
            "_view_module": "@jupyter-widgets/controls",
            "_model_module_version": "1.5.0",
            "_view_count": null,
            "disabled": false,
            "_view_module_version": "1.5.0",
            "description_tooltip": null,
            "_model_module": "@jupyter-widgets/controls",
            "layout": "IPY_MODEL_909419fe73dc483eaea2241f212f33c7"
          }
        },
        "35e4a6a2d63544b78550b9bd028d7375": {
          "model_module": "@jupyter-widgets/output",
          "model_name": "OutputModel",
          "state": {
            "_view_name": "OutputView",
            "msg_id": "",
            "_dom_classes": [],
            "_model_name": "OutputModel",
            "outputs": [
              {
                "output_type": "display_data",
                "metadata": {
                  "tags": []
                },
                "image/png": "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\n",
                "text/plain": "<Figure size 432x288 with 1 Axes>"
              }
            ],
            "_view_module": "@jupyter-widgets/output",
            "_model_module_version": "1.0.0",
            "_view_count": null,
            "_view_module_version": "1.0.0",
            "layout": "IPY_MODEL_6200e1126e1b41f7ae6a7267110db404",
            "_model_module": "@jupyter-widgets/output"
          }
        },
        "e65a6cf2363d403ca39d3a2aa6bb57cd": {
          "model_module": "@jupyter-widgets/controls",
          "model_name": "DescriptionStyleModel",
          "state": {
            "_view_name": "StyleView",
            "_model_name": "DescriptionStyleModel",
            "description_width": "",
            "_view_module": "@jupyter-widgets/base",
            "_model_module_version": "1.5.0",
            "_view_count": null,
            "_view_module_version": "1.2.0",
            "_model_module": "@jupyter-widgets/controls"
          }
        },
        "ff150fe38c6d4bf78f1849410bb3725b": {
          "model_module": "@jupyter-widgets/base",
          "model_name": "LayoutModel",
          "state": {
            "_view_name": "LayoutView",
            "grid_template_rows": null,
            "right": null,
            "justify_content": null,
            "_view_module": "@jupyter-widgets/base",
            "overflow": null,
            "_model_module_version": "1.2.0",
            "_view_count": null,
            "flex_flow": null,
            "width": null,
            "min_width": null,
            "border": null,
            "align_items": null,
            "bottom": null,
            "_model_module": "@jupyter-widgets/base",
            "top": null,
            "grid_column": null,
            "overflow_y": null,
            "overflow_x": null,
            "grid_auto_flow": null,
            "grid_area": null,
            "grid_template_columns": null,
            "flex": null,
            "_model_name": "LayoutModel",
            "justify_items": null,
            "grid_row": null,
            "max_height": null,
            "align_content": null,
            "visibility": null,
            "align_self": null,
            "height": null,
            "min_height": null,
            "padding": null,
            "grid_auto_rows": null,
            "grid_gap": null,
            "max_width": null,
            "order": null,
            "_view_module_version": "1.2.0",
            "grid_template_areas": null,
            "object_position": null,
            "object_fit": null,
            "grid_auto_columns": null,
            "margin": null,
            "display": null,
            "left": null
          }
        },
        "a5e02baf86dd4b3c938a8d48923b1d54": {
          "model_module": "@jupyter-widgets/controls",
          "model_name": "DescriptionStyleModel",
          "state": {
            "_view_name": "StyleView",
            "_model_name": "DescriptionStyleModel",
            "description_width": "",
            "_view_module": "@jupyter-widgets/base",
            "_model_module_version": "1.5.0",
            "_view_count": null,
            "_view_module_version": "1.2.0",
            "_model_module": "@jupyter-widgets/controls"
          }
        },
        "909419fe73dc483eaea2241f212f33c7": {
          "model_module": "@jupyter-widgets/base",
          "model_name": "LayoutModel",
          "state": {
            "_view_name": "LayoutView",
            "grid_template_rows": null,
            "right": null,
            "justify_content": null,
            "_view_module": "@jupyter-widgets/base",
            "overflow": null,
            "_model_module_version": "1.2.0",
            "_view_count": null,
            "flex_flow": null,
            "width": null,
            "min_width": null,
            "border": null,
            "align_items": null,
            "bottom": null,
            "_model_module": "@jupyter-widgets/base",
            "top": null,
            "grid_column": null,
            "overflow_y": null,
            "overflow_x": null,
            "grid_auto_flow": null,
            "grid_area": null,
            "grid_template_columns": null,
            "flex": null,
            "_model_name": "LayoutModel",
            "justify_items": null,
            "grid_row": null,
            "max_height": null,
            "align_content": null,
            "visibility": null,
            "align_self": null,
            "height": null,
            "min_height": null,
            "padding": null,
            "grid_auto_rows": null,
            "grid_gap": null,
            "max_width": null,
            "order": null,
            "_view_module_version": "1.2.0",
            "grid_template_areas": null,
            "object_position": null,
            "object_fit": null,
            "grid_auto_columns": null,
            "margin": null,
            "display": null,
            "left": null
          }
        },
        "6200e1126e1b41f7ae6a7267110db404": {
          "model_module": "@jupyter-widgets/base",
          "model_name": "LayoutModel",
          "state": {
            "_view_name": "LayoutView",
            "grid_template_rows": null,
            "right": null,
            "justify_content": null,
            "_view_module": "@jupyter-widgets/base",
            "overflow": null,
            "_model_module_version": "1.2.0",
            "_view_count": null,
            "flex_flow": null,
            "width": null,
            "min_width": null,
            "border": null,
            "align_items": null,
            "bottom": null,
            "_model_module": "@jupyter-widgets/base",
            "top": null,
            "grid_column": null,
            "overflow_y": null,
            "overflow_x": null,
            "grid_auto_flow": null,
            "grid_area": null,
            "grid_template_columns": null,
            "flex": null,
            "_model_name": "LayoutModel",
            "justify_items": null,
            "grid_row": null,
            "max_height": null,
            "align_content": null,
            "visibility": null,
            "align_self": null,
            "height": null,
            "min_height": null,
            "padding": null,
            "grid_auto_rows": null,
            "grid_gap": null,
            "max_width": null,
            "order": null,
            "_view_module_version": "1.2.0",
            "grid_template_areas": null,
            "object_position": null,
            "object_fit": null,
            "grid_auto_columns": null,
            "margin": null,
            "display": null,
            "left": null
          }
        }
      }
    }
  },
  "cells": [
    {
      "cell_type": "markdown",
      "metadata": {
        "id": "gup8Dvlr9FTU"
      },
      "source": [
        "# Lab 12: A/B Testing and Estimation\n",
        "\n",
        "Welcome to Lab 12 ! In this lab, we'll be taking a look at topics covered in chapters 11, 12, and 13.\n",
        "\n",
        "Outline:\n",
        "\n",
        "     1: A/B Testing\n",
        "    \n",
        "     2: Murder Rates\n",
        "     \n",
        "     3: The Death Penalty\n",
        "     \n",
        "     4: Thai Restaurants\n",
        "     \n",
        "     5: Interpreting Confidence Intervals\n",
        "     \n",
        "Run the cells below to get started.     "
      ]
    },
    {
      "cell_type": "code",
      "metadata": {
        "id": "jxCvGt7v9FTX"
      },
      "source": [
        "from datascience import *\n",
        "import pandas as pd\n",
        "import numpy as np \n",
        "import matplotlib\n",
        "%matplotlib inline\n",
        "import matplotlib.pyplot as plt\n",
        "plt.style.use('fivethirtyeight')"
      ],
      "execution_count": 72,
      "outputs": []
    },
    {
      "cell_type": "code",
      "metadata": {
        "id": "HxuRqcPsAhwU",
        "outputId": "2d1c03fb-8cfd-4b9f-80e4-ae3205c0b46f",
        "colab": {
          "base_uri": "https://localhost:8080/"
        }
      },
      "source": [
        "from google.colab import drive\n",
        "drive.mount('/content/drive')"
      ],
      "execution_count": 73,
      "outputs": [
        {
          "output_type": "stream",
          "text": [
            "Drive already mounted at /content/drive; to attempt to forcibly remount, call drive.mount(\"/content/drive\", force_remount=True).\n"
          ],
          "name": "stdout"
        }
      ]
    },
    {
      "cell_type": "markdown",
      "metadata": {
        "id": "ZXwuJRmd9FTg"
      },
      "source": [
        "## 1. A/B Testing\n",
        "\n",
        "A/B testing is a form of hypothesis testing that allows you to make comparisons between two distributions.\n",
        "\n",
        "You'll almost never be explicitly asked to perform an A/B test. Make sure you can identify situations where the test is appropriate and know how to correctly implement each step."
      ]
    },
    {
      "cell_type": "markdown",
      "metadata": {
        "id": "17Srfwc29FTi"
      },
      "source": [
        "**Question 1:** The following statements are the unordered steps of an A/B hypothesis test:\n",
        "\n",
        "Choose a test statistic (typically the difference in means between two categories)\n",
        "\n",
        "Shuffle the labels of the original sample, find your simulated test statistic, and repeat many times\n",
        "\n",
        "   1. Find the value of the observed test statistic\n",
        "\n",
        "   2. Calculate the p-value based off your observed and simulated test statistics\n",
        "\n",
        "   3. Define a null and alternate model\n",
        "\n",
        "   4. Use the p-value and p-value cutoff to draw a conclusion about the null hypothesis\n",
        "\n",
        "Make an array called ab_test_order that contains the correct order of an A/B test, where the first item of the array is the first step of an A/B test and the last item of the array is the last step of an A/B test"
      ]
    },
    {
      "cell_type": "code",
      "metadata": {
        "id": "VhvyTGAl9FTk",
        "outputId": "fc5e2087-5f0c-4399-cfe7-a92cb5bdb1cb",
        "colab": {
          "base_uri": "https://localhost:8080/"
        }
      },
      "source": [
        "ab_test_order = [3, 1, 2, 4]\n",
        "ab_test_order"
      ],
      "execution_count": 74,
      "outputs": [
        {
          "output_type": "execute_result",
          "data": {
            "text/plain": [
              "[3, 1, 2, 4]"
            ]
          },
          "metadata": {
            "tags": []
          },
          "execution_count": 74
        }
      ]
    },
    {
      "cell_type": "markdown",
      "metadata": {
        "id": "AAi7bM4v9FTq"
      },
      "source": [
        "**Question 2:** If the null hypothesis of an A/B test is correct, should the order of labels affect the differences in means between each group? Why do we shuffle labels in an A/B test?"
      ]
    },
    {
      "cell_type": "markdown",
      "metadata": {
        "id": "rfEe47U_9FTq"
      },
      "source": [
        "If the null hypothesis of an A/B test is correct then all the rearrangements of the labels are equally\n",
        "likely. The labels are shuffled in order to truly test the null hypothesis."
      ]
    },
    {
      "cell_type": "markdown",
      "metadata": {
        "id": "if6h6K_i9FTr"
      },
      "source": [
        "## 2: Murder Rates\n",
        "\n",
        "Punishment for crime has many [philosophical justifications](http://plato.stanford.edu/entries/punishment/#ThePun).  An important one is that fear of punishment may *deter* people from committing crimes.\n",
        "\n",
        "In the United States, some jurisdictions execute people who are convicted of particularly serious crimes, such as murder.  This punishment is called the *death penalty* or *capital punishment*.  The death penalty is controversial, and deterrence has been one focal point of the debate.  There are other reasons to support or oppose the death penalty, but in this project we'll focus on deterrence.\n",
        "\n",
        "The key question about deterrence is:\n",
        "\n",
        "> Through our exploration, does instituting a death penalty for murder actually reduce the number of murders?\n",
        "\n",
        "You might have a strong intuition in one direction, but the evidence turns out to be surprisingly complex.  Different sides have variously argued that the death penalty has no deterrent effect and that each execution prevents 8 murders, all using statistical arguments!  We'll try to come to our own conclusion.\n",
        "\n",
        "#### The data\n",
        "\n",
        "The main data source for this lab comes from a [paper](http://cjlf.org/deathpenalty/DezRubShepDeterFinal.pdf) by three researchers, Dezhbakhsh, Rubin, and Shepherd.  The dataset contains rates of various violent crimes for every year 1960-2003 (44 years) in every US state.  The researchers compiled the data from the FBI's Uniform Crime Reports.\n",
        "\n",
        "Since crimes are committed by people, not states, we need to account for the number of people in each state when we're looking at state-level data.  Murder rates are calculated as follows:\n",
        "\n",
        "$$\\text{murder rate for state X in year Y} = \\frac{\\text{number of murders in state X in year Y}}{\\text{population in state X in year Y}}*100000$$\n",
        "\n",
        "(Murder is rare, so we multiply by 100,000 just to avoid dealing with tiny numbers.)"
      ]
    },
    {
      "cell_type": "code",
      "metadata": {
        "id": "tXOX1OSH9FTs",
        "outputId": "20b643e3-4700-49b1-c268-2ef318dabddf",
        "colab": {
          "base_uri": "https://localhost:8080/",
          "height": 419
        }
      },
      "source": [
        "murder_rates = pd.read_csv('crime_rates.csv')\n",
        "murder_rates = murder_rates.filter(items = ['State', 'Year', 'Population', 'Murder Rate'])\n",
        "murder_rates"
      ],
      "execution_count": 75,
      "outputs": [
        {
          "output_type": "execute_result",
          "data": {
            "text/html": [
              "<div>\n",
              "<style scoped>\n",
              "    .dataframe tbody tr th:only-of-type {\n",
              "        vertical-align: middle;\n",
              "    }\n",
              "\n",
              "    .dataframe tbody tr th {\n",
              "        vertical-align: top;\n",
              "    }\n",
              "\n",
              "    .dataframe thead th {\n",
              "        text-align: right;\n",
              "    }\n",
              "</style>\n",
              "<table border=\"1\" class=\"dataframe\">\n",
              "  <thead>\n",
              "    <tr style=\"text-align: right;\">\n",
              "      <th></th>\n",
              "      <th>State</th>\n",
              "      <th>Year</th>\n",
              "      <th>Population</th>\n",
              "      <th>Murder Rate</th>\n",
              "    </tr>\n",
              "  </thead>\n",
              "  <tbody>\n",
              "    <tr>\n",
              "      <th>0</th>\n",
              "      <td>Alaska</td>\n",
              "      <td>1960</td>\n",
              "      <td>226167</td>\n",
              "      <td>10.2</td>\n",
              "    </tr>\n",
              "    <tr>\n",
              "      <th>1</th>\n",
              "      <td>Alaska</td>\n",
              "      <td>1961</td>\n",
              "      <td>234000</td>\n",
              "      <td>11.5</td>\n",
              "    </tr>\n",
              "    <tr>\n",
              "      <th>2</th>\n",
              "      <td>Alaska</td>\n",
              "      <td>1962</td>\n",
              "      <td>246000</td>\n",
              "      <td>4.5</td>\n",
              "    </tr>\n",
              "    <tr>\n",
              "      <th>3</th>\n",
              "      <td>Alaska</td>\n",
              "      <td>1963</td>\n",
              "      <td>248000</td>\n",
              "      <td>6.5</td>\n",
              "    </tr>\n",
              "    <tr>\n",
              "      <th>4</th>\n",
              "      <td>Alaska</td>\n",
              "      <td>1964</td>\n",
              "      <td>250000</td>\n",
              "      <td>10.4</td>\n",
              "    </tr>\n",
              "    <tr>\n",
              "      <th>...</th>\n",
              "      <td>...</td>\n",
              "      <td>...</td>\n",
              "      <td>...</td>\n",
              "      <td>...</td>\n",
              "    </tr>\n",
              "    <tr>\n",
              "      <th>2195</th>\n",
              "      <td>Wyoming</td>\n",
              "      <td>1999</td>\n",
              "      <td>480000</td>\n",
              "      <td>2.3</td>\n",
              "    </tr>\n",
              "    <tr>\n",
              "      <th>2196</th>\n",
              "      <td>Wyoming</td>\n",
              "      <td>2000</td>\n",
              "      <td>493782</td>\n",
              "      <td>2.4</td>\n",
              "    </tr>\n",
              "    <tr>\n",
              "      <th>2197</th>\n",
              "      <td>Wyoming</td>\n",
              "      <td>2001</td>\n",
              "      <td>494423</td>\n",
              "      <td>1.8</td>\n",
              "    </tr>\n",
              "    <tr>\n",
              "      <th>2198</th>\n",
              "      <td>Wyoming</td>\n",
              "      <td>2002</td>\n",
              "      <td>498830</td>\n",
              "      <td>3.0</td>\n",
              "    </tr>\n",
              "    <tr>\n",
              "      <th>2199</th>\n",
              "      <td>Wyoming</td>\n",
              "      <td>2003</td>\n",
              "      <td>501242</td>\n",
              "      <td>2.8</td>\n",
              "    </tr>\n",
              "  </tbody>\n",
              "</table>\n",
              "<p>2200 rows × 4 columns</p>\n",
              "</div>"
            ],
            "text/plain": [
              "        State  Year  Population  Murder Rate\n",
              "0      Alaska  1960      226167         10.2\n",
              "1      Alaska  1961      234000         11.5\n",
              "2      Alaska  1962      246000          4.5\n",
              "3      Alaska  1963      248000          6.5\n",
              "4      Alaska  1964      250000         10.4\n",
              "...       ...   ...         ...          ...\n",
              "2195  Wyoming  1999      480000          2.3\n",
              "2196  Wyoming  2000      493782          2.4\n",
              "2197  Wyoming  2001      494423          1.8\n",
              "2198  Wyoming  2002      498830          3.0\n",
              "2199  Wyoming  2003      501242          2.8\n",
              "\n",
              "[2200 rows x 4 columns]"
            ]
          },
          "metadata": {
            "tags": []
          },
          "execution_count": 75
        }
      ]
    },
    {
      "cell_type": "markdown",
      "metadata": {
        "id": "8J89YEHK9FTv"
      },
      "source": [
        "Murder rates vary over time, and different states exhibit different trends. The rates in some states change dramatically from year to year, while others are quite stable. Let's plot a couple, just to see the variety.\n",
        "\n",
        "**Question 1:** Create a table called `ak_mn` that will hold the years and murder rates for alaska and minnesota such that the result looks like this:\n",
        "\n",
        "| Year | Murder rate in Alaska | Murder rate in Minnesota |\n",
        "|------|-----------------------|--------------------------|\n",
        "| 1960 | 10.2                  | 1.2                      |\n",
        "| 1961 | 11.5                  | 1                        |\n",
        "| 1962 | 4.5                   | 0.9                      |\n",
        "\n",
        "<center>... (41 rows omitted)</center>"
      ]
    },
    {
      "cell_type": "code",
      "metadata": {
        "id": "Mll8tWK1CdX9"
      },
      "source": [
        "m_rates = Table.read_table('crime_rates.csv').select('State', 'Year', 'Population', 'Murder Rate')\n",
        "m_rates.set_format(\"Population\", NumberFormatter)\n",
        "ak = m_rates.where('State', \"Alaska\").drop('State', 'Population').relabeled(1, 'Murder rate in {}'.format(\"Alaska\"))\n",
        "mn = m_rates.where('State', \"Minnesota\").drop('State', 'Population').relabeled(1, 'Murder rate in {}'.format(\"Minnesota\"))\n",
        "ak_mn = ak.join('Year', mn)"
      ],
      "execution_count": 76,
      "outputs": []
    },
    {
      "cell_type": "markdown",
      "metadata": {
        "id": "brZovsnD9FTw"
      },
      "source": [
        "**Question 2:** Using the table `ak_mn`, draw a line plot that compares the murder rate in Alaska and the murder rate in Minnesota over time."
      ]
    },
    {
      "cell_type": "code",
      "metadata": {
        "id": "nNxqUINF9FTx",
        "outputId": "67cf87f1-04f8-4dd2-c590-7e380ef7ff14",
        "colab": {
          "base_uri": "https://localhost:8080/",
          "height": 304
        }
      },
      "source": [
        "\n",
        "ak_mn.plot('Year')\n",
        "plt.show()"
      ],
      "execution_count": 77,
      "outputs": [
        {
          "output_type": "display_data",
          "data": {
            "image/png": "[encoded data removed]",
            "text/plain": [
              "<Figure size 432x288 with 1 Axes>"
            ]
          },
          "metadata": {
            "tags": []
          }
        }
      ]
    },
    {
      "cell_type": "markdown",
      "metadata": {
        "id": "Hane3qvJ9FT0"
      },
      "source": [
        "Now what about the murder rates of other states? Say, for example, California and New York? Run the cell below to plot the murder rates of different pairs of states."
      ]
    },
    {
      "cell_type": "code",
      "metadata": {
        "id": "7lTyAmkb9FT1",
        "outputId": "e8ecff1a-c60f-407a-d62d-5de10f542f40",
        "colab": {
          "base_uri": "https://localhost:8080/",
          "height": 368,
          "referenced_widgets": [
            "fab0c5a7f5854b6fa013ff114ff4595c",
            "cd9fa4f6ef0449edacf5e6733e3d7bd3",
            "cedd679825f94c6ca1c87eacc46375af",
            "e5e84ede7d8f4d76890be942a730479c",
            "35e4a6a2d63544b78550b9bd028d7375",
            "e65a6cf2363d403ca39d3a2aa6bb57cd",
            "ff150fe38c6d4bf78f1849410bb3725b",
            "a5e02baf86dd4b3c938a8d48923b1d54",
            "909419fe73dc483eaea2241f212f33c7",
            "6200e1126e1b41f7ae6a7267110db404"
          ]
        }
      },
      "source": [
        "# Compare the murder rates of any two states by filling in the blanks below\n",
        "\n",
        "from ipywidgets import interact, interactive, fixed, interact_manual\n",
        "import ipywidgets as widgets\n",
        "\n",
        "m_rates = Table.read_table('crime_rates.csv').select('State', 'Year', 'Population', 'Murder Rate')\n",
        "m_rates.set_format(\"Population\", NumberFormatter)\n",
        "\n",
        "def state(state1, state2):\n",
        "    state1_table = m_rates.where('State', state1).drop('State', 'Population').relabeled(1, 'Murder rate in {}'.format(state1))\n",
        "    state2_table = m_rates.where('State', state2).drop('State', 'Population').relabeled(1, 'Murder rate in {}'.format(state2))\n",
        "    s1_s2 = state1_table.join('Year', state2_table)\n",
        "    s1_s2.plot('Year')\n",
        "    plt.show()\n",
        "\n",
        "states_array = m_rates.group('State').column('State')\n",
        "\n",
        "_ = interact(state,\n",
        "             state1=widgets.Dropdown(options=list(states_array),value='California'),\n",
        "             state2=widgets.Dropdown(options=list(states_array),value='New York')\n",
        "           )"
      ],
      "execution_count": 78,
      "outputs": [
        {
          "output_type": "display_data",
          "data": {
            "application/vnd.jupyter.widget-view+json": {
              "model_id": "fab0c5a7f5854b6fa013ff114ff4595c",
              "version_minor": 0,
              "version_major": 2
            },
            "text/plain": [
              "interactive(children=(Dropdown(description='state1', index=4, options=('Alabama', 'Alaska', 'Arizona', 'Arkans…"
            ]
          },
          "metadata": {
            "tags": []
          }
        }
      ]
    },
    {
      "cell_type": "markdown",
      "metadata": {
        "id": "SVt2jKoe9FT5"
      },
      "source": [
        "## 3. The Death Penalty\n",
        "\n",
        "Some US states have the death penalty, and others don't, and laws have changed over time. In addition to changes in murder rates, we will also consider whether the death penalty was in force in each state and each year.\n",
        "\n",
        "Using this information, we would like to investigate how the presence of the death penalty affects the murder rate of a state."
      ]
    },
    {
      "cell_type": "markdown",
      "metadata": {
        "id": "cIOJHVgb9FT6"
      },
      "source": [
        "**Question 1:** We want to know whether the death penalty *causes* a change in the murder rate.  Why is it not sufficient to compare murder rates in places and times when the death penalty was in force with places and times when it wasn't?\n"
      ]
    },
    {
      "cell_type": "markdown",
      "metadata": {
        "id": "X8wLqGJD9FT6"
      },
      "source": [
        "There could be other factors affecting the murder rate, not only the death penalty enforcement."
      ]
    },
    {
      "cell_type": "markdown",
      "metadata": {
        "id": "8UVAQ45C9FT7"
      },
      "source": [
        "### A Natural Experiment\n",
        "\n",
        "In order to attempt to investigate the causal relationship between the death penalty and murder rates, we're going to take advantage of a *natural experiment*.  A **natural experiment** happens when something other than experimental design applies a treatment to one group and not to another (control) group, and we have some hope that the treatment and control groups don't have any other systematic differences.\n",
        "\n",
        "Our natural experiment is this: in 1972, a Supreme Court decision called *Furman v. Georgia* banned the death penalty throughout the US.  Suddenly, many states went from having the death penalty to not having the death penalty.\n",
        "\n",
        "As a first step, let's see how murder rates changed before and after the court decision.  We'll define the test as follows:\n",
        "\n",
        "> **Population:** All the states that had the death penalty before the 1972 abolition.  (There is no control group for the states that already lacked the death penalty in 1972, so we must omit them.)  This includes all US states **except** Alaska, Hawaii, Maine, Michigan, Wisconsin, and Minnesota.\n",
        "\n",
        "> **Treatment group:** The states in that population, in 1973 (the year after 1972).\n",
        "\n",
        "> **Control group:** The states in that population, in 1971 (the year before 1972).\n",
        "\n",
        "> **Null hypothesis:** Murder rates in 1971 and 1973 come from the same distribution.\n",
        "\n",
        "> **Alternative hypothesis:** Murder rates were higher in 1973 than they were in 1971.\n",
        "\n",
        "Our alternative hypothesis is related to our suspicion that murder rates increase when the death penalty is eliminated.  "
      ]
    },
    {
      "cell_type": "markdown",
      "metadata": {
        "id": "HAeOcw7Q9FT7"
      },
      "source": [
        "**Question 2:** Should we use an A/B test to test these hypotheses? If yes, what is our \"A\" group and what is our \"B\" group?"
      ]
    },
    {
      "cell_type": "markdown",
      "metadata": {
        "id": "sTY6yTPG9FT8"
      },
      "source": [
        "A Group is the Treatment Group and B Group is the Control Group."
      ]
    },
    {
      "cell_type": "markdown",
      "metadata": {
        "id": "STLKYS0I9FT8"
      },
      "source": [
        "The `death_penalty` table below describes whether each state allowed the death penalty in 1971."
      ]
    },
    {
      "cell_type": "code",
      "metadata": {
        "id": "n8rNUgc39FT8",
        "outputId": "b86d1c75-b6de-4957-e418-cb055f777411",
        "colab": {
          "base_uri": "https://localhost:8080/",
          "height": 1000
        }
      },
      "source": [
        "non_death_penalty_states = pd.array(['Alaska', 'Hawaii', 'Maine', 'Michigan', 'Wisconsin', 'Minnesota'])\n",
        "\n",
        "def had_death_penalty_in_1971(state):\n",
        "    \"\"\"Returns True if the argument is the name of a state that had the death penalty in 1971.\"\"\"\n",
        "    return state not in non_death_penalty_states\n",
        "\n",
        "\n",
        "states = murder_rates.groupby('State').count()\n",
        "death_penalties = []\n",
        "for state in states.index:\n",
        "    death_penalties.append(had_death_penalty_in_1971(state))\n",
        "\n",
        "states['Death Penalty'] = death_penalties    \n",
        "states = states.drop(columns = ['Year','Population', 'Murder Rate'])\n",
        "\n",
        "states"
      ],
      "execution_count": 79,
      "outputs": [
        {
          "output_type": "execute_result",
          "data": {
            "text/html": [
              "<div>\n",
              "<style scoped>\n",
              "    .dataframe tbody tr th:only-of-type {\n",
              "        vertical-align: middle;\n",
              "    }\n",
              "\n",
              "    .dataframe tbody tr th {\n",
              "        vertical-align: top;\n",
              "    }\n",
              "\n",
              "    .dataframe thead th {\n",
              "        text-align: right;\n",
              "    }\n",
              "</style>\n",
              "<table border=\"1\" class=\"dataframe\">\n",
              "  <thead>\n",
              "    <tr style=\"text-align: right;\">\n",
              "      <th></th>\n",
              "      <th>Death Penalty</th>\n",
              "    </tr>\n",
              "    <tr>\n",
              "      <th>State</th>\n",
              "      <th></th>\n",
              "    </tr>\n",
              "  </thead>\n",
              "  <tbody>\n",
              "    <tr>\n",
              "      <th>Alabama</th>\n",
              "      <td>True</td>\n",
              "    </tr>\n",
              "    <tr>\n",
              "      <th>Alaska</th>\n",
              "      <td>False</td>\n",
              "    </tr>\n",
              "    <tr>\n",
              "      <th>Arizona</th>\n",
              "      <td>True</td>\n",
              "    </tr>\n",
              "    <tr>\n",
              "      <th>Arkansas</th>\n",
              "      <td>True</td>\n",
              "    </tr>\n",
              "    <tr>\n",
              "      <th>California</th>\n",
              "      <td>True</td>\n",
              "    </tr>\n",
              "    <tr>\n",
              "      <th>Colorado</th>\n",
              "      <td>True</td>\n",
              "    </tr>\n",
              "    <tr>\n",
              "      <th>Connecticut</th>\n",
              "      <td>True</td>\n",
              "    </tr>\n",
              "    <tr>\n",
              "      <th>Delaware</th>\n",
              "      <td>True</td>\n",
              "    </tr>\n",
              "    <tr>\n",
              "      <th>Florida</th>\n",
              "      <td>True</td>\n",
              "    </tr>\n",
              "    <tr>\n",
              "      <th>Georgia</th>\n",
              "      <td>True</td>\n",
              "    </tr>\n",
              "    <tr>\n",
              "      <th>Hawaii</th>\n",
              "      <td>False</td>\n",
              "    </tr>\n",
              "    <tr>\n",
              "      <th>Idaho</th>\n",
              "      <td>True</td>\n",
              "    </tr>\n",
              "    <tr>\n",
              "      <th>Illinois</th>\n",
              "      <td>True</td>\n",
              "    </tr>\n",
              "    <tr>\n",
              "      <th>Indiana</th>\n",
              "      <td>True</td>\n",
              "    </tr>\n",
              "    <tr>\n",
              "      <th>Iowa</th>\n",
              "      <td>True</td>\n",
              "    </tr>\n",
              "    <tr>\n",
              "      <th>Kansas</th>\n",
              "      <td>True</td>\n",
              "    </tr>\n",
              "    <tr>\n",
              "      <th>Kentucky</th>\n",
              "      <td>True</td>\n",
              "    </tr>\n",
              "    <tr>\n",
              "      <th>Louisiana</th>\n",
              "      <td>True</td>\n",
              "    </tr>\n",
              "    <tr>\n",
              "      <th>Maine</th>\n",
              "      <td>False</td>\n",
              "    </tr>\n",
              "    <tr>\n",
              "      <th>Maryland</th>\n",
              "      <td>True</td>\n",
              "    </tr>\n",
              "    <tr>\n",
              "      <th>Massachuse</th>\n",
              "      <td>True</td>\n",
              "    </tr>\n",
              "    <tr>\n",
              "      <th>Michigan</th>\n",
              "      <td>False</td>\n",
              "    </tr>\n",
              "    <tr>\n",
              "      <th>Minnesota</th>\n",
              "      <td>False</td>\n",
              "    </tr>\n",
              "    <tr>\n",
              "      <th>Mississippi</th>\n",
              "      <td>True</td>\n",
              "    </tr>\n",
              "    <tr>\n",
              "      <th>Missouri</th>\n",
              "      <td>True</td>\n",
              "    </tr>\n",
              "    <tr>\n",
              "      <th>Montana</th>\n",
              "      <td>True</td>\n",
              "    </tr>\n",
              "    <tr>\n",
              "      <th>Nebraska</th>\n",
              "      <td>True</td>\n",
              "    </tr>\n",
              "    <tr>\n",
              "      <th>Nevada</th>\n",
              "      <td>True</td>\n",
              "    </tr>\n",
              "    <tr>\n",
              "      <th>New Hampshire</th>\n",
              "      <td>True</td>\n",
              "    </tr>\n",
              "    <tr>\n",
              "      <th>New Jersey</th>\n",
              "      <td>True</td>\n",
              "    </tr>\n",
              "    <tr>\n",
              "      <th>New Mexico</th>\n",
              "      <td>True</td>\n",
              "    </tr>\n",
              "    <tr>\n",
              "      <th>New York</th>\n",
              "      <td>True</td>\n",
              "    </tr>\n",
              "    <tr>\n",
              "      <th>North Carolina</th>\n",
              "      <td>True</td>\n",
              "    </tr>\n",
              "    <tr>\n",
              "      <th>North Dakota</th>\n",
              "      <td>True</td>\n",
              "    </tr>\n",
              "    <tr>\n",
              "      <th>Ohio</th>\n",
              "      <td>True</td>\n",
              "    </tr>\n",
              "    <tr>\n",
              "      <th>Oklahoma</th>\n",
              "      <td>True</td>\n",
              "    </tr>\n",
              "    <tr>\n",
              "      <th>Oregon</th>\n",
              "      <td>True</td>\n",
              "    </tr>\n",
              "    <tr>\n",
              "      <th>Pennsylvania</th>\n",
              "      <td>True</td>\n",
              "    </tr>\n",
              "    <tr>\n",
              "      <th>Rhode Isla</th>\n",
              "      <td>True</td>\n",
              "    </tr>\n",
              "    <tr>\n",
              "      <th>South Carolina</th>\n",
              "      <td>True</td>\n",
              "    </tr>\n",
              "    <tr>\n",
              "      <th>South Dakota</th>\n",
              "      <td>True</td>\n",
              "    </tr>\n",
              "    <tr>\n",
              "      <th>Tennessee</th>\n",
              "      <td>True</td>\n",
              "    </tr>\n",
              "    <tr>\n",
              "      <th>Texas</th>\n",
              "      <td>True</td>\n",
              "    </tr>\n",
              "    <tr>\n",
              "      <th>Utah</th>\n",
              "      <td>True</td>\n",
              "    </tr>\n",
              "    <tr>\n",
              "      <th>Vermont</th>\n",
              "      <td>True</td>\n",
              "    </tr>\n",
              "    <tr>\n",
              "      <th>Virginia</th>\n",
              "      <td>True</td>\n",
              "    </tr>\n",
              "    <tr>\n",
              "      <th>Washington</th>\n",
              "      <td>True</td>\n",
              "    </tr>\n",
              "    <tr>\n",
              "      <th>West Virginia</th>\n",
              "      <td>True</td>\n",
              "    </tr>\n",
              "    <tr>\n",
              "      <th>Wisconsin</th>\n",
              "      <td>False</td>\n",
              "    </tr>\n",
              "    <tr>\n",
              "      <th>Wyoming</th>\n",
              "      <td>True</td>\n",
              "    </tr>\n",
              "  </tbody>\n",
              "</table>\n",
              "</div>"
            ],
            "text/plain": [
              "                Death Penalty\n",
              "State                        \n",
              "Alabama                  True\n",
              "Alaska                  False\n",
              "Arizona                  True\n",
              "Arkansas                 True\n",
              "California               True\n",
              "Colorado                 True\n",
              "Connecticut              True\n",
              "Delaware                 True\n",
              "Florida                  True\n",
              "Georgia                  True\n",
              "Hawaii                  False\n",
              "Idaho                    True\n",
              "Illinois                 True\n",
              "Indiana                  True\n",
              "Iowa                     True\n",
              "Kansas                   True\n",
              "Kentucky                 True\n",
              "Louisiana                True\n",
              "Maine                   False\n",
              "Maryland                 True\n",
              "Massachuse               True\n",
              "Michigan                False\n",
              "Minnesota               False\n",
              "Mississippi              True\n",
              "Missouri                 True\n",
              "Montana                  True\n",
              "Nebraska                 True\n",
              "Nevada                   True\n",
              "New Hampshire            True\n",
              "New Jersey               True\n",
              "New Mexico               True\n",
              "New York                 True\n",
              "North Carolina           True\n",
              "North Dakota             True\n",
              "Ohio                     True\n",
              "Oklahoma                 True\n",
              "Oregon                   True\n",
              "Pennsylvania             True\n",
              "Rhode Isla               True\n",
              "South Carolina           True\n",
              "South Dakota             True\n",
              "Tennessee                True\n",
              "Texas                    True\n",
              "Utah                     True\n",
              "Vermont                  True\n",
              "Virginia                 True\n",
              "Washington               True\n",
              "West Virginia            True\n",
              "Wisconsin               False\n",
              "Wyoming                  True"
            ]
          },
          "metadata": {
            "tags": []
          },
          "execution_count": 79
        }
      ]
    },
    {
      "cell_type": "markdown",
      "metadata": {
        "id": "XOMpGfGo9FT_"
      },
      "source": [
        "**Question 3:** Use the `death_penalty` and `murder_rates` tables to find murder rates in 1971 for states with the death penalty before the abolition. Create a new table `preban_rates` that contains the same information as `murder_rates`, along with a column `Death Penalty` that contains booleans (`True` or `False`) describing if states had the death penalty in 1971."
      ]
    },
    {
      "cell_type": "code",
      "metadata": {
        "id": "NRepmvXLLNIE",
        "outputId": "71f46cd8-56e3-4211-e586-30596464aa90",
        "colab": {
          "base_uri": "https://localhost:8080/",
          "height": 1000
        }
      },
      "source": [
        "death_penalty = states\n",
        "death_penalty = death_penalty.reset_index()\n",
        "t_death_penalty = death_penalty[death_penalty['Death Penalty']==True]\n",
        "t_death_penalty"
      ],
      "execution_count": 80,
      "outputs": [
        {
          "output_type": "execute_result",
          "data": {
            "text/html": [
              "<div>\n",
              "<style scoped>\n",
              "    .dataframe tbody tr th:only-of-type {\n",
              "        vertical-align: middle;\n",
              "    }\n",
              "\n",
              "    .dataframe tbody tr th {\n",
              "        vertical-align: top;\n",
              "    }\n",
              "\n",
              "    .dataframe thead th {\n",
              "        text-align: right;\n",
              "    }\n",
              "</style>\n",
              "<table border=\"1\" class=\"dataframe\">\n",
              "  <thead>\n",
              "    <tr style=\"text-align: right;\">\n",
              "      <th></th>\n",
              "      <th>State</th>\n",
              "      <th>Death Penalty</th>\n",
              "    </tr>\n",
              "  </thead>\n",
              "  <tbody>\n",
              "    <tr>\n",
              "      <th>0</th>\n",
              "      <td>Alabama</td>\n",
              "      <td>True</td>\n",
              "    </tr>\n",
              "    <tr>\n",
              "      <th>2</th>\n",
              "      <td>Arizona</td>\n",
              "      <td>True</td>\n",
              "    </tr>\n",
              "    <tr>\n",
              "      <th>3</th>\n",
              "      <td>Arkansas</td>\n",
              "      <td>True</td>\n",
              "    </tr>\n",
              "    <tr>\n",
              "      <th>4</th>\n",
              "      <td>California</td>\n",
              "      <td>True</td>\n",
              "    </tr>\n",
              "    <tr>\n",
              "      <th>5</th>\n",
              "      <td>Colorado</td>\n",
              "      <td>True</td>\n",
              "    </tr>\n",
              "    <tr>\n",
              "      <th>6</th>\n",
              "      <td>Connecticut</td>\n",
              "      <td>True</td>\n",
              "    </tr>\n",
              "    <tr>\n",
              "      <th>7</th>\n",
              "      <td>Delaware</td>\n",
              "      <td>True</td>\n",
              "    </tr>\n",
              "    <tr>\n",
              "      <th>8</th>\n",
              "      <td>Florida</td>\n",
              "      <td>True</td>\n",
              "    </tr>\n",
              "    <tr>\n",
              "      <th>9</th>\n",
              "      <td>Georgia</td>\n",
              "      <td>True</td>\n",
              "    </tr>\n",
              "    <tr>\n",
              "      <th>11</th>\n",
              "      <td>Idaho</td>\n",
              "      <td>True</td>\n",
              "    </tr>\n",
              "    <tr>\n",
              "      <th>12</th>\n",
              "      <td>Illinois</td>\n",
              "      <td>True</td>\n",
              "    </tr>\n",
              "    <tr>\n",
              "      <th>13</th>\n",
              "      <td>Indiana</td>\n",
              "      <td>True</td>\n",
              "    </tr>\n",
              "    <tr>\n",
              "      <th>14</th>\n",
              "      <td>Iowa</td>\n",
              "      <td>True</td>\n",
              "    </tr>\n",
              "    <tr>\n",
              "      <th>15</th>\n",
              "      <td>Kansas</td>\n",
              "      <td>True</td>\n",
              "    </tr>\n",
              "    <tr>\n",
              "      <th>16</th>\n",
              "      <td>Kentucky</td>\n",
              "      <td>True</td>\n",
              "    </tr>\n",
              "    <tr>\n",
              "      <th>17</th>\n",
              "      <td>Louisiana</td>\n",
              "      <td>True</td>\n",
              "    </tr>\n",
              "    <tr>\n",
              "      <th>19</th>\n",
              "      <td>Maryland</td>\n",
              "      <td>True</td>\n",
              "    </tr>\n",
              "    <tr>\n",
              "      <th>20</th>\n",
              "      <td>Massachuse</td>\n",
              "      <td>True</td>\n",
              "    </tr>\n",
              "    <tr>\n",
              "      <th>23</th>\n",
              "      <td>Mississippi</td>\n",
              "      <td>True</td>\n",
              "    </tr>\n",
              "    <tr>\n",
              "      <th>24</th>\n",
              "      <td>Missouri</td>\n",
              "      <td>True</td>\n",
              "    </tr>\n",
              "    <tr>\n",
              "      <th>25</th>\n",
              "      <td>Montana</td>\n",
              "      <td>True</td>\n",
              "    </tr>\n",
              "    <tr>\n",
              "      <th>26</th>\n",
              "      <td>Nebraska</td>\n",
              "      <td>True</td>\n",
              "    </tr>\n",
              "    <tr>\n",
              "      <th>27</th>\n",
              "      <td>Nevada</td>\n",
              "      <td>True</td>\n",
              "    </tr>\n",
              "    <tr>\n",
              "      <th>28</th>\n",
              "      <td>New Hampshire</td>\n",
              "      <td>True</td>\n",
              "    </tr>\n",
              "    <tr>\n",
              "      <th>29</th>\n",
              "      <td>New Jersey</td>\n",
              "      <td>True</td>\n",
              "    </tr>\n",
              "    <tr>\n",
              "      <th>30</th>\n",
              "      <td>New Mexico</td>\n",
              "      <td>True</td>\n",
              "    </tr>\n",
              "    <tr>\n",
              "      <th>31</th>\n",
              "      <td>New York</td>\n",
              "      <td>True</td>\n",
              "    </tr>\n",
              "    <tr>\n",
              "      <th>32</th>\n",
              "      <td>North Carolina</td>\n",
              "      <td>True</td>\n",
              "    </tr>\n",
              "    <tr>\n",
              "      <th>33</th>\n",
              "      <td>North Dakota</td>\n",
              "      <td>True</td>\n",
              "    </tr>\n",
              "    <tr>\n",
              "      <th>34</th>\n",
              "      <td>Ohio</td>\n",
              "      <td>True</td>\n",
              "    </tr>\n",
              "    <tr>\n",
              "      <th>35</th>\n",
              "      <td>Oklahoma</td>\n",
              "      <td>True</td>\n",
              "    </tr>\n",
              "    <tr>\n",
              "      <th>36</th>\n",
              "      <td>Oregon</td>\n",
              "      <td>True</td>\n",
              "    </tr>\n",
              "    <tr>\n",
              "      <th>37</th>\n",
              "      <td>Pennsylvania</td>\n",
              "      <td>True</td>\n",
              "    </tr>\n",
              "    <tr>\n",
              "      <th>38</th>\n",
              "      <td>Rhode Isla</td>\n",
              "      <td>True</td>\n",
              "    </tr>\n",
              "    <tr>\n",
              "      <th>39</th>\n",
              "      <td>South Carolina</td>\n",
              "      <td>True</td>\n",
              "    </tr>\n",
              "    <tr>\n",
              "      <th>40</th>\n",
              "      <td>South Dakota</td>\n",
              "      <td>True</td>\n",
              "    </tr>\n",
              "    <tr>\n",
              "      <th>41</th>\n",
              "      <td>Tennessee</td>\n",
              "      <td>True</td>\n",
              "    </tr>\n",
              "    <tr>\n",
              "      <th>42</th>\n",
              "      <td>Texas</td>\n",
              "      <td>True</td>\n",
              "    </tr>\n",
              "    <tr>\n",
              "      <th>43</th>\n",
              "      <td>Utah</td>\n",
              "      <td>True</td>\n",
              "    </tr>\n",
              "    <tr>\n",
              "      <th>44</th>\n",
              "      <td>Vermont</td>\n",
              "      <td>True</td>\n",
              "    </tr>\n",
              "    <tr>\n",
              "      <th>45</th>\n",
              "      <td>Virginia</td>\n",
              "      <td>True</td>\n",
              "    </tr>\n",
              "    <tr>\n",
              "      <th>46</th>\n",
              "      <td>Washington</td>\n",
              "      <td>True</td>\n",
              "    </tr>\n",
              "    <tr>\n",
              "      <th>47</th>\n",
              "      <td>West Virginia</td>\n",
              "      <td>True</td>\n",
              "    </tr>\n",
              "    <tr>\n",
              "      <th>49</th>\n",
              "      <td>Wyoming</td>\n",
              "      <td>True</td>\n",
              "    </tr>\n",
              "  </tbody>\n",
              "</table>\n",
              "</div>"
            ],
            "text/plain": [
              "             State  Death Penalty\n",
              "0          Alabama           True\n",
              "2          Arizona           True\n",
              "3         Arkansas           True\n",
              "4       California           True\n",
              "5         Colorado           True\n",
              "6      Connecticut           True\n",
              "7         Delaware           True\n",
              "8          Florida           True\n",
              "9          Georgia           True\n",
              "11           Idaho           True\n",
              "12        Illinois           True\n",
              "13         Indiana           True\n",
              "14            Iowa           True\n",
              "15          Kansas           True\n",
              "16        Kentucky           True\n",
              "17       Louisiana           True\n",
              "19        Maryland           True\n",
              "20      Massachuse           True\n",
              "23     Mississippi           True\n",
              "24        Missouri           True\n",
              "25         Montana           True\n",
              "26        Nebraska           True\n",
              "27          Nevada           True\n",
              "28   New Hampshire           True\n",
              "29      New Jersey           True\n",
              "30      New Mexico           True\n",
              "31        New York           True\n",
              "32  North Carolina           True\n",
              "33    North Dakota           True\n",
              "34            Ohio           True\n",
              "35        Oklahoma           True\n",
              "36          Oregon           True\n",
              "37    Pennsylvania           True\n",
              "38      Rhode Isla           True\n",
              "39  South Carolina           True\n",
              "40    South Dakota           True\n",
              "41       Tennessee           True\n",
              "42           Texas           True\n",
              "43            Utah           True\n",
              "44         Vermont           True\n",
              "45        Virginia           True\n",
              "46      Washington           True\n",
              "47   West Virginia           True\n",
              "49         Wyoming           True"
            ]
          },
          "metadata": {
            "tags": []
          },
          "execution_count": 80
        }
      ]
    },
    {
      "cell_type": "code",
      "metadata": {
        "id": "Xj04vSps9FT_",
        "outputId": "7543ee68-d873-44ad-8560-3c1f89a53394",
        "colab": {
          "base_uri": "https://localhost:8080/",
          "height": 1000
        }
      },
      "source": [
        "murder_rates_1971 = murder_rates[murder_rates[\"Year\"] == 1971]\n",
        "preban_rates = murder_rates_1971.join(t_death_penalty.set_index(\"State\"), on=\"State\")\n",
        "preban_rates = preban_rates.set_index(\"State\")\n",
        "preban_rates = preban_rates.reset_index()\n",
        "preban_index = preban_rates[preban_rates[\"Death Penalty\"] != True].index \n",
        "preban_rates = preban_rates.drop(preban_index)\n",
        "preban_rates"
      ],
      "execution_count": 87,
      "outputs": [
        {
          "output_type": "execute_result",
          "data": {
            "text/html": [
              "<div>\n",
              "<style scoped>\n",
              "    .dataframe tbody tr th:only-of-type {\n",
              "        vertical-align: middle;\n",
              "    }\n",
              "\n",
              "    .dataframe tbody tr th {\n",
              "        vertical-align: top;\n",
              "    }\n",
              "\n",
              "    .dataframe thead th {\n",
              "        text-align: right;\n",
              "    }\n",
              "</style>\n",
              "<table border=\"1\" class=\"dataframe\">\n",
              "  <thead>\n",
              "    <tr style=\"text-align: right;\">\n",
              "      <th></th>\n",
              "      <th>State</th>\n",
              "      <th>Year</th>\n",
              "      <th>Population</th>\n",
              "      <th>Murder Rate</th>\n",
              "      <th>Death Penalty</th>\n",
              "    </tr>\n",
              "  </thead>\n",
              "  <tbody>\n",
              "    <tr>\n",
              "      <th>1</th>\n",
              "      <td>Alabama</td>\n",
              "      <td>1971</td>\n",
              "      <td>3479000</td>\n",
              "      <td>15.1</td>\n",
              "      <td>True</td>\n",
              "    </tr>\n",
              "    <tr>\n",
              "      <th>2</th>\n",
              "      <td>Arkansas</td>\n",
              "      <td>1971</td>\n",
              "      <td>1944000</td>\n",
              "      <td>10.5</td>\n",
              "      <td>True</td>\n",
              "    </tr>\n",
              "    <tr>\n",
              "      <th>3</th>\n",
              "      <td>Arizona</td>\n",
              "      <td>1971</td>\n",
              "      <td>1849000</td>\n",
              "      <td>6.7</td>\n",
              "      <td>True</td>\n",
              "    </tr>\n",
              "    <tr>\n",
              "      <th>4</th>\n",
              "      <td>California</td>\n",
              "      <td>1971</td>\n",
              "      <td>20223000</td>\n",
              "      <td>8.1</td>\n",
              "      <td>True</td>\n",
              "    </tr>\n",
              "    <tr>\n",
              "      <th>5</th>\n",
              "      <td>Colorado</td>\n",
              "      <td>1971</td>\n",
              "      <td>2283000</td>\n",
              "      <td>6.5</td>\n",
              "      <td>True</td>\n",
              "    </tr>\n",
              "    <tr>\n",
              "      <th>6</th>\n",
              "      <td>Connecticut</td>\n",
              "      <td>1971</td>\n",
              "      <td>3081000</td>\n",
              "      <td>3.1</td>\n",
              "      <td>True</td>\n",
              "    </tr>\n",
              "    <tr>\n",
              "      <th>7</th>\n",
              "      <td>Delaware</td>\n",
              "      <td>1971</td>\n",
              "      <td>558000</td>\n",
              "      <td>6.1</td>\n",
              "      <td>True</td>\n",
              "    </tr>\n",
              "    <tr>\n",
              "      <th>8</th>\n",
              "      <td>Florida</td>\n",
              "      <td>1971</td>\n",
              "      <td>7041000</td>\n",
              "      <td>13.3</td>\n",
              "      <td>True</td>\n",
              "    </tr>\n",
              "    <tr>\n",
              "      <th>9</th>\n",
              "      <td>Georgia</td>\n",
              "      <td>1971</td>\n",
              "      <td>4664000</td>\n",
              "      <td>16.0</td>\n",
              "      <td>True</td>\n",
              "    </tr>\n",
              "    <tr>\n",
              "      <th>11</th>\n",
              "      <td>Iowa</td>\n",
              "      <td>1971</td>\n",
              "      <td>2852000</td>\n",
              "      <td>1.8</td>\n",
              "      <td>True</td>\n",
              "    </tr>\n",
              "    <tr>\n",
              "      <th>12</th>\n",
              "      <td>Idaho</td>\n",
              "      <td>1971</td>\n",
              "      <td>732000</td>\n",
              "      <td>3.3</td>\n",
              "      <td>True</td>\n",
              "    </tr>\n",
              "    <tr>\n",
              "      <th>13</th>\n",
              "      <td>Illinois</td>\n",
              "      <td>1971</td>\n",
              "      <td>11196000</td>\n",
              "      <td>9.6</td>\n",
              "      <td>True</td>\n",
              "    </tr>\n",
              "    <tr>\n",
              "      <th>14</th>\n",
              "      <td>Indiana</td>\n",
              "      <td>1971</td>\n",
              "      <td>5274000</td>\n",
              "      <td>5.3</td>\n",
              "      <td>True</td>\n",
              "    </tr>\n",
              "    <tr>\n",
              "      <th>15</th>\n",
              "      <td>Kansas</td>\n",
              "      <td>1971</td>\n",
              "      <td>2258000</td>\n",
              "      <td>5.1</td>\n",
              "      <td>True</td>\n",
              "    </tr>\n",
              "    <tr>\n",
              "      <th>16</th>\n",
              "      <td>Kentucky</td>\n",
              "      <td>1971</td>\n",
              "      <td>3282000</td>\n",
              "      <td>10.9</td>\n",
              "      <td>True</td>\n",
              "    </tr>\n",
              "    <tr>\n",
              "      <th>17</th>\n",
              "      <td>Louisiana</td>\n",
              "      <td>1971</td>\n",
              "      <td>3681000</td>\n",
              "      <td>11.1</td>\n",
              "      <td>True</td>\n",
              "    </tr>\n",
              "    <tr>\n",
              "      <th>18</th>\n",
              "      <td>Massachuse</td>\n",
              "      <td>1971</td>\n",
              "      <td>5758000</td>\n",
              "      <td>3.8</td>\n",
              "      <td>True</td>\n",
              "    </tr>\n",
              "    <tr>\n",
              "      <th>19</th>\n",
              "      <td>Maryland</td>\n",
              "      <td>1971</td>\n",
              "      <td>4000000</td>\n",
              "      <td>11.2</td>\n",
              "      <td>True</td>\n",
              "    </tr>\n",
              "    <tr>\n",
              "      <th>23</th>\n",
              "      <td>Missouri</td>\n",
              "      <td>1971</td>\n",
              "      <td>4749000</td>\n",
              "      <td>8.9</td>\n",
              "      <td>True</td>\n",
              "    </tr>\n",
              "    <tr>\n",
              "      <th>24</th>\n",
              "      <td>Mississippi</td>\n",
              "      <td>1971</td>\n",
              "      <td>2226000</td>\n",
              "      <td>14.7</td>\n",
              "      <td>True</td>\n",
              "    </tr>\n",
              "    <tr>\n",
              "      <th>25</th>\n",
              "      <td>Montana</td>\n",
              "      <td>1971</td>\n",
              "      <td>708000</td>\n",
              "      <td>4.4</td>\n",
              "      <td>True</td>\n",
              "    </tr>\n",
              "    <tr>\n",
              "      <th>26</th>\n",
              "      <td>North Carolina</td>\n",
              "      <td>1971</td>\n",
              "      <td>5146000</td>\n",
              "      <td>11.8</td>\n",
              "      <td>True</td>\n",
              "    </tr>\n",
              "    <tr>\n",
              "      <th>27</th>\n",
              "      <td>North Dakota</td>\n",
              "      <td>1971</td>\n",
              "      <td>625000</td>\n",
              "      <td>1.3</td>\n",
              "      <td>True</td>\n",
              "    </tr>\n",
              "    <tr>\n",
              "      <th>28</th>\n",
              "      <td>Nebraska</td>\n",
              "      <td>1971</td>\n",
              "      <td>1512000</td>\n",
              "      <td>2.6</td>\n",
              "      <td>True</td>\n",
              "    </tr>\n",
              "    <tr>\n",
              "      <th>29</th>\n",
              "      <td>New Hampshire</td>\n",
              "      <td>1971</td>\n",
              "      <td>762000</td>\n",
              "      <td>2.2</td>\n",
              "      <td>True</td>\n",
              "    </tr>\n",
              "    <tr>\n",
              "      <th>30</th>\n",
              "      <td>New Jersey</td>\n",
              "      <td>1971</td>\n",
              "      <td>7300000</td>\n",
              "      <td>5.8</td>\n",
              "      <td>True</td>\n",
              "    </tr>\n",
              "    <tr>\n",
              "      <th>31</th>\n",
              "      <td>New Mexico</td>\n",
              "      <td>1971</td>\n",
              "      <td>1030000</td>\n",
              "      <td>12.0</td>\n",
              "      <td>True</td>\n",
              "    </tr>\n",
              "    <tr>\n",
              "      <th>32</th>\n",
              "      <td>Nevada</td>\n",
              "      <td>1971</td>\n",
              "      <td>507000</td>\n",
              "      <td>11.4</td>\n",
              "      <td>True</td>\n",
              "    </tr>\n",
              "    <tr>\n",
              "      <th>33</th>\n",
              "      <td>New York</td>\n",
              "      <td>1971</td>\n",
              "      <td>18391000</td>\n",
              "      <td>9.9</td>\n",
              "      <td>True</td>\n",
              "    </tr>\n",
              "    <tr>\n",
              "      <th>34</th>\n",
              "      <td>Ohio</td>\n",
              "      <td>1971</td>\n",
              "      <td>10778000</td>\n",
              "      <td>7.5</td>\n",
              "      <td>True</td>\n",
              "    </tr>\n",
              "    <tr>\n",
              "      <th>35</th>\n",
              "      <td>Oklahoma</td>\n",
              "      <td>1971</td>\n",
              "      <td>2610000</td>\n",
              "      <td>6.5</td>\n",
              "      <td>True</td>\n",
              "    </tr>\n",
              "    <tr>\n",
              "      <th>36</th>\n",
              "      <td>Oregon</td>\n",
              "      <td>1971</td>\n",
              "      <td>2158000</td>\n",
              "      <td>3.2</td>\n",
              "      <td>True</td>\n",
              "    </tr>\n",
              "    <tr>\n",
              "      <th>37</th>\n",
              "      <td>Pennsylvania</td>\n",
              "      <td>1971</td>\n",
              "      <td>11879000</td>\n",
              "      <td>6.2</td>\n",
              "      <td>True</td>\n",
              "    </tr>\n",
              "    <tr>\n",
              "      <th>38</th>\n",
              "      <td>Rhode Isla</td>\n",
              "      <td>1971</td>\n",
              "      <td>960000</td>\n",
              "      <td>3.0</td>\n",
              "      <td>True</td>\n",
              "    </tr>\n",
              "    <tr>\n",
              "      <th>39</th>\n",
              "      <td>South Carolina</td>\n",
              "      <td>1971</td>\n",
              "      <td>2627000</td>\n",
              "      <td>16.6</td>\n",
              "      <td>True</td>\n",
              "    </tr>\n",
              "    <tr>\n",
              "      <th>40</th>\n",
              "      <td>South Dakota</td>\n",
              "      <td>1971</td>\n",
              "      <td>670000</td>\n",
              "      <td>1.2</td>\n",
              "      <td>True</td>\n",
              "    </tr>\n",
              "    <tr>\n",
              "      <th>41</th>\n",
              "      <td>Tennessee</td>\n",
              "      <td>1971</td>\n",
              "      <td>3990000</td>\n",
              "      <td>12.4</td>\n",
              "      <td>True</td>\n",
              "    </tr>\n",
              "    <tr>\n",
              "      <th>42</th>\n",
              "      <td>Texas</td>\n",
              "      <td>1971</td>\n",
              "      <td>11460000</td>\n",
              "      <td>12.1</td>\n",
              "      <td>True</td>\n",
              "    </tr>\n",
              "    <tr>\n",
              "      <th>43</th>\n",
              "      <td>Utah</td>\n",
              "      <td>1971</td>\n",
              "      <td>1099000</td>\n",
              "      <td>2.7</td>\n",
              "      <td>True</td>\n",
              "    </tr>\n",
              "    <tr>\n",
              "      <th>44</th>\n",
              "      <td>Virginia</td>\n",
              "      <td>1971</td>\n",
              "      <td>4714000</td>\n",
              "      <td>10.1</td>\n",
              "      <td>True</td>\n",
              "    </tr>\n",
              "    <tr>\n",
              "      <th>45</th>\n",
              "      <td>Vermont</td>\n",
              "      <td>1971</td>\n",
              "      <td>458000</td>\n",
              "      <td>1.1</td>\n",
              "      <td>True</td>\n",
              "    </tr>\n",
              "    <tr>\n",
              "      <th>46</th>\n",
              "      <td>Washington</td>\n",
              "      <td>1971</td>\n",
              "      <td>3449000</td>\n",
              "      <td>3.8</td>\n",
              "      <td>True</td>\n",
              "    </tr>\n",
              "    <tr>\n",
              "      <th>48</th>\n",
              "      <td>West Virginia</td>\n",
              "      <td>1971</td>\n",
              "      <td>1752000</td>\n",
              "      <td>6.4</td>\n",
              "      <td>True</td>\n",
              "    </tr>\n",
              "    <tr>\n",
              "      <th>49</th>\n",
              "      <td>Wyoming</td>\n",
              "      <td>1971</td>\n",
              "      <td>340000</td>\n",
              "      <td>5.3</td>\n",
              "      <td>True</td>\n",
              "    </tr>\n",
              "  </tbody>\n",
              "</table>\n",
              "</div>"
            ],
            "text/plain": [
              "             State  Year  Population  Murder Rate Death Penalty\n",
              "1          Alabama  1971     3479000         15.1          True\n",
              "2         Arkansas  1971     1944000         10.5          True\n",
              "3          Arizona  1971     1849000          6.7          True\n",
              "4       California  1971    20223000          8.1          True\n",
              "5         Colorado  1971     2283000          6.5          True\n",
              "6      Connecticut  1971     3081000          3.1          True\n",
              "7         Delaware  1971      558000          6.1          True\n",
              "8          Florida  1971     7041000         13.3          True\n",
              "9          Georgia  1971     4664000         16.0          True\n",
              "11            Iowa  1971     2852000          1.8          True\n",
              "12           Idaho  1971      732000          3.3          True\n",
              "13        Illinois  1971    11196000          9.6          True\n",
              "14         Indiana  1971     5274000          5.3          True\n",
              "15          Kansas  1971     2258000          5.1          True\n",
              "16        Kentucky  1971     3282000         10.9          True\n",
              "17       Louisiana  1971     3681000         11.1          True\n",
              "18      Massachuse  1971     5758000          3.8          True\n",
              "19        Maryland  1971     4000000         11.2          True\n",
              "23        Missouri  1971     4749000          8.9          True\n",
              "24     Mississippi  1971     2226000         14.7          True\n",
              "25         Montana  1971      708000          4.4          True\n",
              "26  North Carolina  1971     5146000         11.8          True\n",
              "27    North Dakota  1971      625000          1.3          True\n",
              "28        Nebraska  1971     1512000          2.6          True\n",
              "29   New Hampshire  1971      762000          2.2          True\n",
              "30      New Jersey  1971     7300000          5.8          True\n",
              "31      New Mexico  1971     1030000         12.0          True\n",
              "32          Nevada  1971      507000         11.4          True\n",
              "33        New York  1971    18391000          9.9          True\n",
              "34            Ohio  1971    10778000          7.5          True\n",
              "35        Oklahoma  1971     2610000          6.5          True\n",
              "36          Oregon  1971     2158000          3.2          True\n",
              "37    Pennsylvania  1971    11879000          6.2          True\n",
              "38      Rhode Isla  1971      960000          3.0          True\n",
              "39  South Carolina  1971     2627000         16.6          True\n",
              "40    South Dakota  1971      670000          1.2          True\n",
              "41       Tennessee  1971     3990000         12.4          True\n",
              "42           Texas  1971    11460000         12.1          True\n",
              "43            Utah  1971     1099000          2.7          True\n",
              "44        Virginia  1971     4714000         10.1          True\n",
              "45         Vermont  1971      458000          1.1          True\n",
              "46      Washington  1971     3449000          3.8          True\n",
              "48   West Virginia  1971     1752000          6.4          True\n",
              "49         Wyoming  1971      340000          5.3          True"
            ]
          },
          "metadata": {
            "tags": []
          },
          "execution_count": 87
        }
      ]
    },
    {
      "cell_type": "markdown",
      "metadata": {
        "id": "_UxHZ5Dv9FUC"
      },
      "source": [
        "**Question 4:** Create a table `postban_rates` that contains the same information as preban_rates, but for 1973 instead of 1971. postban_rates should only contain the states found in preban_rates."
      ]
    },
    {
      "cell_type": "code",
      "metadata": {
        "id": "du6F9Gld9FUC",
        "outputId": "f9e1c598-801e-4c72-ce92-71f64796bbe3",
        "colab": {
          "base_uri": "https://localhost:8080/",
          "height": 1000
        }
      },
      "source": [
        "murder_rates_1973 = murder_rates[murder_rates[\"Year\"] == 1973]\n",
        "postban_rates = murder_rates_1973.join(t_death_penalty.set_index(\"State\"), on=\"State\")\n",
        "postban_rates = postban_rates.set_index(\"State\")\n",
        "postban_rates = postban_rates.reset_index()\n",
        "postban_index = postban_rates[postban_rates[\"Death Penalty\"] != True].index \n",
        "postban_rates = postban_rates.drop(postban_index)\n",
        "postban_rates[\"Death Penalty\"] = False\n",
        "postban_rates"
      ],
      "execution_count": 97,
      "outputs": [
        {
          "output_type": "execute_result",
          "data": {
            "text/html": [
              "<div>\n",
              "<style scoped>\n",
              "    .dataframe tbody tr th:only-of-type {\n",
              "        vertical-align: middle;\n",
              "    }\n",
              "\n",
              "    .dataframe tbody tr th {\n",
              "        vertical-align: top;\n",
              "    }\n",
              "\n",
              "    .dataframe thead th {\n",
              "        text-align: right;\n",
              "    }\n",
              "</style>\n",
              "<table border=\"1\" class=\"dataframe\">\n",
              "  <thead>\n",
              "    <tr style=\"text-align: right;\">\n",
              "      <th></th>\n",
              "      <th>State</th>\n",
              "      <th>Year</th>\n",
              "      <th>Population</th>\n",
              "      <th>Murder Rate</th>\n",
              "      <th>Death Penalty</th>\n",
              "    </tr>\n",
              "  </thead>\n",
              "  <tbody>\n",
              "    <tr>\n",
              "      <th>1</th>\n",
              "      <td>Alabama</td>\n",
              "      <td>1973</td>\n",
              "      <td>3539000</td>\n",
              "      <td>13.2</td>\n",
              "      <td>False</td>\n",
              "    </tr>\n",
              "    <tr>\n",
              "      <th>2</th>\n",
              "      <td>Arkansas</td>\n",
              "      <td>1973</td>\n",
              "      <td>2037000</td>\n",
              "      <td>8.8</td>\n",
              "      <td>False</td>\n",
              "    </tr>\n",
              "    <tr>\n",
              "      <th>3</th>\n",
              "      <td>Arizona</td>\n",
              "      <td>1973</td>\n",
              "      <td>2058000</td>\n",
              "      <td>8.1</td>\n",
              "      <td>False</td>\n",
              "    </tr>\n",
              "    <tr>\n",
              "      <th>4</th>\n",
              "      <td>California</td>\n",
              "      <td>1973</td>\n",
              "      <td>20601000</td>\n",
              "      <td>9.0</td>\n",
              "      <td>False</td>\n",
              "    </tr>\n",
              "    <tr>\n",
              "      <th>5</th>\n",
              "      <td>Colorado</td>\n",
              "      <td>1973</td>\n",
              "      <td>2437000</td>\n",
              "      <td>7.9</td>\n",
              "      <td>False</td>\n",
              "    </tr>\n",
              "    <tr>\n",
              "      <th>6</th>\n",
              "      <td>Connecticut</td>\n",
              "      <td>1973</td>\n",
              "      <td>3076000</td>\n",
              "      <td>3.3</td>\n",
              "      <td>False</td>\n",
              "    </tr>\n",
              "    <tr>\n",
              "      <th>7</th>\n",
              "      <td>Delaware</td>\n",
              "      <td>1973</td>\n",
              "      <td>576000</td>\n",
              "      <td>5.9</td>\n",
              "      <td>False</td>\n",
              "    </tr>\n",
              "    <tr>\n",
              "      <th>8</th>\n",
              "      <td>Florida</td>\n",
              "      <td>1973</td>\n",
              "      <td>7678000</td>\n",
              "      <td>15.4</td>\n",
              "      <td>False</td>\n",
              "    </tr>\n",
              "    <tr>\n",
              "      <th>9</th>\n",
              "      <td>Georgia</td>\n",
              "      <td>1973</td>\n",
              "      <td>4786000</td>\n",
              "      <td>17.4</td>\n",
              "      <td>False</td>\n",
              "    </tr>\n",
              "    <tr>\n",
              "      <th>11</th>\n",
              "      <td>Iowa</td>\n",
              "      <td>1973</td>\n",
              "      <td>2904000</td>\n",
              "      <td>2.2</td>\n",
              "      <td>False</td>\n",
              "    </tr>\n",
              "    <tr>\n",
              "      <th>12</th>\n",
              "      <td>Idaho</td>\n",
              "      <td>1973</td>\n",
              "      <td>770000</td>\n",
              "      <td>2.6</td>\n",
              "      <td>False</td>\n",
              "    </tr>\n",
              "    <tr>\n",
              "      <th>13</th>\n",
              "      <td>Illinois</td>\n",
              "      <td>1973</td>\n",
              "      <td>11236000</td>\n",
              "      <td>10.4</td>\n",
              "      <td>False</td>\n",
              "    </tr>\n",
              "    <tr>\n",
              "      <th>14</th>\n",
              "      <td>Indiana</td>\n",
              "      <td>1973</td>\n",
              "      <td>5316000</td>\n",
              "      <td>7.3</td>\n",
              "      <td>False</td>\n",
              "    </tr>\n",
              "    <tr>\n",
              "      <th>15</th>\n",
              "      <td>Kansas</td>\n",
              "      <td>1973</td>\n",
              "      <td>2279000</td>\n",
              "      <td>6.0</td>\n",
              "      <td>False</td>\n",
              "    </tr>\n",
              "    <tr>\n",
              "      <th>16</th>\n",
              "      <td>Kentucky</td>\n",
              "      <td>1973</td>\n",
              "      <td>3342000</td>\n",
              "      <td>9.7</td>\n",
              "      <td>False</td>\n",
              "    </tr>\n",
              "    <tr>\n",
              "      <th>17</th>\n",
              "      <td>Louisiana</td>\n",
              "      <td>1973</td>\n",
              "      <td>3764000</td>\n",
              "      <td>15.4</td>\n",
              "      <td>False</td>\n",
              "    </tr>\n",
              "    <tr>\n",
              "      <th>18</th>\n",
              "      <td>Massachuse</td>\n",
              "      <td>1973</td>\n",
              "      <td>5818000</td>\n",
              "      <td>4.4</td>\n",
              "      <td>False</td>\n",
              "    </tr>\n",
              "    <tr>\n",
              "      <th>19</th>\n",
              "      <td>Maryland</td>\n",
              "      <td>1973</td>\n",
              "      <td>4070000</td>\n",
              "      <td>11.3</td>\n",
              "      <td>False</td>\n",
              "    </tr>\n",
              "    <tr>\n",
              "      <th>23</th>\n",
              "      <td>Missouri</td>\n",
              "      <td>1973</td>\n",
              "      <td>4757000</td>\n",
              "      <td>9.0</td>\n",
              "      <td>False</td>\n",
              "    </tr>\n",
              "    <tr>\n",
              "      <th>24</th>\n",
              "      <td>Mississippi</td>\n",
              "      <td>1973</td>\n",
              "      <td>2281000</td>\n",
              "      <td>16.1</td>\n",
              "      <td>False</td>\n",
              "    </tr>\n",
              "    <tr>\n",
              "      <th>25</th>\n",
              "      <td>Montana</td>\n",
              "      <td>1973</td>\n",
              "      <td>721000</td>\n",
              "      <td>6.0</td>\n",
              "      <td>False</td>\n",
              "    </tr>\n",
              "    <tr>\n",
              "      <th>26</th>\n",
              "      <td>North Carolina</td>\n",
              "      <td>1973</td>\n",
              "      <td>5273000</td>\n",
              "      <td>13.0</td>\n",
              "      <td>False</td>\n",
              "    </tr>\n",
              "    <tr>\n",
              "      <th>27</th>\n",
              "      <td>North Dakota</td>\n",
              "      <td>1973</td>\n",
              "      <td>640000</td>\n",
              "      <td>0.8</td>\n",
              "      <td>False</td>\n",
              "    </tr>\n",
              "    <tr>\n",
              "      <th>28</th>\n",
              "      <td>Nebraska</td>\n",
              "      <td>1973</td>\n",
              "      <td>1542000</td>\n",
              "      <td>4.3</td>\n",
              "      <td>False</td>\n",
              "    </tr>\n",
              "    <tr>\n",
              "      <th>29</th>\n",
              "      <td>New Hampshire</td>\n",
              "      <td>1973</td>\n",
              "      <td>791000</td>\n",
              "      <td>2.1</td>\n",
              "      <td>False</td>\n",
              "    </tr>\n",
              "    <tr>\n",
              "      <th>30</th>\n",
              "      <td>New Jersey</td>\n",
              "      <td>1973</td>\n",
              "      <td>7361000</td>\n",
              "      <td>7.4</td>\n",
              "      <td>False</td>\n",
              "    </tr>\n",
              "    <tr>\n",
              "      <th>31</th>\n",
              "      <td>New Mexico</td>\n",
              "      <td>1973</td>\n",
              "      <td>1106000</td>\n",
              "      <td>11.8</td>\n",
              "      <td>False</td>\n",
              "    </tr>\n",
              "    <tr>\n",
              "      <th>32</th>\n",
              "      <td>Nevada</td>\n",
              "      <td>1973</td>\n",
              "      <td>548000</td>\n",
              "      <td>12.2</td>\n",
              "      <td>False</td>\n",
              "    </tr>\n",
              "    <tr>\n",
              "      <th>33</th>\n",
              "      <td>New York</td>\n",
              "      <td>1973</td>\n",
              "      <td>18265000</td>\n",
              "      <td>11.2</td>\n",
              "      <td>False</td>\n",
              "    </tr>\n",
              "    <tr>\n",
              "      <th>34</th>\n",
              "      <td>Ohio</td>\n",
              "      <td>1973</td>\n",
              "      <td>10731000</td>\n",
              "      <td>7.3</td>\n",
              "      <td>False</td>\n",
              "    </tr>\n",
              "    <tr>\n",
              "      <th>35</th>\n",
              "      <td>Oklahoma</td>\n",
              "      <td>1973</td>\n",
              "      <td>2663000</td>\n",
              "      <td>6.6</td>\n",
              "      <td>False</td>\n",
              "    </tr>\n",
              "    <tr>\n",
              "      <th>36</th>\n",
              "      <td>Oregon</td>\n",
              "      <td>1973</td>\n",
              "      <td>2225000</td>\n",
              "      <td>4.9</td>\n",
              "      <td>False</td>\n",
              "    </tr>\n",
              "    <tr>\n",
              "      <th>37</th>\n",
              "      <td>Pennsylvania</td>\n",
              "      <td>1973</td>\n",
              "      <td>11902000</td>\n",
              "      <td>6.3</td>\n",
              "      <td>False</td>\n",
              "    </tr>\n",
              "    <tr>\n",
              "      <th>38</th>\n",
              "      <td>Rhode Isla</td>\n",
              "      <td>1973</td>\n",
              "      <td>973000</td>\n",
              "      <td>3.4</td>\n",
              "      <td>False</td>\n",
              "    </tr>\n",
              "    <tr>\n",
              "      <th>39</th>\n",
              "      <td>South Carolina</td>\n",
              "      <td>1973</td>\n",
              "      <td>2726000</td>\n",
              "      <td>14.4</td>\n",
              "      <td>False</td>\n",
              "    </tr>\n",
              "    <tr>\n",
              "      <th>40</th>\n",
              "      <td>South Dakota</td>\n",
              "      <td>1973</td>\n",
              "      <td>685000</td>\n",
              "      <td>3.8</td>\n",
              "      <td>False</td>\n",
              "    </tr>\n",
              "    <tr>\n",
              "      <th>41</th>\n",
              "      <td>Tennessee</td>\n",
              "      <td>1973</td>\n",
              "      <td>4126000</td>\n",
              "      <td>13.2</td>\n",
              "      <td>False</td>\n",
              "    </tr>\n",
              "    <tr>\n",
              "      <th>42</th>\n",
              "      <td>Texas</td>\n",
              "      <td>1973</td>\n",
              "      <td>11794000</td>\n",
              "      <td>12.8</td>\n",
              "      <td>False</td>\n",
              "    </tr>\n",
              "    <tr>\n",
              "      <th>43</th>\n",
              "      <td>Utah</td>\n",
              "      <td>1973</td>\n",
              "      <td>1157000</td>\n",
              "      <td>3.2</td>\n",
              "      <td>False</td>\n",
              "    </tr>\n",
              "    <tr>\n",
              "      <th>44</th>\n",
              "      <td>Virginia</td>\n",
              "      <td>1973</td>\n",
              "      <td>4811000</td>\n",
              "      <td>10.5</td>\n",
              "      <td>False</td>\n",
              "    </tr>\n",
              "    <tr>\n",
              "      <th>45</th>\n",
              "      <td>Vermont</td>\n",
              "      <td>1973</td>\n",
              "      <td>464000</td>\n",
              "      <td>2.2</td>\n",
              "      <td>False</td>\n",
              "    </tr>\n",
              "    <tr>\n",
              "      <th>46</th>\n",
              "      <td>Washington</td>\n",
              "      <td>1973</td>\n",
              "      <td>3429000</td>\n",
              "      <td>4.0</td>\n",
              "      <td>False</td>\n",
              "    </tr>\n",
              "    <tr>\n",
              "      <th>48</th>\n",
              "      <td>West Virginia</td>\n",
              "      <td>1973</td>\n",
              "      <td>1794000</td>\n",
              "      <td>5.7</td>\n",
              "      <td>False</td>\n",
              "    </tr>\n",
              "    <tr>\n",
              "      <th>49</th>\n",
              "      <td>Wyoming</td>\n",
              "      <td>1973</td>\n",
              "      <td>353000</td>\n",
              "      <td>6.8</td>\n",
              "      <td>False</td>\n",
              "    </tr>\n",
              "  </tbody>\n",
              "</table>\n",
              "</div>"
            ],
            "text/plain": [
              "             State  Year  Population  Murder Rate  Death Penalty\n",
              "1          Alabama  1973     3539000         13.2          False\n",
              "2         Arkansas  1973     2037000          8.8          False\n",
              "3          Arizona  1973     2058000          8.1          False\n",
              "4       California  1973    20601000          9.0          False\n",
              "5         Colorado  1973     2437000          7.9          False\n",
              "6      Connecticut  1973     3076000          3.3          False\n",
              "7         Delaware  1973      576000          5.9          False\n",
              "8          Florida  1973     7678000         15.4          False\n",
              "9          Georgia  1973     4786000         17.4          False\n",
              "11            Iowa  1973     2904000          2.2          False\n",
              "12           Idaho  1973      770000          2.6          False\n",
              "13        Illinois  1973    11236000         10.4          False\n",
              "14         Indiana  1973     5316000          7.3          False\n",
              "15          Kansas  1973     2279000          6.0          False\n",
              "16        Kentucky  1973     3342000          9.7          False\n",
              "17       Louisiana  1973     3764000         15.4          False\n",
              "18      Massachuse  1973     5818000          4.4          False\n",
              "19        Maryland  1973     4070000         11.3          False\n",
              "23        Missouri  1973     4757000          9.0          False\n",
              "24     Mississippi  1973     2281000         16.1          False\n",
              "25         Montana  1973      721000          6.0          False\n",
              "26  North Carolina  1973     5273000         13.0          False\n",
              "27    North Dakota  1973      640000          0.8          False\n",
              "28        Nebraska  1973     1542000          4.3          False\n",
              "29   New Hampshire  1973      791000          2.1          False\n",
              "30      New Jersey  1973     7361000          7.4          False\n",
              "31      New Mexico  1973     1106000         11.8          False\n",
              "32          Nevada  1973      548000         12.2          False\n",
              "33        New York  1973    18265000         11.2          False\n",
              "34            Ohio  1973    10731000          7.3          False\n",
              "35        Oklahoma  1973     2663000          6.6          False\n",
              "36          Oregon  1973     2225000          4.9          False\n",
              "37    Pennsylvania  1973    11902000          6.3          False\n",
              "38      Rhode Isla  1973      973000          3.4          False\n",
              "39  South Carolina  1973     2726000         14.4          False\n",
              "40    South Dakota  1973      685000          3.8          False\n",
              "41       Tennessee  1973     4126000         13.2          False\n",
              "42           Texas  1973    11794000         12.8          False\n",
              "43            Utah  1973     1157000          3.2          False\n",
              "44        Virginia  1973     4811000         10.5          False\n",
              "45         Vermont  1973      464000          2.2          False\n",
              "46      Washington  1973     3429000          4.0          False\n",
              "48   West Virginia  1973     1794000          5.7          False\n",
              "49         Wyoming  1973      353000          6.8          False"
            ]
          },
          "metadata": {
            "tags": []
          },
          "execution_count": 97
        }
      ]
    },
    {
      "cell_type": "markdown",
      "metadata": {
        "id": "coKAevZI9FUE"
      },
      "source": [
        "**Question 5** Use `preban_rates_copy` and `postban_rates` to create a table `change_in_death_rates` that contains each state's population, murder rate, and whether or not that state had the death penalty for both 1971 and 1973. \n",
        "\n",
        "*Hint:* `tbl_1.append(tbl_2)` with create a new table that includes rows from both `tbl_1` and `tbl_2`. Both tables must have the exactly the same columns, in the same order."
      ]
    },
    {
      "cell_type": "code",
      "metadata": {
        "id": "Pdzu7YiK9FUF",
        "outputId": "99b9726a-eaf8-4b90-980b-a9bffd8bf961",
        "colab": {
          "base_uri": "https://localhost:8080/",
          "height": 419
        }
      },
      "source": [
        "preban_rates_copy = preban_rates\n",
        "change_in_death_rates = preban_rates_copy.append(postban_rates)\n",
        "change_in_death_rates"
      ],
      "execution_count": 98,
      "outputs": [
        {
          "output_type": "execute_result",
          "data": {
            "text/html": [
              "<div>\n",
              "<style scoped>\n",
              "    .dataframe tbody tr th:only-of-type {\n",
              "        vertical-align: middle;\n",
              "    }\n",
              "\n",
              "    .dataframe tbody tr th {\n",
              "        vertical-align: top;\n",
              "    }\n",
              "\n",
              "    .dataframe thead th {\n",
              "        text-align: right;\n",
              "    }\n",
              "</style>\n",
              "<table border=\"1\" class=\"dataframe\">\n",
              "  <thead>\n",
              "    <tr style=\"text-align: right;\">\n",
              "      <th></th>\n",
              "      <th>State</th>\n",
              "      <th>Year</th>\n",
              "      <th>Population</th>\n",
              "      <th>Murder Rate</th>\n",
              "      <th>Death Penalty</th>\n",
              "    </tr>\n",
              "  </thead>\n",
              "  <tbody>\n",
              "    <tr>\n",
              "      <th>1</th>\n",
              "      <td>Alabama</td>\n",
              "      <td>1971</td>\n",
              "      <td>3479000</td>\n",
              "      <td>15.1</td>\n",
              "      <td>True</td>\n",
              "    </tr>\n",
              "    <tr>\n",
              "      <th>2</th>\n",
              "      <td>Arkansas</td>\n",
              "      <td>1971</td>\n",
              "      <td>1944000</td>\n",
              "      <td>10.5</td>\n",
              "      <td>True</td>\n",
              "    </tr>\n",
              "    <tr>\n",
              "      <th>3</th>\n",
              "      <td>Arizona</td>\n",
              "      <td>1971</td>\n",
              "      <td>1849000</td>\n",
              "      <td>6.7</td>\n",
              "      <td>True</td>\n",
              "    </tr>\n",
              "    <tr>\n",
              "      <th>4</th>\n",
              "      <td>California</td>\n",
              "      <td>1971</td>\n",
              "      <td>20223000</td>\n",
              "      <td>8.1</td>\n",
              "      <td>True</td>\n",
              "    </tr>\n",
              "    <tr>\n",
              "      <th>5</th>\n",
              "      <td>Colorado</td>\n",
              "      <td>1971</td>\n",
              "      <td>2283000</td>\n",
              "      <td>6.5</td>\n",
              "      <td>True</td>\n",
              "    </tr>\n",
              "    <tr>\n",
              "      <th>...</th>\n",
              "      <td>...</td>\n",
              "      <td>...</td>\n",
              "      <td>...</td>\n",
              "      <td>...</td>\n",
              "      <td>...</td>\n",
              "    </tr>\n",
              "    <tr>\n",
              "      <th>44</th>\n",
              "      <td>Virginia</td>\n",
              "      <td>1973</td>\n",
              "      <td>4811000</td>\n",
              "      <td>10.5</td>\n",
              "      <td>False</td>\n",
              "    </tr>\n",
              "    <tr>\n",
              "      <th>45</th>\n",
              "      <td>Vermont</td>\n",
              "      <td>1973</td>\n",
              "      <td>464000</td>\n",
              "      <td>2.2</td>\n",
              "      <td>False</td>\n",
              "    </tr>\n",
              "    <tr>\n",
              "      <th>46</th>\n",
              "      <td>Washington</td>\n",
              "      <td>1973</td>\n",
              "      <td>3429000</td>\n",
              "      <td>4.0</td>\n",
              "      <td>False</td>\n",
              "    </tr>\n",
              "    <tr>\n",
              "      <th>48</th>\n",
              "      <td>West Virginia</td>\n",
              "      <td>1973</td>\n",
              "      <td>1794000</td>\n",
              "      <td>5.7</td>\n",
              "      <td>False</td>\n",
              "    </tr>\n",
              "    <tr>\n",
              "      <th>49</th>\n",
              "      <td>Wyoming</td>\n",
              "      <td>1973</td>\n",
              "      <td>353000</td>\n",
              "      <td>6.8</td>\n",
              "      <td>False</td>\n",
              "    </tr>\n",
              "  </tbody>\n",
              "</table>\n",
              "<p>88 rows × 5 columns</p>\n",
              "</div>"
            ],
            "text/plain": [
              "            State  Year  Population  Murder Rate Death Penalty\n",
              "1         Alabama  1971     3479000         15.1          True\n",
              "2        Arkansas  1971     1944000         10.5          True\n",
              "3         Arizona  1971     1849000          6.7          True\n",
              "4      California  1971    20223000          8.1          True\n",
              "5        Colorado  1971     2283000          6.5          True\n",
              "..            ...   ...         ...          ...           ...\n",
              "44       Virginia  1973     4811000         10.5         False\n",
              "45        Vermont  1973      464000          2.2         False\n",
              "46     Washington  1973     3429000          4.0         False\n",
              "48  West Virginia  1973     1794000          5.7         False\n",
              "49        Wyoming  1973      353000          6.8         False\n",
              "\n",
              "[88 rows x 5 columns]"
            ]
          },
          "metadata": {
            "tags": []
          },
          "execution_count": 98
        }
      ]
    },
    {
      "cell_type": "markdown",
      "metadata": {
        "id": "HyNq_15c9FUK"
      },
      "source": [
        "**Question 6:** Create a table `rate_means` that contains the average murder rates for the states that had the death penalty and the states that didn't have the death penalty. It should have two columns: one indicating if the penalty was in place, and one that contains the average murder rate for each group."
      ]
    },
    {
      "cell_type": "code",
      "metadata": {
        "id": "qbnSXEtg9FUL",
        "outputId": "24d7caab-7f8f-4a62-dbc3-68bf893ec6ca",
        "colab": {
          "base_uri": "https://localhost:8080/",
          "height": 142
        }
      },
      "source": [
        "#rate_means = change_in_death_rates.group(\"Death Penalty\", np.average).drop(\"Population average\",\"Year average\",\"State average\")\n",
        "rate_means = change_in_death_rates.groupby(\"Death Penalty\").mean()\n",
        "rate_means = rate_means.drop(\"Population\", axis=1)\n",
        "rate_means = rate_means.drop(\"Year\", axis=1)\n",
        "rate_means = rate_means.rename(columns={\"Murder Rate\": \"Murder Rate Average\"})\n",
        "rate_means"
      ],
      "execution_count": 118,
      "outputs": [
        {
          "output_type": "execute_result",
          "data": {
            "text/html": [
              "<div>\n",
              "<style scoped>\n",
              "    .dataframe tbody tr th:only-of-type {\n",
              "        vertical-align: middle;\n",
              "    }\n",
              "\n",
              "    .dataframe tbody tr th {\n",
              "        vertical-align: top;\n",
              "    }\n",
              "\n",
              "    .dataframe thead th {\n",
              "        text-align: right;\n",
              "    }\n",
              "</style>\n",
              "<table border=\"1\" class=\"dataframe\">\n",
              "  <thead>\n",
              "    <tr style=\"text-align: right;\">\n",
              "      <th></th>\n",
              "      <th>Murder Rate Average</th>\n",
              "    </tr>\n",
              "    <tr>\n",
              "      <th>Death Penalty</th>\n",
              "      <th></th>\n",
              "    </tr>\n",
              "  </thead>\n",
              "  <tbody>\n",
              "    <tr>\n",
              "      <th>False</th>\n",
              "      <td>8.120455</td>\n",
              "    </tr>\n",
              "    <tr>\n",
              "      <th>True</th>\n",
              "      <td>7.513636</td>\n",
              "    </tr>\n",
              "  </tbody>\n",
              "</table>\n",
              "</div>"
            ],
            "text/plain": [
              "               Murder Rate Average\n",
              "Death Penalty                     \n",
              "False                     8.120455\n",
              "True                      7.513636"
            ]
          },
          "metadata": {
            "tags": []
          },
          "execution_count": 118
        }
      ]
    },
    {
      "cell_type": "markdown",
      "metadata": {
        "id": "-kjfLOFA9FUO"
      },
      "source": [
        "**Question 7:** We want to figure out if there is a difference between the distribution of death rates in 1971 and 1973. Specifically, we want to test if murder rates were higher in 1973 than they were in 1971. \n",
        "\n",
        "What should the test statistic be? How does it help us differentiate whether the data supports the null and alternative? "
      ]
    },
    {
      "cell_type": "markdown",
      "metadata": {
        "id": "JfFv8wt79FUO"
      },
      "source": [
        "To test if murder rates were higher in 1973 than in 1971 then the test statistic should be 0.6068. The data also supports that in 1973 the murder rate was higher thus supports the Alternative Hypothesis.\n"
      ]
    },
    {
      "cell_type": "markdown",
      "metadata": {
        "id": "ObY09t6t9FUO"
      },
      "source": [
        "**Question 8:** Set `observed_difference` to the observed test statistic using the `rate_means` table "
      ]
    },
    {
      "cell_type": "code",
      "metadata": {
        "id": "UfKu4Oiy9FUP",
        "outputId": "5e7cd813-8d9b-430b-9e0e-4e449c09b0d8",
        "colab": {
          "base_uri": "https://localhost:8080/"
        }
      },
      "source": [
        "observed_difference = rate_means[\"Murder Rate Average\"][0] - rate_means[\"Murder Rate Average\"][1]\n",
        "observed_difference"
      ],
      "execution_count": 126,
      "outputs": [
        {
          "output_type": "execute_result",
          "data": {
            "text/plain": [
              "0.6068181600659113"
            ]
          },
          "metadata": {
            "tags": []
          },
          "execution_count": 126
        }
      ]
    },
    {
      "cell_type": "markdown",
      "metadata": {
        "id": "HulRep3G9FUR"
      },
      "source": [
        "**Question 9:** Given a table like `change_in_death_rates`, a value column `label`, and a group column `group_label`, write a function that calculates the appropriate test statistic."
      ]
    },
    {
      "cell_type": "code",
      "metadata": {
        "id": "kPPzlvCR9FUR",
        "outputId": "4b9ae4c7-4e2a-499d-aed6-c4237f2257c0",
        "colab": {
          "base_uri": "https://localhost:8080/"
        }
      },
      "source": [
        "def find_test_stat(table, labels_col, values_col):\n",
        "  selection = table.groupby(labels_col).mean()\n",
        "  diff = selection[values_col][0] - selection[values_col][1]\n",
        "  return diff\n",
        "\n",
        "find_test_stat(change_in_death_rates, \"Death Penalty\", \"Murder Rate\")"
      ],
      "execution_count": 138,
      "outputs": [
        {
          "output_type": "execute_result",
          "data": {
            "text/plain": [
              "0.6068181600659113"
            ]
          },
          "metadata": {
            "tags": []
          },
          "execution_count": 138
        }
      ]
    },
    {
      "cell_type": "markdown",
      "metadata": {
        "id": "08u--5Dq9FUT"
      },
      "source": [
        "When we run a simulation for A/B testing, we resample by shuffling the labels of the original sample. If the null hypothesis is true and the murder rate distributions are the same, we expect that the difference in mean death rates will be not change when \"Death Penalty\" labels are changed."
      ]
    },
    {
      "cell_type": "markdown",
      "metadata": {
        "id": "eQ1rN5qD9FUT"
      },
      "source": [
        "**Question 10:** Write a function `simulate_and_test_statistic` to compute one trial of our A/B test. Your function should run a simulation and return a test statistic.\n",
        "\n",
        "Note: The test here is fairly lenient, if you have an issue with the following questions, make sure to take a look at your answer to **Question 9** . Specifically, make sure that you are taking the directionality of our alternative hypothesis into account."
      ]
    },
    {
      "cell_type": "code",
      "metadata": {
        "id": "636kaCvs9FUT",
        "outputId": "bc7a85ae-ae9a-4f04-b6a6-1096f843dfa2",
        "colab": {
          "base_uri": "https://localhost:8080/",
          "height": 392
        }
      },
      "source": [
        "def simulate_and_test_statistic(table, labels_col, values_col):\n",
        "    shuffled_column = table.sample(with_replacement = False).column(values_col)\n",
        "    new_table = table.drop(values_col).with_column(\"Shuffled Label\", shuffled_column)\n",
        "    return find_test_stat(new_table, labels_col, \"Shuffled Label\")\n",
        "\n",
        "simulate_and_test_statistic(change_in_death_rates, \"Death Penalty\", \"Murder Rate\")"
      ],
      "execution_count": 140,
      "outputs": [
        {
          "output_type": "error",
          "ename": "TypeError",
          "evalue": "ignored",
          "traceback": [
            "\u001b[0;31m---------------------------------------------------------------------------\u001b[0m",
            "\u001b[0;31mTypeError\u001b[0m                                 Traceback (most recent call last)",
            "\u001b[0;32m<ipython-input-140-e6f0fac0c574>\u001b[0m in \u001b[0;36m<module>\u001b[0;34m()\u001b[0m\n\u001b[1;32m      4\u001b[0m     \u001b[0;32mreturn\u001b[0m \u001b[0mfind_test_stat\u001b[0m\u001b[0;34m(\u001b[0m\u001b[0mnew_table\u001b[0m\u001b[0;34m,\u001b[0m \u001b[0mlabels_col\u001b[0m\u001b[0;34m,\u001b[0m \u001b[0;34m\"Shuffled Label\"\u001b[0m\u001b[0;34m)\u001b[0m\u001b[0;34m\u001b[0m\u001b[0;34m\u001b[0m\u001b[0m\n\u001b[1;32m      5\u001b[0m \u001b[0;34m\u001b[0m\u001b[0m\n\u001b[0;32m----> 6\u001b[0;31m \u001b[0msimulate_and_test_statistic\u001b[0m\u001b[0;34m(\u001b[0m\u001b[0mchange_in_death_rates\u001b[0m\u001b[0;34m,\u001b[0m \u001b[0;34m\"Death Penalty\"\u001b[0m\u001b[0;34m,\u001b[0m \u001b[0;34m\"Murder Rate\"\u001b[0m\u001b[0;34m)\u001b[0m\u001b[0;34m\u001b[0m\u001b[0;34m\u001b[0m\u001b[0m\n\u001b[0m",
            "\u001b[0;32m<ipython-input-140-e6f0fac0c574>\u001b[0m in \u001b[0;36msimulate_and_test_statistic\u001b[0;34m(table, labels_col, values_col)\u001b[0m\n\u001b[1;32m      1\u001b[0m \u001b[0;32mdef\u001b[0m \u001b[0msimulate_and_test_statistic\u001b[0m\u001b[0;34m(\u001b[0m\u001b[0mtable\u001b[0m\u001b[0;34m,\u001b[0m \u001b[0mlabels_col\u001b[0m\u001b[0;34m,\u001b[0m \u001b[0mvalues_col\u001b[0m\u001b[0;34m)\u001b[0m\u001b[0;34m:\u001b[0m\u001b[0;34m\u001b[0m\u001b[0;34m\u001b[0m\u001b[0m\n\u001b[0;32m----> 2\u001b[0;31m     \u001b[0mshuffled_column\u001b[0m \u001b[0;34m=\u001b[0m \u001b[0mtable\u001b[0m\u001b[0;34m.\u001b[0m\u001b[0msample\u001b[0m\u001b[0;34m(\u001b[0m\u001b[0;32mFalse\u001b[0m\u001b[0;34m)\u001b[0m\u001b[0;34m.\u001b[0m\u001b[0mcolumn\u001b[0m\u001b[0;34m(\u001b[0m\u001b[0mvalues_col\u001b[0m\u001b[0;34m)\u001b[0m\u001b[0;34m\u001b[0m\u001b[0;34m\u001b[0m\u001b[0m\n\u001b[0m\u001b[1;32m      3\u001b[0m     \u001b[0mnew_table\u001b[0m \u001b[0;34m=\u001b[0m \u001b[0mtable\u001b[0m\u001b[0;34m.\u001b[0m\u001b[0mdrop\u001b[0m\u001b[0;34m(\u001b[0m\u001b[0mvalues_col\u001b[0m\u001b[0;34m)\u001b[0m\u001b[0;34m.\u001b[0m\u001b[0mwith_column\u001b[0m\u001b[0;34m(\u001b[0m\u001b[0;34m\"Shuffled Label\"\u001b[0m\u001b[0;34m,\u001b[0m \u001b[0mshuffled_column\u001b[0m\u001b[0;34m)\u001b[0m\u001b[0;34m\u001b[0m\u001b[0;34m\u001b[0m\u001b[0m\n\u001b[1;32m      4\u001b[0m     \u001b[0;32mreturn\u001b[0m \u001b[0mfind_test_stat\u001b[0m\u001b[0;34m(\u001b[0m\u001b[0mnew_table\u001b[0m\u001b[0;34m,\u001b[0m \u001b[0mlabels_col\u001b[0m\u001b[0;34m,\u001b[0m \u001b[0;34m\"Shuffled Label\"\u001b[0m\u001b[0;34m)\u001b[0m\u001b[0;34m\u001b[0m\u001b[0;34m\u001b[0m\u001b[0m\n\u001b[1;32m      5\u001b[0m \u001b[0;34m\u001b[0m\u001b[0m\n",
            "\u001b[0;32m/usr/local/lib/python3.6/dist-packages/pandas/core/generic.py\u001b[0m in \u001b[0;36msample\u001b[0;34m(self, n, frac, replace, weights, random_state, axis)\u001b[0m\n\u001b[1;32m   4991\u001b[0m             )\n\u001b[1;32m   4992\u001b[0m \u001b[0;34m\u001b[0m\u001b[0m\n\u001b[0;32m-> 4993\u001b[0;31m         \u001b[0mlocs\u001b[0m \u001b[0;34m=\u001b[0m \u001b[0mrs\u001b[0m\u001b[0;34m.\u001b[0m\u001b[0mchoice\u001b[0m\u001b[0;34m(\u001b[0m\u001b[0maxis_length\u001b[0m\u001b[0;34m,\u001b[0m \u001b[0msize\u001b[0m\u001b[0;34m=\u001b[0m\u001b[0mn\u001b[0m\u001b[0;34m,\u001b[0m \u001b[0mreplace\u001b[0m\u001b[0;34m=\u001b[0m\u001b[0mreplace\u001b[0m\u001b[0;34m,\u001b[0m \u001b[0mp\u001b[0m\u001b[0;34m=\u001b[0m\u001b[0mweights\u001b[0m\u001b[0;34m)\u001b[0m\u001b[0;34m\u001b[0m\u001b[0;34m\u001b[0m\u001b[0m\n\u001b[0m\u001b[1;32m   4994\u001b[0m         \u001b[0;32mreturn\u001b[0m \u001b[0mself\u001b[0m\u001b[0;34m.\u001b[0m\u001b[0mtake\u001b[0m\u001b[0;34m(\u001b[0m\u001b[0mlocs\u001b[0m\u001b[0;34m,\u001b[0m \u001b[0maxis\u001b[0m\u001b[0;34m=\u001b[0m\u001b[0maxis\u001b[0m\u001b[0;34m)\u001b[0m\u001b[0;34m\u001b[0m\u001b[0;34m\u001b[0m\u001b[0m\n\u001b[1;32m   4995\u001b[0m \u001b[0;34m\u001b[0m\u001b[0m\n",
            "\u001b[0;32mmtrand.pyx\u001b[0m in \u001b[0;36mnumpy.random.mtrand.RandomState.choice\u001b[0;34m()\u001b[0m\n",
            "\u001b[0;31mTypeError\u001b[0m: an integer is required"
          ]
        }
      ]
    },
    {
      "cell_type": "markdown",
      "metadata": {
        "id": "ILNQbjH79FUW"
      },
      "source": [
        "**Question 11:** Simulate 5000 trials of our A/B test and store the test statistics in an array called `differences`"
      ]
    },
    {
      "cell_type": "code",
      "metadata": {
        "id": "4xFVblEZ9FUW"
      },
      "source": [
        "# This cell might take a couple seconds to run\n",
        "differences = ...\n",
        "                                                 \n",
        "differences"
      ],
      "execution_count": null,
      "outputs": []
    },
    {
      "cell_type": "markdown",
      "metadata": {
        "id": "RHj6WvC79FUY"
      },
      "source": [
        "Run the cell below to view a histogram of your simulated test statistics plotted with your observed test statistic"
      ]
    },
    {
      "cell_type": "markdown",
      "metadata": {
        "id": "PALXgc7i9FUY"
      },
      "source": [
        "**Question 12:** Create  a histogram of your simulated test statistics plotted with your observed test statistic"
      ]
    },
    {
      "cell_type": "code",
      "metadata": {
        "id": "K3wTKx4P9FUY"
      },
      "source": [
        ""
      ],
      "execution_count": null,
      "outputs": []
    },
    {
      "cell_type": "markdown",
      "metadata": {
        "id": "NG-z_6o49FUa"
      },
      "source": [
        "**Question 13:** Find the p-value for your test and assign it to `empirical_P`"
      ]
    },
    {
      "cell_type": "code",
      "metadata": {
        "id": "LPpFmLbn9FUa"
      },
      "source": [
        "empirical_P = ...\n",
        "empirical_P"
      ],
      "execution_count": null,
      "outputs": []
    },
    {
      "cell_type": "markdown",
      "metadata": {
        "id": "gcDbvpPo9FUc"
      },
      "source": [
        "**Question 13:** Using a 5% P-value cutoff, draw a conclusion about the null and alternative hypotheses. Describe your findings using simple, non-technical language. What does your analysis tell you about murder rates after the death penalty was suspended? What can you claim about causation from your statistical analysis?"
      ]
    },
    {
      "cell_type": "markdown",
      "metadata": {
        "id": "sSfH3cZM9FUc"
      },
      "source": [
        "*Write your answer here, replacing this text.*"
      ]
    },
    {
      "cell_type": "markdown",
      "metadata": {
        "id": "3Ot84bum9FUc"
      },
      "source": [
        "## 4. Thai Restaurants\n",
        "\n",
        "\n",
        "Ben and Frank are trying see what the best Thai restaurant in Berkeley is. They survey 1500 UC Berkeley students selected uniformly at random, and ask each student what Thai restaurant is the best (*Note: this data is fabricated for the purposes of this homework*). The choices of Thai restaurant are Lucky House, Imm Thai, Thai Temple, and Thai Basil. After compiling the results, Ben and Frank release the following percentages from their sample:\n",
        "\n",
        "|Thai Restaurant  | Percentage|\n",
        "|:------------:|:------------:|\n",
        "|Lucky House | 8% |\n",
        "|Imm Thai | 52% |\n",
        "|Thai Temple | 25% |\n",
        "|Thai Basil | 15% |\n",
        "\n",
        "These percentages represent a uniform random sample of the population of UC Berkeley students. We will attempt to estimate the corresponding *parameters*, or the percentage of the votes that each restaurant will receive from the entire population (the entire population is all UC Berkeley students). We will use confidence intervals to compute a range of values that reflects the uncertainty of our estimates.\n",
        "\n",
        "The table `votes` contains the results of the survey."
      ]
    },
    {
      "cell_type": "code",
      "metadata": {
        "id": "16LLlLYH9FUd"
      },
      "source": [
        "# Just run this cell\n",
        "votes = pd.read_csv('votes.csv')\n",
        "#votes"
      ],
      "execution_count": null,
      "outputs": []
    },
    {
      "cell_type": "markdown",
      "metadata": {
        "id": "VJMDQEPu9FUe"
      },
      "source": [
        "**Question 1:** Complete the function `one_resampled_percentage` below. It should return Imm Thai's **percentage** of votes after simulating one bootstrap sample of `tbl`.\n",
        "\n",
        "**Note:** `tbl` will always be in the same format as `votes`."
      ]
    },
    {
      "cell_type": "code",
      "metadata": {
        "id": "RzETzl_T9FUf"
      },
      "source": [
        "def one_resampled_percentage(tbl):\n",
        "    ...\n",
        "\n",
        "one_resampled_percentage(votes)"
      ],
      "execution_count": null,
      "outputs": []
    },
    {
      "cell_type": "markdown",
      "metadata": {
        "id": "v9I4Nxwq9FUh"
      },
      "source": [
        "**Question 2:** Complete the `percentages_in_resamples` function such that it returns an array of 2500 bootstrapped estimates of the percentage of voters who will vote for Imm Thai. You should use the `one_resampled_percentage` function you wrote above.\n",
        "\n",
        "*Note:* There are no public tests for this question, the autograder cell below will return 0.0% passed. "
      ]
    },
    {
      "cell_type": "markdown",
      "metadata": {
        "id": "kv9qeU2V9FUh"
      },
      "source": [
        "def percentages_in_resamples():\n",
        "    percentage_imm = make_array()\n",
        "    ..."
      ]
    },
    {
      "cell_type": "markdown",
      "metadata": {
        "id": "Uc84DQyJ9FUh"
      },
      "source": [
        "**Question 3:** Create a histogram of the calculated statistic for the 2,500 bootstrap estimates of the percentage of voters who voted for Imm Thai.\n",
        "\n",
        "**Note:** Use the function created in **Question 2**."
      ]
    },
    {
      "cell_type": "code",
      "metadata": {
        "id": "5rh-q_yl9FUi"
      },
      "source": [
        ""
      ],
      "execution_count": null,
      "outputs": []
    },
    {
      "cell_type": "markdown",
      "metadata": {
        "id": "H9_6kFD29FUj"
      },
      "source": [
        "Based on what the original Thai restaurant percentages were, does the graph seem reasonable? "
      ]
    },
    {
      "cell_type": "markdown",
      "metadata": {
        "id": "3r9oRmuR9FUj"
      },
      "source": [
        "**Question 3:** Using the array `resampled_percentages`, find the values at the two edges of the middle 95% of the bootstrapped percentage estimates. (Compute the lower and upper ends of the interval, named `imm_lower_bound` and `imm_upper_bound`, respectively.)"
      ]
    },
    {
      "cell_type": "code",
      "metadata": {
        "id": "eMvNuAfw9FUj"
      },
      "source": [
        ""
      ],
      "execution_count": null,
      "outputs": []
    },
    {
      "cell_type": "markdown",
      "metadata": {
        "id": "8iy29nwf9FUk"
      },
      "source": [
        "**Question 4:** The survey results seem to indicate that Imm Thai is beating all the other Thai restaurants combined among voters. We would like to use confidence intervals to determine a range of likely values for Imm Thai's true lead over all the other restaurants combined. The calculation for Imm Thai's lead over Lucky House, Thai Temple, and Thai Basil combined is:\n",
        "\n",
        "$$\\text{Imm Thai's % of the vote} - \\text{(Lucky House's % of the vote + Thai Temple's % of the vote + Thai Basil's % of the vote)}$$\n",
        "\n",
        "Define the function `one_resampled_difference` that returns **exactly one value** of Imm Thai's percentage lead over Lucky House, Thai Temple, and Thai Basil combined from one bootstrap sample of `tbl`."
      ]
    },
    {
      "cell_type": "code",
      "metadata": {
        "id": "35-I2ChA9FUl"
      },
      "source": [
        "def one_resampled_difference(tbl):\n",
        "    bootstrap = ...\n",
        "    imm_percentage = ...\n",
        "    lh_percentage = ...\n",
        "    tt_percentage = ...\n",
        "    tb_percentage = ...\n",
        "    ..."
      ],
      "execution_count": null,
      "outputs": []
    },
    {
      "cell_type": "markdown",
      "metadata": {
        "id": "ukyXHkF-9FUm"
      },
      "source": [
        "**Question 5:**\n",
        "Write a function called `leads_in_resamples` that finds 2,500 bootstrapped estimates (the result of calling `one_resampled_difference`) of Imm Thai's lead over Lucky House, Thai Temple, and Thai Basil combined. **Plot a histogram** of the resulting samples. \n",
        "\n",
        "**Note:** Imm Thai's lead can be negative."
      ]
    },
    {
      "cell_type": "code",
      "metadata": {
        "id": "yH22oYLB9FUm"
      },
      "source": [
        "def leads_in_resamples():\n",
        "    ...\n",
        "\n",
        "sampled_leads = leads_in_resamples()"
      ],
      "execution_count": null,
      "outputs": []
    },
    {
      "cell_type": "markdown",
      "metadata": {
        "id": "LrlNpys-9FUo"
      },
      "source": [
        "**Question 6:** Use the simulated data from Question 5 to compute an approximate 95% confidence interval for Imm Thai's true lead over Lucky House, Thai Temple, and Thai Basil combined.\n"
      ]
    },
    {
      "cell_type": "code",
      "metadata": {
        "id": "SVOKe09O9FUo"
      },
      "source": [
        "diff_lower_bound = ...\n",
        "diff_upper_bound = ...\n",
        "print(\"Bootstrapped 95% confidence interval for Imm Thai's true lead over Lucky House, Thai Temple, and Thai Basil combined: [{:f}, {:f}]\".format(diff_lower_bound, diff_upper_bound))"
      ],
      "execution_count": null,
      "outputs": []
    },
    {
      "cell_type": "markdown",
      "metadata": {
        "id": "-wjeMnM99FUp"
      },
      "source": [
        "## 2. Interpreting Confidence Intervals\n",
        "The staff computed the following 95% confidence interval for the percentage of Imm Thai voters: \n",
        "\n",
        "$$[49.40, 54.47]$$\n",
        "\n",
        "(Your answer may have been a bit different; that doesn't mean it was wrong!)\n",
        "\n",
        "**Question 1:** Can we say there is a 95% probability that the interval [49.40, 54.47] contains the true percentage of the population that votes for Imm Thai as the best Berkeley Thai restaurant? Answer \"yes\" or \"no\" and explain your reasoning. "
      ]
    },
    {
      "cell_type": "markdown",
      "metadata": {
        "id": "pf2Q33sj9FUp"
      },
      "source": [
        "*Write your answer here, replacing this text.*"
      ]
    },
    {
      "cell_type": "markdown",
      "metadata": {
        "id": "HnrYmHj29FUq"
      },
      "source": [
        "**Question 2:** The staff also created 70%, 90%, and 99% confidence intervals from the same sample, but we forgot to label which confidence interval represented which percentages! Match each confidence level (70%, 90%, 99%) with its corresponding interval in the cell below (e.g. __ % CI: [49.87, 54.0] $\\rightarrow$ replace the blank with one of the three confidence levels). **Then**, explain your thought process and how you came up with your answers.\n",
        "\n",
        "The intervals are below:\n",
        "\n",
        "* [49.87, 54.00]\n",
        "* [50.67, 53.27]\n",
        "* [48.80, 55.40]"
      ]
    },
    {
      "cell_type": "markdown",
      "metadata": {
        "id": "FEyxzAzc9FUq"
      },
      "source": [
        "*Write your answer here, replacing this text.*"
      ]
    },
    {
      "cell_type": "markdown",
      "metadata": {
        "id": "bpJlfylv9FUq"
      },
      "source": [
        "**Question 3:**\n",
        "Suppose we produced 5,000 new samples (each one a uniform random sample of 1,500 voters/students) from the population and created a 95% confidence interval from each one. Roughly how many of those 5,000 intervals do you expect will actually contain the true percentage of the population?\n",
        "\n",
        "Assign your answer to `true_percentage_intervals`."
      ]
    },
    {
      "cell_type": "code",
      "metadata": {
        "id": "sUuBXVSZ9FUq"
      },
      "source": [
        "true_percentage_intervals = ..."
      ],
      "execution_count": null,
      "outputs": []
    },
    {
      "cell_type": "markdown",
      "metadata": {
        "id": "5iQlQgLH9FUr"
      },
      "source": [
        "Recall the second bootstrap confidence interval you created, which estimated Imm Thai's lead over Lucky House, Thai Temple, and Thai Basil combined. Among\n",
        "voters in the sample, Imm Thai's lead was 4%. The staff's 95% confidence interval for the true lead (in the population of all voters) was\n",
        "\n",
        "$$[-0.80, 8.80]$$\n",
        "\n",
        "Suppose we are interested in testing a simple yes-or-no question:\n",
        "\n",
        "> \"Is the percentage of votes for Imm Thai tied with the percentage of votes for Lucky House, Thai Temple, and Thai Basil combined?\"\n",
        "\n",
        "Our null hypothesis is that the percentages are equal, or equivalently, that Imm Thai's lead is exactly 0. Our alternative hypothesis is that Imm Thai's lead is not equal to 0.  In the questions below, don't compute any confidence interval yourself - use only the staff's 95% confidence interval.\n",
        "\n",
        "**Question 4:** Say we use a 5% P-value cutoff.  Do we reject the null, fail to reject the null, or are we unable to tell using our staff confidence interval?\n",
        "\n",
        "Assign `restaurants_tied` to the number corresponding to the correct answer.\n",
        "\n",
        "1. Reject the null / Data is consistent with the alternative hypothesis\n",
        "2. Fail to reject the null / Data is consistent with the null hypothesis\n",
        "3. Unable to tell using our staff confidence interval\n",
        "\n",
        "*Hint:* If you're confused, take a look at [this chapter](https://www.inferentialthinking.com/chapters/13/4/using-confidence-intervals.html) of the textbook."
      ]
    },
    {
      "cell_type": "code",
      "metadata": {
        "id": "-7ioyVtx9FUs"
      },
      "source": [
        "restaurants_tied = ..."
      ],
      "execution_count": null,
      "outputs": []
    },
    {
      "cell_type": "markdown",
      "metadata": {
        "id": "TefHH8yT9FUt"
      },
      "source": [
        "**Question 5:**\n",
        "What if, instead, we use a P-value cutoff of 1%? Do we reject the null, fail to reject the null, or are we unable to tell using our staff confidence interval?\n",
        "\n",
        "Assign `cutoff_one_percent` to the number corresponding to the correct answer.\n",
        "\n",
        "1. Reject the null / Data is consistent with the alternative hypothesis\n",
        "2. Fail to reject the null / Data is consistent with the null hypothesis\n",
        "3. Unable to tell using our staff confidence interval"
      ]
    },
    {
      "cell_type": "code",
      "metadata": {
        "id": "oKt7fNw19FUt"
      },
      "source": [
        "cutoff_one_percent = ..."
      ],
      "execution_count": null,
      "outputs": []
    },
    {
      "cell_type": "markdown",
      "metadata": {
        "id": "3Ms0c_a19FUu"
      },
      "source": [
        "**Question 6:**\n",
        "What if we use a P-value cutoff of 10%? Do we reject, fail to reject, or are we unable to tell using our confidence interval?\n",
        "\n",
        "Assign `cutoff_ten_percent` to the number corresponding to the correct answer.\n",
        "\n",
        "1. Reject the null / Data is consistent with the alternative hypothesis\n",
        "2. Fail to reject the null / Data is consistent with the null hypothesis\n",
        "3. Unable to tell using our staff confidence interval"
      ]
    },
    {
      "cell_type": "code",
      "metadata": {
        "id": "dynZl5Oe9FUu"
      },
      "source": [
        "cutoff_ten_percent = ..."
      ],
      "execution_count": null,
      "outputs": []
    }
  ]
}