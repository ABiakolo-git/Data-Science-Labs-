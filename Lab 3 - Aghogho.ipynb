{
 "cells": [
  {
   "cell_type": "markdown",
   "metadata": {
    "collapsed": true
   },
   "source": [
    "# Lab 3 - Bar Charts, Line Charts, and Scatter Plots\n",
    "\n",
    "Welcome to Lab 3 !"
   ]
  },
  {
   "cell_type": "markdown",
   "metadata": {},
   "source": [
    "Methods for implementing the **pandas** functions in this lab come from https://pandas.pydata.org/pandas-docs/stable/index.html\n",
    "\n",
    "Methods for implementing the **matplotlib.pyplot** functions in this lab come from https://matplotlib.org/3.2.2/gallery/index.html\n",
    "\n",
    "Helpful reference for slicing and indexing:\n",
    "    \n",
    "    1)https://thispointer.com/python-pandas-select-rows-in-dataframe-by-conditions-on-multiple-columns/#pandas_select_rows_1\n",
    "    \n",
    "    2)https://pandas.pydata.org/pandas-docs/version/0.15.0/indexing.html"
   ]
  },
  {
   "cell_type": "markdown",
   "metadata": {},
   "source": [
    "# Introduction\n",
    "\n",
    "**pandas** is a fast, powerful, flexible and easy to use open source data analysis and manipulation tool, built on top of the Python programming language. \n",
    "\n",
    "**matplotlib** is a comprehensive library for creating static, animated, and interactive visualizations in Python.\n",
    "\n",
    "Up to this point, we have utilized some of **pandas** and **matplotlib's** basic functionality for simple operations. We will now take a look at some more of the methods available to us using **pandas** and **matplotlib.** \n",
    "\n",
    "Areas to cover include:\n",
    "    \n",
    "   1) Grouped and Stacked Bar charts and **`.filter()`**\n",
    "   \n",
    "   2) Line charts, **`.reset_index()`**, and **`.drop()`**\n",
    "   \n",
    "   3) Unemployment and **`.sort_values()`**\n",
    "   \n",
    "   4) Scatter plots, **`.dropna()`**, and **`.isna()`**\n",
    "    \n",
    "Run these cells below to import your modules and get started:"
   ]
  },
  {
   "cell_type": "code",
   "execution_count": 45,
   "metadata": {},
   "outputs": [],
   "source": [
    "import pandas as pd\n",
    "import numpy as np \n",
    "import matplotlib\n",
    "%matplotlib inline\n",
    "import matplotlib.pyplot as plt\n",
    "plt.style.use('fivethirtyeight')"
   ]
  },
  {
   "cell_type": "markdown",
   "metadata": {},
   "source": [
    "# 1. Grouped and Stacked Bar Charts\n",
    "\n",
    "A **bar chart** depicts data values for a categorical variable, using rectangular bars having lengths proportional to category values. The chart is drawn using two axes: a category axis that displays the category names and a value axis that displays the counts.\n",
    "\n",
    "The data set we will be working with contains data from police shootings from 2015 to 2020.\n",
    "\n",
    "**NOTE:** This dataset can be found at: https://www.kaggle.com/ahsen1330/us-police-shootings?select=shootings.csv"
   ]
  },
  {
   "cell_type": "code",
   "execution_count": 46,
   "metadata": {},
   "outputs": [
    {
     "name": "stdout",
     "output_type": "stream",
     "text": [
      "This data set has  4895  rows and 15 columns.\n",
      "id                           int64\n",
      "name                        object\n",
      "date                        object\n",
      "manner_of_death             object\n",
      "armed                       object\n",
      "age                        float64\n",
      "gender                      object\n",
      "race                        object\n",
      "city                        object\n",
      "state                       object\n",
      "signs_of_mental_illness       bool\n",
      "threat_level                object\n",
      "flee                        object\n",
      "body_camera                   bool\n",
      "arms_category               object\n",
      "dtype: object\n"
     ]
    }
   ],
   "source": [
    "shootings = pd.read_csv(\"shootings.csv\")\n",
    "\n",
    "print(\"This data set has \",shootings.shape[0], \" rows and\", shootings.shape[1], \"columns.\")\n",
    "\n",
    "print(shootings.dtypes)"
   ]
  },
  {
   "cell_type": "markdown",
   "metadata": {},
   "source": [
    "Let's go ahead and sample the data three times to see what kind of results we get."
   ]
  },
  {
   "cell_type": "code",
   "execution_count": 47,
   "metadata": {},
   "outputs": [
    {
     "data": {
      "text/html": [
       "<div>\n",
       "<style scoped>\n",
       "    .dataframe tbody tr th:only-of-type {\n",
       "        vertical-align: middle;\n",
       "    }\n",
       "\n",
       "    .dataframe tbody tr th {\n",
       "        vertical-align: top;\n",
       "    }\n",
       "\n",
       "    .dataframe thead th {\n",
       "        text-align: right;\n",
       "    }\n",
       "</style>\n",
       "<table border=\"1\" class=\"dataframe\">\n",
       "  <thead>\n",
       "    <tr style=\"text-align: right;\">\n",
       "      <th></th>\n",
       "      <th>id</th>\n",
       "      <th>name</th>\n",
       "      <th>date</th>\n",
       "      <th>manner_of_death</th>\n",
       "      <th>armed</th>\n",
       "      <th>age</th>\n",
       "      <th>gender</th>\n",
       "      <th>race</th>\n",
       "      <th>city</th>\n",
       "      <th>state</th>\n",
       "      <th>signs_of_mental_illness</th>\n",
       "      <th>threat_level</th>\n",
       "      <th>flee</th>\n",
       "      <th>body_camera</th>\n",
       "      <th>arms_category</th>\n",
       "    </tr>\n",
       "  </thead>\n",
       "  <tbody>\n",
       "    <tr>\n",
       "      <th>1423</th>\n",
       "      <td>1650</td>\n",
       "      <td>Ismael Miranda</td>\n",
       "      <td>2016-06-24</td>\n",
       "      <td>shot</td>\n",
       "      <td>gun</td>\n",
       "      <td>36.0</td>\n",
       "      <td>M</td>\n",
       "      <td>Black</td>\n",
       "      <td>Paterson</td>\n",
       "      <td>NJ</td>\n",
       "      <td>False</td>\n",
       "      <td>attack</td>\n",
       "      <td>Not fleeing</td>\n",
       "      <td>False</td>\n",
       "      <td>Guns</td>\n",
       "    </tr>\n",
       "    <tr>\n",
       "      <th>4337</th>\n",
       "      <td>5126</td>\n",
       "      <td>Dean Thomas</td>\n",
       "      <td>2019-10-27</td>\n",
       "      <td>shot</td>\n",
       "      <td>gun</td>\n",
       "      <td>63.0</td>\n",
       "      <td>M</td>\n",
       "      <td>White</td>\n",
       "      <td>Madison</td>\n",
       "      <td>WI</td>\n",
       "      <td>False</td>\n",
       "      <td>attack</td>\n",
       "      <td>Not fleeing</td>\n",
       "      <td>False</td>\n",
       "      <td>Guns</td>\n",
       "    </tr>\n",
       "    <tr>\n",
       "      <th>1542</th>\n",
       "      <td>1775</td>\n",
       "      <td>Ronald Smith</td>\n",
       "      <td>2016-08-09</td>\n",
       "      <td>shot</td>\n",
       "      <td>gun</td>\n",
       "      <td>45.0</td>\n",
       "      <td>M</td>\n",
       "      <td>White</td>\n",
       "      <td>Circleville</td>\n",
       "      <td>OH</td>\n",
       "      <td>True</td>\n",
       "      <td>other</td>\n",
       "      <td>Not fleeing</td>\n",
       "      <td>False</td>\n",
       "      <td>Guns</td>\n",
       "    </tr>\n",
       "  </tbody>\n",
       "</table>\n",
       "</div>"
      ],
      "text/plain": [
       "        id            name        date manner_of_death armed   age gender  \\\n",
       "1423  1650  Ismael Miranda  2016-06-24            shot   gun  36.0      M   \n",
       "4337  5126     Dean Thomas  2019-10-27            shot   gun  63.0      M   \n",
       "1542  1775    Ronald Smith  2016-08-09            shot   gun  45.0      M   \n",
       "\n",
       "       race         city state  signs_of_mental_illness threat_level  \\\n",
       "1423  Black     Paterson    NJ                    False       attack   \n",
       "4337  White      Madison    WI                    False       attack   \n",
       "1542  White  Circleville    OH                     True        other   \n",
       "\n",
       "             flee  body_camera arms_category  \n",
       "1423  Not fleeing        False          Guns  \n",
       "4337  Not fleeing        False          Guns  \n",
       "1542  Not fleeing        False          Guns  "
      ]
     },
     "execution_count": 47,
     "metadata": {},
     "output_type": "execute_result"
    }
   ],
   "source": [
    "first_sample = shootings.sample(n=3)\n",
    "\n",
    "first_sample"
   ]
  },
  {
   "cell_type": "code",
   "execution_count": 48,
   "metadata": {},
   "outputs": [
    {
     "data": {
      "text/html": [
       "<div>\n",
       "<style scoped>\n",
       "    .dataframe tbody tr th:only-of-type {\n",
       "        vertical-align: middle;\n",
       "    }\n",
       "\n",
       "    .dataframe tbody tr th {\n",
       "        vertical-align: top;\n",
       "    }\n",
       "\n",
       "    .dataframe thead th {\n",
       "        text-align: right;\n",
       "    }\n",
       "</style>\n",
       "<table border=\"1\" class=\"dataframe\">\n",
       "  <thead>\n",
       "    <tr style=\"text-align: right;\">\n",
       "      <th></th>\n",
       "      <th>id</th>\n",
       "      <th>name</th>\n",
       "      <th>date</th>\n",
       "      <th>manner_of_death</th>\n",
       "      <th>armed</th>\n",
       "      <th>age</th>\n",
       "      <th>gender</th>\n",
       "      <th>race</th>\n",
       "      <th>city</th>\n",
       "      <th>state</th>\n",
       "      <th>signs_of_mental_illness</th>\n",
       "      <th>threat_level</th>\n",
       "      <th>flee</th>\n",
       "      <th>body_camera</th>\n",
       "      <th>arms_category</th>\n",
       "    </tr>\n",
       "  </thead>\n",
       "  <tbody>\n",
       "    <tr>\n",
       "      <th>1163</th>\n",
       "      <td>1360</td>\n",
       "      <td>Wesley Chad Deerman</td>\n",
       "      <td>2016-03-13</td>\n",
       "      <td>shot</td>\n",
       "      <td>gun</td>\n",
       "      <td>26.0</td>\n",
       "      <td>M</td>\n",
       "      <td>White</td>\n",
       "      <td>Piedmont</td>\n",
       "      <td>AL</td>\n",
       "      <td>False</td>\n",
       "      <td>attack</td>\n",
       "      <td>Car</td>\n",
       "      <td>False</td>\n",
       "      <td>Guns</td>\n",
       "    </tr>\n",
       "    <tr>\n",
       "      <th>2758</th>\n",
       "      <td>3215</td>\n",
       "      <td>Michael Wilson</td>\n",
       "      <td>2017-12-17</td>\n",
       "      <td>shot</td>\n",
       "      <td>unarmed</td>\n",
       "      <td>27.0</td>\n",
       "      <td>M</td>\n",
       "      <td>Black</td>\n",
       "      <td>Hallandale Beach</td>\n",
       "      <td>FL</td>\n",
       "      <td>False</td>\n",
       "      <td>other</td>\n",
       "      <td>Car</td>\n",
       "      <td>False</td>\n",
       "      <td>Unarmed</td>\n",
       "    </tr>\n",
       "    <tr>\n",
       "      <th>2857</th>\n",
       "      <td>3361</td>\n",
       "      <td>Matthew Zimmerman</td>\n",
       "      <td>2018-01-26</td>\n",
       "      <td>shot</td>\n",
       "      <td>knife</td>\n",
       "      <td>42.0</td>\n",
       "      <td>M</td>\n",
       "      <td>White</td>\n",
       "      <td>Alton</td>\n",
       "      <td>IL</td>\n",
       "      <td>False</td>\n",
       "      <td>attack</td>\n",
       "      <td>Not fleeing</td>\n",
       "      <td>False</td>\n",
       "      <td>Sharp objects</td>\n",
       "    </tr>\n",
       "  </tbody>\n",
       "</table>\n",
       "</div>"
      ],
      "text/plain": [
       "        id                 name        date manner_of_death    armed   age  \\\n",
       "1163  1360  Wesley Chad Deerman  2016-03-13            shot      gun  26.0   \n",
       "2758  3215       Michael Wilson  2017-12-17            shot  unarmed  27.0   \n",
       "2857  3361    Matthew Zimmerman  2018-01-26            shot    knife  42.0   \n",
       "\n",
       "     gender   race              city state  signs_of_mental_illness  \\\n",
       "1163      M  White          Piedmont    AL                    False   \n",
       "2758      M  Black  Hallandale Beach    FL                    False   \n",
       "2857      M  White             Alton    IL                    False   \n",
       "\n",
       "     threat_level         flee  body_camera  arms_category  \n",
       "1163       attack          Car        False           Guns  \n",
       "2758        other          Car        False        Unarmed  \n",
       "2857       attack  Not fleeing        False  Sharp objects  "
      ]
     },
     "execution_count": 48,
     "metadata": {},
     "output_type": "execute_result"
    }
   ],
   "source": [
    "second_sample = shootings.sample(n=3)\n",
    "\n",
    "second_sample"
   ]
  },
  {
   "cell_type": "code",
   "execution_count": 49,
   "metadata": {},
   "outputs": [
    {
     "data": {
      "text/html": [
       "<div>\n",
       "<style scoped>\n",
       "    .dataframe tbody tr th:only-of-type {\n",
       "        vertical-align: middle;\n",
       "    }\n",
       "\n",
       "    .dataframe tbody tr th {\n",
       "        vertical-align: top;\n",
       "    }\n",
       "\n",
       "    .dataframe thead th {\n",
       "        text-align: right;\n",
       "    }\n",
       "</style>\n",
       "<table border=\"1\" class=\"dataframe\">\n",
       "  <thead>\n",
       "    <tr style=\"text-align: right;\">\n",
       "      <th></th>\n",
       "      <th>id</th>\n",
       "      <th>name</th>\n",
       "      <th>date</th>\n",
       "      <th>manner_of_death</th>\n",
       "      <th>armed</th>\n",
       "      <th>age</th>\n",
       "      <th>gender</th>\n",
       "      <th>race</th>\n",
       "      <th>city</th>\n",
       "      <th>state</th>\n",
       "      <th>signs_of_mental_illness</th>\n",
       "      <th>threat_level</th>\n",
       "      <th>flee</th>\n",
       "      <th>body_camera</th>\n",
       "      <th>arms_category</th>\n",
       "    </tr>\n",
       "  </thead>\n",
       "  <tbody>\n",
       "    <tr>\n",
       "      <th>96</th>\n",
       "      <td>135</td>\n",
       "      <td>Larry Hostetter</td>\n",
       "      <td>2015-02-08</td>\n",
       "      <td>shot</td>\n",
       "      <td>gun</td>\n",
       "      <td>41.0</td>\n",
       "      <td>M</td>\n",
       "      <td>White</td>\n",
       "      <td>Nocona</td>\n",
       "      <td>TX</td>\n",
       "      <td>False</td>\n",
       "      <td>attack</td>\n",
       "      <td>Not fleeing</td>\n",
       "      <td>False</td>\n",
       "      <td>Guns</td>\n",
       "    </tr>\n",
       "    <tr>\n",
       "      <th>3022</th>\n",
       "      <td>3539</td>\n",
       "      <td>Kaitlin Marie Demeo</td>\n",
       "      <td>2018-03-24</td>\n",
       "      <td>shot</td>\n",
       "      <td>gun</td>\n",
       "      <td>25.0</td>\n",
       "      <td>F</td>\n",
       "      <td>White</td>\n",
       "      <td>Columbus</td>\n",
       "      <td>OH</td>\n",
       "      <td>False</td>\n",
       "      <td>attack</td>\n",
       "      <td>Not fleeing</td>\n",
       "      <td>False</td>\n",
       "      <td>Guns</td>\n",
       "    </tr>\n",
       "    <tr>\n",
       "      <th>1843</th>\n",
       "      <td>2137</td>\n",
       "      <td>Chassady LeClair</td>\n",
       "      <td>2016-12-17</td>\n",
       "      <td>shot</td>\n",
       "      <td>gun</td>\n",
       "      <td>44.0</td>\n",
       "      <td>M</td>\n",
       "      <td>Native</td>\n",
       "      <td>Everett</td>\n",
       "      <td>WA</td>\n",
       "      <td>False</td>\n",
       "      <td>other</td>\n",
       "      <td>Not fleeing</td>\n",
       "      <td>False</td>\n",
       "      <td>Guns</td>\n",
       "    </tr>\n",
       "  </tbody>\n",
       "</table>\n",
       "</div>"
      ],
      "text/plain": [
       "        id                 name        date manner_of_death armed   age  \\\n",
       "96     135      Larry Hostetter  2015-02-08            shot   gun  41.0   \n",
       "3022  3539  Kaitlin Marie Demeo  2018-03-24            shot   gun  25.0   \n",
       "1843  2137     Chassady LeClair  2016-12-17            shot   gun  44.0   \n",
       "\n",
       "     gender    race      city state  signs_of_mental_illness threat_level  \\\n",
       "96        M   White    Nocona    TX                    False       attack   \n",
       "3022      F   White  Columbus    OH                    False       attack   \n",
       "1843      M  Native   Everett    WA                    False        other   \n",
       "\n",
       "             flee  body_camera arms_category  \n",
       "96    Not fleeing        False          Guns  \n",
       "3022  Not fleeing        False          Guns  \n",
       "1843  Not fleeing        False          Guns  "
      ]
     },
     "execution_count": 49,
     "metadata": {},
     "output_type": "execute_result"
    }
   ],
   "source": [
    "third_sample = shootings.sample(n=3)\n",
    "\n",
    "third_sample"
   ]
  },
  {
   "cell_type": "markdown",
   "metadata": {},
   "source": [
    "Let's create a bar chart displaying how many people who were killed had signs of mental illness.\n",
    "\n",
    "Let's first start by creating a sub-table containing 'id,' 'name,' 'gender,' 'race,' and 'sign_of_mental_illness.'\n",
    "\n",
    "We can do this using the **`.filter()`** method in the cell below"
   ]
  },
  {
   "cell_type": "code",
   "execution_count": 50,
   "metadata": {
    "scrolled": true
   },
   "outputs": [
    {
     "name": "stdout",
     "output_type": "stream",
     "text": [
      "(4895, 5)\n",
      "\n",
      "id                          int64\n",
      "name                       object\n",
      "gender                     object\n",
      "race                       object\n",
      "signs_of_mental_illness      bool\n",
      "dtype: object\n"
     ]
    }
   ],
   "source": [
    "sub_table = shootings.filter(items = ['id', 'name','gender','race','signs_of_mental_illness'])\n",
    "\n",
    "print(sub_table.shape)\n",
    "print()\n",
    "print(sub_table.dtypes)\n"
   ]
  },
  {
   "cell_type": "markdown",
   "metadata": {},
   "source": [
    "Now lets create arrays for the signs of mental illness. We will have an array for men  who did and didn't show signs of mental illness, as well as for women containing who did and didn't show signs of mental illness. We can \"filter\" through the dataframe(table) easily using the syntax below.\n",
    "\n",
    "Then, we will create a visual with the **`plt.bar`** fucntion\n",
    "\n",
    "**NOTE:** This link can be used as a reference:  https://python-graph-gallery.com/11-grouped-barplot/"
   ]
  },
  {
   "cell_type": "code",
   "execution_count": 51,
   "metadata": {},
   "outputs": [
    {
     "data": {
      "image/png": "[encoded data removed]",
      "text/plain": [
       "<Figure size 432x288 with 1 Axes>"
      ]
     },
     "metadata": {},
     "output_type": "display_data"
    }
   ],
   "source": [
    "# This contains an array for all the men that showed signs of mental illness\n",
    "Menbar1 = sub_table[(sub_table.gender == 'M') & (sub_table.signs_of_mental_illness == True)]\n",
    "# This contains an array for all the men that did not show signs of mental illness\n",
    "Menbar2 = sub_table[(sub_table.gender == 'M') & (sub_table.signs_of_mental_illness == False)]\n",
    "# This contains an array for all the women that showed signs of mental illness\n",
    "Womenbar1 =sub_table[(sub_table.gender == 'F') & (sub_table.signs_of_mental_illness == True)]\n",
    "# This contains an array for all the women that did not show signs of mental illness\n",
    "Womenbar2 = sub_table[(sub_table.gender == 'F') & (sub_table.signs_of_mental_illness == False)]\n",
    "\n",
    "# print(len(Menbar1)) - 1304\n",
    "# print(len(Menbar2)) - 3639\n",
    "# print(len(Womenbar1)) - 69\n",
    "# print(len(Womenbar2)) - 153\n",
    "\n",
    "# Bar variable for men and women that showed signs of mental illness\n",
    "\n",
    "men_total = [len(Menbar1), len(Menbar2)] # SOMI - 'Signs of Mental Illness'\n",
    "\n",
    "# Bar varibale for men and women that did not show signs of mental illness\n",
    "\n",
    "women_total = [len(Womenbar1), len(Womenbar2)]  # NSOMI - 'No Signs of Mental Illness'\n",
    " \n",
    "\n",
    "bar_width = 0.35\n",
    "\n",
    "# Set position of bar on X axis\n",
    "r1 = np.arange(len(men_total))  # this variable contains the number of bar groups there will be, which is two\n",
    "r2 = [x + bar_width for x in r1]\n",
    "\n",
    "\n",
    "# Make the plot\n",
    "plt.bar(r1, men_total, color='blue', width=bar_width, edgecolor='black', linewidth = 1.2, label='Men')\n",
    "plt.bar(r2, women_total, color='red', width=bar_width, edgecolor='black',linewidth =1.2, label='Women')\n",
    "\n",
    "# Add xticks on the middle of the group bars\n",
    "plt.xlabel('Groups', fontweight='bold')\n",
    "plt.ylabel('Death Count')\n",
    "plt.xticks([r + 0.15 for r in range(len(men_total))], ['SOMI','NSOMI'])\n",
    "\n",
    "\n",
    "# Create legend & Show graphic\n",
    "plt.title(\"People who did and did not show signs of mental illness\")\n",
    "plt.legend()\n",
    "plt.show()\n",
    "\n",
    "\n"
   ]
  },
  {
   "cell_type": "markdown",
   "metadata": {},
   "source": [
    "We can also turn the same data into a **stacked bar chart**. "
   ]
  },
  {
   "cell_type": "code",
   "execution_count": 52,
   "metadata": {
    "scrolled": true
   },
   "outputs": [
    {
     "data": {
      "text/plain": [
       "<matplotlib.legend.Legend at 0x7f6cbf035c90>"
      ]
     },
     "execution_count": 52,
     "metadata": {},
     "output_type": "execute_result"
    },
    {
     "data": {
      "image/png": "[encoded data removed]",
      "text/plain": [
       "<Figure size 432x288 with 1 Axes>"
      ]
     },
     "metadata": {},
     "output_type": "display_data"
    }
   ],
   "source": [
    "Menbar1 = len(sub_table[(sub_table.gender == 'M') & (sub_table.signs_of_mental_illness == True)])\n",
    "Menbar2 = len(sub_table[(sub_table.gender == 'M') & (sub_table.signs_of_mental_illness == False)])\n",
    "Womenbar1 = len(sub_table[(sub_table.gender == 'F') & (sub_table.signs_of_mental_illness == True)])\n",
    "Womenbar2 = len(sub_table[(sub_table.gender == 'F') & (sub_table.signs_of_mental_illness == False)])\n",
    "\n",
    "            \n",
    "# Bar variable for men and women that showed signs of mental illness\n",
    "\n",
    "men = [Menbar1, Menbar2]\n",
    "\n",
    "# Bar varibale for men and women that did not show signs of mental illness\n",
    "women = [Womenbar1, Womenbar2]  \n",
    "\n",
    "# Heights of bars1 + bars2\n",
    "bars = np.add(men, women).tolist()\n",
    "\n",
    "# The position of the bars on the x-axis\n",
    "r = [0,1]\n",
    "\n",
    "bar_names = ['SOMI', 'NSOMI']\n",
    "\n",
    "# Create the womens bars\n",
    "plt.bar(r, women, color='red', edgecolor='black', width= 0.5, linewidth = 1.5, label = 'Women')\n",
    "# Create mens bars (middle), on top of the firs ones\n",
    "plt.bar(r, men, bottom=women, color='blue', edgecolor='black', linewidth = 1.5, width=0.5, label = 'Men')\n",
    "\n",
    "# Custom X axis\n",
    "plt.xticks(r, bar_names, fontweight='bold')\n",
    "plt.xlabel(\"group\")\n",
    "plt.ylabel(\"Death Count\")\n",
    " \n",
    "# Show graphic\n",
    "plt.title(\"People who did and did not show signs of mental illness\")\n",
    "plt.legend()\n",
    "#plt.show()"
   ]
  },
  {
   "cell_type": "markdown",
   "metadata": {},
   "source": [
    "**Question:** Create a stacked bar chart displaying the total value of people who showed \"Signs of Mental Illness\" (SOMI) mental illness stacked on the number of men who showed SOMI. Do the same for women."
   ]
  },
  {
   "cell_type": "code",
   "execution_count": 53,
   "metadata": {},
   "outputs": [
    {
     "data": {
      "text/plain": [
       "<matplotlib.legend.Legend at 0x7f6cbc2fed50>"
      ]
     },
     "execution_count": 53,
     "metadata": {},
     "output_type": "execute_result"
    },
    {
     "data": {
      "image/png": "[encoded data removed]",
      "text/plain": [
       "<Figure size 432x288 with 1 Axes>"
      ]
     },
     "metadata": {},
     "output_type": "display_data"
    }
   ],
   "source": [
    "Menbar1 = len(sub_table[(sub_table.gender == 'M') & (sub_table.signs_of_mental_illness == True)])\n",
    "Womenbar1 = len(sub_table[(sub_table.gender == 'F') & (sub_table.signs_of_mental_illness == True)])\n",
    "      \n",
    "total = Menbar1+Womenbar1\n",
    "\n",
    "\n",
    "# Bar variable for men that showed signs of mental illness\n",
    "SOMI_gen = [Menbar1, Womenbar1]\n",
    "\n",
    "\n",
    "\n",
    "# Bar variable for women that showed signs of mental illness\n",
    "total = [total-Menbar1, total-Womenbar1]  \n",
    "\n",
    "# Heights of men and women\n",
    "bars = np.add(SOMI_gen, total).tolist()\n",
    "\n",
    "# The position of the bars on the x-axis\n",
    "r = [0, 1]\n",
    "\n",
    "bar_names = ['SOMI Men', 'SOMI Women']\n",
    "\n",
    "# Create the bars\n",
    "plt.bar(r, SOMI_gen, color='blue', edgecolor='black', width= 0.5, linewidth = 1.5, label = 'Gender')\n",
    "# Create mens bars (middle), on top of the firs ones\n",
    "plt.bar(r, total, bottom=SOMI_gen, color='purple', edgecolor='black', linewidth = 1.5, width=0.5, label = 'Total')\n",
    "\n",
    "# Custom X axis\n",
    "plt.xticks(r, bar_names, fontweight='bold')\n",
    "plt.xlabel(\"group\")\n",
    "plt.ylabel(\"Death Count\")\n",
    " \n",
    "# Show graphic\n",
    "plt.title(\"SOMI Men and Women\")\n",
    "plt.legend()\n",
    "#plt.show()"
   ]
  },
  {
   "cell_type": "markdown",
   "metadata": {},
   "source": [
    "**Question:** Create a grouped bar chart comparing the number of black men and white men grouped together, along with black women and white women grouped together."
   ]
  },
  {
   "cell_type": "code",
   "execution_count": 54,
   "metadata": {},
   "outputs": [
    {
     "data": {
      "image/png": "[encoded data removed]",
      "text/plain": [
       "<Figure size 432x288 with 1 Axes>"
      ]
     },
     "metadata": {},
     "output_type": "display_data"
    }
   ],
   "source": [
    "# This contains an array for all the black men shot by police\n",
    "BlackMen = sub_table[(sub_table.gender == 'M') & (sub_table.race == \"Black\")]\n",
    "# This contains an array for all the white men shot by police\n",
    "WhiteMen = sub_table[(sub_table.gender == 'M') & (sub_table.race == \"White\")]\n",
    "# This contains an array for all the black women shot by police\n",
    "BlackWomen =sub_table[(sub_table.gender == 'F') & (sub_table.race == \"Black\")]\n",
    "# This contains an array for all the white women shot by police\n",
    "WhiteWomen = sub_table[(sub_table.gender == 'F') & (sub_table.race == \"White\")]\n",
    "\n",
    "# print(len(BlackMen)) \n",
    "# print(len(WhiteMen)) \n",
    "# print(len(BlackWomen)) \n",
    "# print(len(Womenbar2)) \n",
    "\n",
    "# 1251\n",
    "# 2340\n",
    "# 47\n",
    "# 136\n",
    "\n",
    "# Bar variable for white men and women shot by police \n",
    "\n",
    "white = [len(WhiteMen), len(WhiteWomen)] # white people\n",
    "\n",
    "# Bar varibale for black men and women shot by police \n",
    "\n",
    "black = [len(BlackMen), len(BlackWomen)]  # black people\n",
    " \n",
    "\n",
    "bar_width = 0.35\n",
    "\n",
    "# Set position of bar on X axis\n",
    "r1 = np.arange(len(white))  # this variable contains the number of bar groups there will be, which is two\n",
    "r2 = [x + bar_width for x in r1]\n",
    "\n",
    "\n",
    "# Make the plot\n",
    "plt.bar(r1, white, color='blue', width=bar_width, edgecolor='black', linewidth = 1.2, label='White')\n",
    "plt.bar(r2, black, color='red', width=bar_width, edgecolor='black',linewidth =1.2, label='Black')\n",
    "\n",
    "# Add xticks on the middle of the group bars\n",
    "plt.xlabel('Groups', fontweight='bold')\n",
    "plt.ylabel('Death Count')\n",
    "plt.xticks([r + 0.15 for r in range(len(white))], ['Men','Women'])\n",
    "\n",
    "\n",
    "# Create legend & Show graphic\n",
    "plt.title(\"Black Men and Women as well as White Men and Women Shot by Police\")\n",
    "plt.legend()\n",
    "plt.show()\n",
    "\n",
    "\n",
    "\n"
   ]
  },
  {
   "cell_type": "markdown",
   "metadata": {},
   "source": [
    "# 2. Line Charts\n",
    "\n",
    "A **line chart** (or **line graph**) depicts data trends by using straight lines to connect successive data points in a scatter plot. The straight lines show the general direction that data changes over time. Because trends involve time, line charts commonly use a time metric for the horizontal axis. \n",
    "\n",
    "Let's work with data set on unemployment in all counties of America from 1990 - 2016. \n",
    "\n",
    "**NOTE:** This data set can be found at: https://www.kaggle.com/jayrav13/unemployment-by-county-us?select=output.csv"
   ]
  },
  {
   "cell_type": "code",
   "execution_count": 55,
   "metadata": {},
   "outputs": [
    {
     "name": "stdout",
     "output_type": "stream",
     "text": [
      "(885548, 5)\n"
     ]
    }
   ],
   "source": [
    "county_unemployment = pd.read_csv(\"county_unemployment.csv\")\n",
    "print(county_unemployment.shape)"
   ]
  },
  {
   "cell_type": "code",
   "execution_count": 56,
   "metadata": {},
   "outputs": [
    {
     "data": {
      "text/plain": [
       "Year        int64\n",
       "Month      object\n",
       "State      object\n",
       "County     object\n",
       "Rate      float64\n",
       "dtype: object"
      ]
     },
     "execution_count": 56,
     "metadata": {},
     "output_type": "execute_result"
    }
   ],
   "source": [
    "county_unemployment.dtypes"
   ]
  },
  {
   "cell_type": "code",
   "execution_count": 57,
   "metadata": {},
   "outputs": [
    {
     "data": {
      "text/html": [
       "<div>\n",
       "<style scoped>\n",
       "    .dataframe tbody tr th:only-of-type {\n",
       "        vertical-align: middle;\n",
       "    }\n",
       "\n",
       "    .dataframe tbody tr th {\n",
       "        vertical-align: top;\n",
       "    }\n",
       "\n",
       "    .dataframe thead th {\n",
       "        text-align: right;\n",
       "    }\n",
       "</style>\n",
       "<table border=\"1\" class=\"dataframe\">\n",
       "  <thead>\n",
       "    <tr style=\"text-align: right;\">\n",
       "      <th></th>\n",
       "      <th>Year</th>\n",
       "      <th>Month</th>\n",
       "      <th>State</th>\n",
       "      <th>County</th>\n",
       "      <th>Rate</th>\n",
       "    </tr>\n",
       "  </thead>\n",
       "  <tbody>\n",
       "    <tr>\n",
       "      <th>596973</th>\n",
       "      <td>2002</td>\n",
       "      <td>December</td>\n",
       "      <td>Texas</td>\n",
       "      <td>Callahan County</td>\n",
       "      <td>4.4</td>\n",
       "    </tr>\n",
       "    <tr>\n",
       "      <th>392989</th>\n",
       "      <td>1995</td>\n",
       "      <td>December</td>\n",
       "      <td>Kansas</td>\n",
       "      <td>Nemaha County</td>\n",
       "      <td>1.6</td>\n",
       "    </tr>\n",
       "    <tr>\n",
       "      <th>49137</th>\n",
       "      <td>2014</td>\n",
       "      <td>January</td>\n",
       "      <td>Virginia</td>\n",
       "      <td>Henrico County</td>\n",
       "      <td>5.5</td>\n",
       "    </tr>\n",
       "    <tr>\n",
       "      <th>156039</th>\n",
       "      <td>2010</td>\n",
       "      <td>June</td>\n",
       "      <td>Missouri</td>\n",
       "      <td>Christian County</td>\n",
       "      <td>8.2</td>\n",
       "    </tr>\n",
       "    <tr>\n",
       "      <th>303243</th>\n",
       "      <td>1993</td>\n",
       "      <td>February</td>\n",
       "      <td>Minnesota</td>\n",
       "      <td>Benton County</td>\n",
       "      <td>7.4</td>\n",
       "    </tr>\n",
       "  </tbody>\n",
       "</table>\n",
       "</div>"
      ],
      "text/plain": [
       "        Year     Month      State            County  Rate\n",
       "596973  2002  December      Texas   Callahan County   4.4\n",
       "392989  1995  December     Kansas     Nemaha County   1.6\n",
       "49137   2014   January   Virginia    Henrico County   5.5\n",
       "156039  2010      June   Missouri  Christian County   8.2\n",
       "303243  1993  February  Minnesota     Benton County   7.4"
      ]
     },
     "execution_count": 57,
     "metadata": {},
     "output_type": "execute_result"
    }
   ],
   "source": [
    "county_unemployment.sample(n=5)"
   ]
  },
  {
   "cell_type": "markdown",
   "metadata": {},
   "source": [
    "As you can see this is a very large data set. Let's work with a smaller data set with only the counties in the state of Maryland"
   ]
  },
  {
   "cell_type": "code",
   "execution_count": 58,
   "metadata": {
    "scrolled": true
   },
   "outputs": [
    {
     "name": "stdout",
     "output_type": "stream",
     "text": [
      "(7776, 5)\n",
      "        Year      Month     State              County  Rate\n",
      "303634  1993   February  Maryland      Baltimore City  10.4\n",
      "524290  1999      April  Maryland      Charles County   2.7\n",
      "776751  2004     August  Maryland   Dorchester County   5.8\n",
      "572327  2002    October  Maryland         Kent County   3.5\n",
      "246740  1991     August  Maryland  Queen Annes County   4.9\n",
      "88431   2016  September  Maryland  Saint Marys County   3.8\n",
      "363085  1992       July  Maryland     Allegany County  13.8\n"
     ]
    }
   ],
   "source": [
    "md_unemployment = county_unemployment[county_unemployment.State == 'Maryland']\n",
    "md_unemployment = md_unemployment.filter(items = ['Year','Month', \"State\", 'County', 'Rate'])\n",
    "print(md_unemployment.shape)\n",
    "print(md_unemployment.sample(n=7))"
   ]
  },
  {
   "cell_type": "markdown",
   "metadata": {},
   "source": [
    "This is much better. Now because each year has different rates of unemployment, let's compute the average rate of unemployment for each year and store them in a dictionary.\n",
    "\n",
    "First, lets sort this dataset by the 'Year' column."
   ]
  },
  {
   "cell_type": "code",
   "execution_count": 59,
   "metadata": {},
   "outputs": [
    {
     "data": {
      "text/html": [
       "<div>\n",
       "<style scoped>\n",
       "    .dataframe tbody tr th:only-of-type {\n",
       "        vertical-align: middle;\n",
       "    }\n",
       "\n",
       "    .dataframe tbody tr th {\n",
       "        vertical-align: top;\n",
       "    }\n",
       "\n",
       "    .dataframe thead th {\n",
       "        text-align: right;\n",
       "    }\n",
       "</style>\n",
       "<table border=\"1\" class=\"dataframe\">\n",
       "  <thead>\n",
       "    <tr style=\"text-align: right;\">\n",
       "      <th></th>\n",
       "      <th>Year</th>\n",
       "      <th>Month</th>\n",
       "      <th>State</th>\n",
       "      <th>County</th>\n",
       "      <th>Rate</th>\n",
       "    </tr>\n",
       "  </thead>\n",
       "  <tbody>\n",
       "    <tr>\n",
       "      <th>287569</th>\n",
       "      <td>1990</td>\n",
       "      <td>June</td>\n",
       "      <td>Maryland</td>\n",
       "      <td>Cecil County</td>\n",
       "      <td>8.7</td>\n",
       "    </tr>\n",
       "    <tr>\n",
       "      <th>279127</th>\n",
       "      <td>1990</td>\n",
       "      <td>August</td>\n",
       "      <td>Maryland</td>\n",
       "      <td>Kent County</td>\n",
       "      <td>5.6</td>\n",
       "    </tr>\n",
       "    <tr>\n",
       "      <th>279128</th>\n",
       "      <td>1990</td>\n",
       "      <td>August</td>\n",
       "      <td>Maryland</td>\n",
       "      <td>Caroline County</td>\n",
       "      <td>3.6</td>\n",
       "    </tr>\n",
       "    <tr>\n",
       "      <th>279129</th>\n",
       "      <td>1990</td>\n",
       "      <td>August</td>\n",
       "      <td>Maryland</td>\n",
       "      <td>Somerset County</td>\n",
       "      <td>12.9</td>\n",
       "    </tr>\n",
       "    <tr>\n",
       "      <th>281927</th>\n",
       "      <td>1990</td>\n",
       "      <td>May</td>\n",
       "      <td>Maryland</td>\n",
       "      <td>Cecil County</td>\n",
       "      <td>9.1</td>\n",
       "    </tr>\n",
       "    <tr>\n",
       "      <th>...</th>\n",
       "      <td>...</td>\n",
       "      <td>...</td>\n",
       "      <td>...</td>\n",
       "      <td>...</td>\n",
       "      <td>...</td>\n",
       "    </tr>\n",
       "    <tr>\n",
       "      <th>77024</th>\n",
       "      <td>2016</td>\n",
       "      <td>August</td>\n",
       "      <td>Maryland</td>\n",
       "      <td>Caroline County</td>\n",
       "      <td>4.8</td>\n",
       "    </tr>\n",
       "    <tr>\n",
       "      <th>77023</th>\n",
       "      <td>2016</td>\n",
       "      <td>August</td>\n",
       "      <td>Maryland</td>\n",
       "      <td>Kent County</td>\n",
       "      <td>4.7</td>\n",
       "    </tr>\n",
       "    <tr>\n",
       "      <th>77022</th>\n",
       "      <td>2016</td>\n",
       "      <td>August</td>\n",
       "      <td>Maryland</td>\n",
       "      <td>Harford County</td>\n",
       "      <td>4.3</td>\n",
       "    </tr>\n",
       "    <tr>\n",
       "      <th>68475</th>\n",
       "      <td>2016</td>\n",
       "      <td>February</td>\n",
       "      <td>Maryland</td>\n",
       "      <td>Cecil County</td>\n",
       "      <td>5.9</td>\n",
       "    </tr>\n",
       "    <tr>\n",
       "      <th>82736</th>\n",
       "      <td>2016</td>\n",
       "      <td>January</td>\n",
       "      <td>Maryland</td>\n",
       "      <td>Caroline County</td>\n",
       "      <td>5.6</td>\n",
       "    </tr>\n",
       "  </tbody>\n",
       "</table>\n",
       "<p>7776 rows × 5 columns</p>\n",
       "</div>"
      ],
      "text/plain": [
       "        Year     Month     State           County  Rate\n",
       "287569  1990      June  Maryland     Cecil County   8.7\n",
       "279127  1990    August  Maryland      Kent County   5.6\n",
       "279128  1990    August  Maryland  Caroline County   3.6\n",
       "279129  1990    August  Maryland  Somerset County  12.9\n",
       "281927  1990       May  Maryland     Cecil County   9.1\n",
       "...      ...       ...       ...              ...   ...\n",
       "77024   2016    August  Maryland  Caroline County   4.8\n",
       "77023   2016    August  Maryland      Kent County   4.7\n",
       "77022   2016    August  Maryland   Harford County   4.3\n",
       "68475   2016  February  Maryland     Cecil County   5.9\n",
       "82736   2016   January  Maryland  Caroline County   5.6\n",
       "\n",
       "[7776 rows x 5 columns]"
      ]
     },
     "execution_count": 59,
     "metadata": {},
     "output_type": "execute_result"
    }
   ],
   "source": [
    "md_unemployment = md_unemployment.sort_values('Year', ascending = True)\n",
    "md_unemployment"
   ]
  },
  {
   "cell_type": "markdown",
   "metadata": {},
   "source": [
    "Referencing the indexes of each row will get difficult if we leave them as they are. Let's reset the indexes to have them start from 0 up.\n",
    "\n",
    "We can do this using the **`reset_index.()`** method in the cell below"
   ]
  },
  {
   "cell_type": "code",
   "execution_count": 60,
   "metadata": {},
   "outputs": [
    {
     "data": {
      "text/html": [
       "<div>\n",
       "<style scoped>\n",
       "    .dataframe tbody tr th:only-of-type {\n",
       "        vertical-align: middle;\n",
       "    }\n",
       "\n",
       "    .dataframe tbody tr th {\n",
       "        vertical-align: top;\n",
       "    }\n",
       "\n",
       "    .dataframe thead th {\n",
       "        text-align: right;\n",
       "    }\n",
       "</style>\n",
       "<table border=\"1\" class=\"dataframe\">\n",
       "  <thead>\n",
       "    <tr style=\"text-align: right;\">\n",
       "      <th></th>\n",
       "      <th>index</th>\n",
       "      <th>Year</th>\n",
       "      <th>Month</th>\n",
       "      <th>State</th>\n",
       "      <th>County</th>\n",
       "      <th>Rate</th>\n",
       "    </tr>\n",
       "  </thead>\n",
       "  <tbody>\n",
       "    <tr>\n",
       "      <th>0</th>\n",
       "      <td>287569</td>\n",
       "      <td>1990</td>\n",
       "      <td>June</td>\n",
       "      <td>Maryland</td>\n",
       "      <td>Cecil County</td>\n",
       "      <td>8.7</td>\n",
       "    </tr>\n",
       "    <tr>\n",
       "      <th>1</th>\n",
       "      <td>279127</td>\n",
       "      <td>1990</td>\n",
       "      <td>August</td>\n",
       "      <td>Maryland</td>\n",
       "      <td>Kent County</td>\n",
       "      <td>5.6</td>\n",
       "    </tr>\n",
       "    <tr>\n",
       "      <th>2</th>\n",
       "      <td>279128</td>\n",
       "      <td>1990</td>\n",
       "      <td>August</td>\n",
       "      <td>Maryland</td>\n",
       "      <td>Caroline County</td>\n",
       "      <td>3.6</td>\n",
       "    </tr>\n",
       "    <tr>\n",
       "      <th>3</th>\n",
       "      <td>279129</td>\n",
       "      <td>1990</td>\n",
       "      <td>August</td>\n",
       "      <td>Maryland</td>\n",
       "      <td>Somerset County</td>\n",
       "      <td>12.9</td>\n",
       "    </tr>\n",
       "    <tr>\n",
       "      <th>4</th>\n",
       "      <td>281927</td>\n",
       "      <td>1990</td>\n",
       "      <td>May</td>\n",
       "      <td>Maryland</td>\n",
       "      <td>Cecil County</td>\n",
       "      <td>9.1</td>\n",
       "    </tr>\n",
       "    <tr>\n",
       "      <th>...</th>\n",
       "      <td>...</td>\n",
       "      <td>...</td>\n",
       "      <td>...</td>\n",
       "      <td>...</td>\n",
       "      <td>...</td>\n",
       "      <td>...</td>\n",
       "    </tr>\n",
       "    <tr>\n",
       "      <th>7771</th>\n",
       "      <td>77024</td>\n",
       "      <td>2016</td>\n",
       "      <td>August</td>\n",
       "      <td>Maryland</td>\n",
       "      <td>Caroline County</td>\n",
       "      <td>4.8</td>\n",
       "    </tr>\n",
       "    <tr>\n",
       "      <th>7772</th>\n",
       "      <td>77023</td>\n",
       "      <td>2016</td>\n",
       "      <td>August</td>\n",
       "      <td>Maryland</td>\n",
       "      <td>Kent County</td>\n",
       "      <td>4.7</td>\n",
       "    </tr>\n",
       "    <tr>\n",
       "      <th>7773</th>\n",
       "      <td>77022</td>\n",
       "      <td>2016</td>\n",
       "      <td>August</td>\n",
       "      <td>Maryland</td>\n",
       "      <td>Harford County</td>\n",
       "      <td>4.3</td>\n",
       "    </tr>\n",
       "    <tr>\n",
       "      <th>7774</th>\n",
       "      <td>68475</td>\n",
       "      <td>2016</td>\n",
       "      <td>February</td>\n",
       "      <td>Maryland</td>\n",
       "      <td>Cecil County</td>\n",
       "      <td>5.9</td>\n",
       "    </tr>\n",
       "    <tr>\n",
       "      <th>7775</th>\n",
       "      <td>82736</td>\n",
       "      <td>2016</td>\n",
       "      <td>January</td>\n",
       "      <td>Maryland</td>\n",
       "      <td>Caroline County</td>\n",
       "      <td>5.6</td>\n",
       "    </tr>\n",
       "  </tbody>\n",
       "</table>\n",
       "<p>7776 rows × 6 columns</p>\n",
       "</div>"
      ],
      "text/plain": [
       "       index  Year     Month     State           County  Rate\n",
       "0     287569  1990      June  Maryland     Cecil County   8.7\n",
       "1     279127  1990    August  Maryland      Kent County   5.6\n",
       "2     279128  1990    August  Maryland  Caroline County   3.6\n",
       "3     279129  1990    August  Maryland  Somerset County  12.9\n",
       "4     281927  1990       May  Maryland     Cecil County   9.1\n",
       "...      ...   ...       ...       ...              ...   ...\n",
       "7771   77024  2016    August  Maryland  Caroline County   4.8\n",
       "7772   77023  2016    August  Maryland      Kent County   4.7\n",
       "7773   77022  2016    August  Maryland   Harford County   4.3\n",
       "7774   68475  2016  February  Maryland     Cecil County   5.9\n",
       "7775   82736  2016   January  Maryland  Caroline County   5.6\n",
       "\n",
       "[7776 rows x 6 columns]"
      ]
     },
     "execution_count": 60,
     "metadata": {},
     "output_type": "execute_result"
    }
   ],
   "source": [
    "md_unemployment = md_unemployment.reset_index()\n",
    "md_unemployment"
   ]
  },
  {
   "cell_type": "markdown",
   "metadata": {},
   "source": [
    "Finally, let's get rid of the column 'index.'\n",
    "\n",
    "We can do this using the **`drop.()`** method "
   ]
  },
  {
   "cell_type": "code",
   "execution_count": 61,
   "metadata": {},
   "outputs": [
    {
     "data": {
      "text/html": [
       "<div>\n",
       "<style scoped>\n",
       "    .dataframe tbody tr th:only-of-type {\n",
       "        vertical-align: middle;\n",
       "    }\n",
       "\n",
       "    .dataframe tbody tr th {\n",
       "        vertical-align: top;\n",
       "    }\n",
       "\n",
       "    .dataframe thead th {\n",
       "        text-align: right;\n",
       "    }\n",
       "</style>\n",
       "<table border=\"1\" class=\"dataframe\">\n",
       "  <thead>\n",
       "    <tr style=\"text-align: right;\">\n",
       "      <th></th>\n",
       "      <th>Year</th>\n",
       "      <th>Month</th>\n",
       "      <th>State</th>\n",
       "      <th>County</th>\n",
       "      <th>Rate</th>\n",
       "    </tr>\n",
       "  </thead>\n",
       "  <tbody>\n",
       "    <tr>\n",
       "      <th>0</th>\n",
       "      <td>1990</td>\n",
       "      <td>June</td>\n",
       "      <td>Maryland</td>\n",
       "      <td>Cecil County</td>\n",
       "      <td>8.7</td>\n",
       "    </tr>\n",
       "    <tr>\n",
       "      <th>1</th>\n",
       "      <td>1990</td>\n",
       "      <td>August</td>\n",
       "      <td>Maryland</td>\n",
       "      <td>Kent County</td>\n",
       "      <td>5.6</td>\n",
       "    </tr>\n",
       "    <tr>\n",
       "      <th>2</th>\n",
       "      <td>1990</td>\n",
       "      <td>August</td>\n",
       "      <td>Maryland</td>\n",
       "      <td>Caroline County</td>\n",
       "      <td>3.6</td>\n",
       "    </tr>\n",
       "    <tr>\n",
       "      <th>3</th>\n",
       "      <td>1990</td>\n",
       "      <td>August</td>\n",
       "      <td>Maryland</td>\n",
       "      <td>Somerset County</td>\n",
       "      <td>12.9</td>\n",
       "    </tr>\n",
       "    <tr>\n",
       "      <th>4</th>\n",
       "      <td>1990</td>\n",
       "      <td>May</td>\n",
       "      <td>Maryland</td>\n",
       "      <td>Cecil County</td>\n",
       "      <td>9.1</td>\n",
       "    </tr>\n",
       "    <tr>\n",
       "      <th>...</th>\n",
       "      <td>...</td>\n",
       "      <td>...</td>\n",
       "      <td>...</td>\n",
       "      <td>...</td>\n",
       "      <td>...</td>\n",
       "    </tr>\n",
       "    <tr>\n",
       "      <th>7771</th>\n",
       "      <td>2016</td>\n",
       "      <td>August</td>\n",
       "      <td>Maryland</td>\n",
       "      <td>Caroline County</td>\n",
       "      <td>4.8</td>\n",
       "    </tr>\n",
       "    <tr>\n",
       "      <th>7772</th>\n",
       "      <td>2016</td>\n",
       "      <td>August</td>\n",
       "      <td>Maryland</td>\n",
       "      <td>Kent County</td>\n",
       "      <td>4.7</td>\n",
       "    </tr>\n",
       "    <tr>\n",
       "      <th>7773</th>\n",
       "      <td>2016</td>\n",
       "      <td>August</td>\n",
       "      <td>Maryland</td>\n",
       "      <td>Harford County</td>\n",
       "      <td>4.3</td>\n",
       "    </tr>\n",
       "    <tr>\n",
       "      <th>7774</th>\n",
       "      <td>2016</td>\n",
       "      <td>February</td>\n",
       "      <td>Maryland</td>\n",
       "      <td>Cecil County</td>\n",
       "      <td>5.9</td>\n",
       "    </tr>\n",
       "    <tr>\n",
       "      <th>7775</th>\n",
       "      <td>2016</td>\n",
       "      <td>January</td>\n",
       "      <td>Maryland</td>\n",
       "      <td>Caroline County</td>\n",
       "      <td>5.6</td>\n",
       "    </tr>\n",
       "  </tbody>\n",
       "</table>\n",
       "<p>7776 rows × 5 columns</p>\n",
       "</div>"
      ],
      "text/plain": [
       "      Year     Month     State           County  Rate\n",
       "0     1990      June  Maryland     Cecil County   8.7\n",
       "1     1990    August  Maryland      Kent County   5.6\n",
       "2     1990    August  Maryland  Caroline County   3.6\n",
       "3     1990    August  Maryland  Somerset County  12.9\n",
       "4     1990       May  Maryland     Cecil County   9.1\n",
       "...    ...       ...       ...              ...   ...\n",
       "7771  2016    August  Maryland  Caroline County   4.8\n",
       "7772  2016    August  Maryland      Kent County   4.7\n",
       "7773  2016    August  Maryland   Harford County   4.3\n",
       "7774  2016  February  Maryland     Cecil County   5.9\n",
       "7775  2016   January  Maryland  Caroline County   5.6\n",
       "\n",
       "[7776 rows x 5 columns]"
      ]
     },
     "execution_count": 61,
     "metadata": {},
     "output_type": "execute_result"
    }
   ],
   "source": [
    "md_unemployment = md_unemployment.drop(columns = ['index'])\n",
    "md_unemployment "
   ]
  },
  {
   "cell_type": "markdown",
   "metadata": {},
   "source": [
    "Suppose we are only interested in a certain county in Maryland during a certain year. We can write a statement that creates a subtable based on these certain conditions using the following syntax.\n",
    "\n",
    "Run the cell below."
   ]
  },
  {
   "cell_type": "code",
   "execution_count": 62,
   "metadata": {
    "scrolled": false
   },
   "outputs": [
    {
     "data": {
      "text/html": [
       "<div>\n",
       "<style scoped>\n",
       "    .dataframe tbody tr th:only-of-type {\n",
       "        vertical-align: middle;\n",
       "    }\n",
       "\n",
       "    .dataframe tbody tr th {\n",
       "        vertical-align: top;\n",
       "    }\n",
       "\n",
       "    .dataframe thead th {\n",
       "        text-align: right;\n",
       "    }\n",
       "</style>\n",
       "<table border=\"1\" class=\"dataframe\">\n",
       "  <thead>\n",
       "    <tr style=\"text-align: right;\">\n",
       "      <th></th>\n",
       "      <th>Year</th>\n",
       "      <th>Month</th>\n",
       "      <th>State</th>\n",
       "      <th>County</th>\n",
       "      <th>Rate</th>\n",
       "    </tr>\n",
       "  </thead>\n",
       "  <tbody>\n",
       "    <tr>\n",
       "      <th>8</th>\n",
       "      <td>1990</td>\n",
       "      <td>May</td>\n",
       "      <td>Maryland</td>\n",
       "      <td>Prince George's County</td>\n",
       "      <td>3.2</td>\n",
       "    </tr>\n",
       "    <tr>\n",
       "      <th>19</th>\n",
       "      <td>1990</td>\n",
       "      <td>August</td>\n",
       "      <td>Maryland</td>\n",
       "      <td>Prince George's County</td>\n",
       "      <td>3.9</td>\n",
       "    </tr>\n",
       "    <tr>\n",
       "      <th>67</th>\n",
       "      <td>1990</td>\n",
       "      <td>January</td>\n",
       "      <td>Maryland</td>\n",
       "      <td>Prince George's County</td>\n",
       "      <td>2.8</td>\n",
       "    </tr>\n",
       "    <tr>\n",
       "      <th>87</th>\n",
       "      <td>1990</td>\n",
       "      <td>October</td>\n",
       "      <td>Maryland</td>\n",
       "      <td>Prince George's County</td>\n",
       "      <td>4.0</td>\n",
       "    </tr>\n",
       "    <tr>\n",
       "      <th>92</th>\n",
       "      <td>1990</td>\n",
       "      <td>February</td>\n",
       "      <td>Maryland</td>\n",
       "      <td>Prince George's County</td>\n",
       "      <td>2.7</td>\n",
       "    </tr>\n",
       "    <tr>\n",
       "      <th>140</th>\n",
       "      <td>1990</td>\n",
       "      <td>March</td>\n",
       "      <td>Maryland</td>\n",
       "      <td>Prince George's County</td>\n",
       "      <td>2.6</td>\n",
       "    </tr>\n",
       "    <tr>\n",
       "      <th>151</th>\n",
       "      <td>1990</td>\n",
       "      <td>July</td>\n",
       "      <td>Maryland</td>\n",
       "      <td>Prince George's County</td>\n",
       "      <td>3.6</td>\n",
       "    </tr>\n",
       "    <tr>\n",
       "      <th>179</th>\n",
       "      <td>1990</td>\n",
       "      <td>December</td>\n",
       "      <td>Maryland</td>\n",
       "      <td>Prince George's County</td>\n",
       "      <td>4.0</td>\n",
       "    </tr>\n",
       "    <tr>\n",
       "      <th>211</th>\n",
       "      <td>1990</td>\n",
       "      <td>November</td>\n",
       "      <td>Maryland</td>\n",
       "      <td>Prince George's County</td>\n",
       "      <td>4.2</td>\n",
       "    </tr>\n",
       "    <tr>\n",
       "      <th>225</th>\n",
       "      <td>1990</td>\n",
       "      <td>September</td>\n",
       "      <td>Maryland</td>\n",
       "      <td>Prince George's County</td>\n",
       "      <td>4.1</td>\n",
       "    </tr>\n",
       "    <tr>\n",
       "      <th>236</th>\n",
       "      <td>1990</td>\n",
       "      <td>June</td>\n",
       "      <td>Maryland</td>\n",
       "      <td>Prince George's County</td>\n",
       "      <td>3.7</td>\n",
       "    </tr>\n",
       "    <tr>\n",
       "      <th>284</th>\n",
       "      <td>1990</td>\n",
       "      <td>April</td>\n",
       "      <td>Maryland</td>\n",
       "      <td>Prince George's County</td>\n",
       "      <td>2.8</td>\n",
       "    </tr>\n",
       "  </tbody>\n",
       "</table>\n",
       "</div>"
      ],
      "text/plain": [
       "     Year      Month     State                  County  Rate\n",
       "8    1990        May  Maryland  Prince George's County   3.2\n",
       "19   1990     August  Maryland  Prince George's County   3.9\n",
       "67   1990    January  Maryland  Prince George's County   2.8\n",
       "87   1990    October  Maryland  Prince George's County   4.0\n",
       "92   1990   February  Maryland  Prince George's County   2.7\n",
       "140  1990      March  Maryland  Prince George's County   2.6\n",
       "151  1990       July  Maryland  Prince George's County   3.6\n",
       "179  1990   December  Maryland  Prince George's County   4.0\n",
       "211  1990   November  Maryland  Prince George's County   4.2\n",
       "225  1990  September  Maryland  Prince George's County   4.1\n",
       "236  1990       June  Maryland  Prince George's County   3.7\n",
       "284  1990      April  Maryland  Prince George's County   2.8"
      ]
     },
     "execution_count": 62,
     "metadata": {},
     "output_type": "execute_result"
    }
   ],
   "source": [
    "year = 1990 \n",
    "pgc_unemployment = md_unemployment[(md_unemployment.County == \"Prince George's County\") & (md_unemployment.Year == year)]\n",
    "pgc_unemployment"
   ]
  },
  {
   "cell_type": "markdown",
   "metadata": {},
   "source": [
    "Finally, we write a function to get the averages for Prince George's County, and display it using a line chart."
   ]
  },
  {
   "cell_type": "code",
   "execution_count": 63,
   "metadata": {
    "scrolled": false
   },
   "outputs": [
    {
     "data": {
      "image/png": "[encoded data removed]",
      "text/plain": [
       "<Figure size 432x288 with 1 Axes>"
      ]
     },
     "metadata": {},
     "output_type": "display_data"
    }
   ],
   "source": [
    "def get_averages(averages):\n",
    "    year = 1990\n",
    "    while year != 2017:\n",
    "        pgc_unemployment = md_unemployment[(md_unemployment.County == \"Prince George's County\") & (md_unemployment.Year == year)]\n",
    "        values = pgc_unemployment['Rate'].values # get values in a list\n",
    "        avg_rate = sum(values) / len(values) # calculate the average\n",
    "        averages[year] = avg_rate\n",
    "        year += 1\n",
    "\n",
    "aver_dict = {} # create a dictionary for the averages of MD unemployment over the years\n",
    "get_averages(aver_dict)\n",
    "\n",
    "\n",
    "Year = list(aver_dict.keys()) # get key for the year\n",
    "Unemployment_Rate = list(aver_dict.values()) # get average rate for each year\n",
    "\n",
    "plt.plot(Year, Unemployment_Rate)\n",
    "plt.title(\"Unemployment Rate for Prince George's County Maryland\")\n",
    "plt.xlabel('Year')\n",
    "plt.ylabel(\"Rate\")\n",
    "plt.show()"
   ]
  },
  {
   "cell_type": "markdown",
   "metadata": {},
   "source": [
    "**Question:** Create a line chart that shows the unemployment for **all counties** in Maryland from 1990 to 2016. Use the `md_unemployment` data set."
   ]
  },
  {
   "cell_type": "code",
   "execution_count": 64,
   "metadata": {},
   "outputs": [
    {
     "data": {
      "image/png": "[encoded data removed]",
      "text/plain": [
       "<Figure size 432x288 with 1 Axes>"
      ]
     },
     "metadata": {},
     "output_type": "display_data"
    }
   ],
   "source": [
    "def get_averages(averages):\n",
    "    year = 1990\n",
    "    while year != 2017:\n",
    "        maryland_unemployment = md_unemployment[(md_unemployment.State == \"Maryland\") & (md_unemployment.Year == year)]\n",
    "        values = maryland_unemployment['Rate'].values # get values in a list\n",
    "        avg_rate = sum(values) / len(values) # calculate the average\n",
    "        averages[year] = avg_rate\n",
    "        year += 1\n",
    "\n",
    "aver_dict = {} # create a dictionary for the averages of MD unemployment over the years\n",
    "get_averages(aver_dict)\n",
    "\n",
    "Year = list(aver_dict.keys()) # get key for the year\n",
    "Unemployment_Rate = list(aver_dict.values()) # get average rate for each year\n",
    "\n",
    "plt.plot(Year, Unemployment_Rate)\n",
    "plt.title(\"Unemployment Rate for Maryland\")\n",
    "plt.xlabel('Year')\n",
    "plt.ylabel(\"Rate\")\n",
    "plt.show()"
   ]
  },
  {
   "cell_type": "markdown",
   "metadata": {},
   "source": [
    "**Question:** Compare the line charts of Prince George's County and Maryland to one another. Are there similarities ? Are there differences ?\n",
    "Fill your answer in below."
   ]
  },
  {
   "cell_type": "code",
   "execution_count": 65,
   "metadata": {},
   "outputs": [
    {
     "data": {
      "text/plain": [
       "'The employment was lowest in between 2005 and 2010 in both Maryland and PG County probably because of 2008 Recession. The shapes of both lines are similar in shape and especially similar from 2000 onwards. The main difference is the rate in PG County was very low in 1990-2000 and in Maryland overall it was low, then high and then low again.'"
      ]
     },
     "execution_count": 65,
     "metadata": {},
     "output_type": "execute_result"
    }
   ],
   "source": [
    "explanation1 = 'The employment was lowest in between 2005 and 2010 in both Maryland and PG County probably because of 2008 Recession. The shapes of both lines are similar in shape and especially similar from 2000 onwards. The main difference is the rate in PG County was very low in 1990-2000 and in Maryland overall it was low, then high and then low again.'\n",
    "explanation1"
   ]
  },
  {
   "cell_type": "markdown",
   "metadata": {},
   "source": [
    "**Question:** Why do you suppose that the years between 2005 and 2010 saw a significant increase in the unemployment rate? Fill your answer in below."
   ]
  },
  {
   "cell_type": "code",
   "execution_count": 66,
   "metadata": {},
   "outputs": [
    {
     "data": {
      "text/plain": [
       "'Due to the 2008 Recession. Many people lost their jobs and income.'"
      ]
     },
     "execution_count": 66,
     "metadata": {},
     "output_type": "execute_result"
    }
   ],
   "source": [
    "explanation2 = 'Due to the 2008 Recession. Many people lost their jobs and income.'\n",
    "explanation2"
   ]
  },
  {
   "cell_type": "markdown",
   "metadata": {},
   "source": [
    "# 3. Unemployment\n",
    "\n",
    "The Federal Reserve Bank of St. Louis publishes data about jobs in the US. Below, we've loaded data on unemployment in the United States. There are many ways of defining unemployment, and our dataset includes two notions of the unemployment rate:\n",
    "\n",
    "Among people who are able to work and are looking for a full-time job, the percentage who can't find a job. This is called the Non-Employment Index, or NEI.\n",
    "Among people who are able to work and are looking for a full-time job, the percentage who can't find any job or are only working at a part-time job. The latter group is called \"Part-Time for Economic Reasons\", so the acronym for this index is NEI-PTER. (Economists are great at marketing.)\n",
    "\n",
    "The source data can be found at this link.\n",
    "\n",
    "**Question 1:** The data are in a CSV file called `unemployment.csv`.  Load that file into a table called `unemployment`."
   ]
  },
  {
   "cell_type": "code",
   "execution_count": 67,
   "metadata": {},
   "outputs": [
    {
     "data": {
      "text/html": [
       "<div>\n",
       "<style scoped>\n",
       "    .dataframe tbody tr th:only-of-type {\n",
       "        vertical-align: middle;\n",
       "    }\n",
       "\n",
       "    .dataframe tbody tr th {\n",
       "        vertical-align: top;\n",
       "    }\n",
       "\n",
       "    .dataframe thead th {\n",
       "        text-align: right;\n",
       "    }\n",
       "</style>\n",
       "<table border=\"1\" class=\"dataframe\">\n",
       "  <thead>\n",
       "    <tr style=\"text-align: right;\">\n",
       "      <th></th>\n",
       "      <th>Date</th>\n",
       "      <th>NEI</th>\n",
       "      <th>NEI-PTER</th>\n",
       "    </tr>\n",
       "  </thead>\n",
       "  <tbody>\n",
       "    <tr>\n",
       "      <th>0</th>\n",
       "      <td>1994-01-01</td>\n",
       "      <td>10.0974</td>\n",
       "      <td>11.1720</td>\n",
       "    </tr>\n",
       "    <tr>\n",
       "      <th>1</th>\n",
       "      <td>1994-04-01</td>\n",
       "      <td>9.6239</td>\n",
       "      <td>10.7883</td>\n",
       "    </tr>\n",
       "    <tr>\n",
       "      <th>2</th>\n",
       "      <td>1994-07-01</td>\n",
       "      <td>9.3276</td>\n",
       "      <td>10.4831</td>\n",
       "    </tr>\n",
       "    <tr>\n",
       "      <th>3</th>\n",
       "      <td>1994-10-01</td>\n",
       "      <td>9.1071</td>\n",
       "      <td>10.2361</td>\n",
       "    </tr>\n",
       "    <tr>\n",
       "      <th>4</th>\n",
       "      <td>1995-01-01</td>\n",
       "      <td>8.9693</td>\n",
       "      <td>10.1832</td>\n",
       "    </tr>\n",
       "    <tr>\n",
       "      <th>...</th>\n",
       "      <td>...</td>\n",
       "      <td>...</td>\n",
       "      <td>...</td>\n",
       "    </tr>\n",
       "    <tr>\n",
       "      <th>85</th>\n",
       "      <td>2015-04-01</td>\n",
       "      <td>8.8386</td>\n",
       "      <td>10.1483</td>\n",
       "    </tr>\n",
       "    <tr>\n",
       "      <th>86</th>\n",
       "      <td>2015-07-01</td>\n",
       "      <td>8.6847</td>\n",
       "      <td>9.9166</td>\n",
       "    </tr>\n",
       "    <tr>\n",
       "      <th>87</th>\n",
       "      <td>2015-10-01</td>\n",
       "      <td>8.6650</td>\n",
       "      <td>9.8385</td>\n",
       "    </tr>\n",
       "    <tr>\n",
       "      <th>88</th>\n",
       "      <td>2016-01-01</td>\n",
       "      <td>8.4330</td>\n",
       "      <td>9.6174</td>\n",
       "    </tr>\n",
       "    <tr>\n",
       "      <th>89</th>\n",
       "      <td>2016-04-01</td>\n",
       "      <td>8.5400</td>\n",
       "      <td>9.7146</td>\n",
       "    </tr>\n",
       "  </tbody>\n",
       "</table>\n",
       "<p>90 rows × 3 columns</p>\n",
       "</div>"
      ],
      "text/plain": [
       "          Date      NEI  NEI-PTER\n",
       "0   1994-01-01  10.0974   11.1720\n",
       "1   1994-04-01   9.6239   10.7883\n",
       "2   1994-07-01   9.3276   10.4831\n",
       "3   1994-10-01   9.1071   10.2361\n",
       "4   1995-01-01   8.9693   10.1832\n",
       "..         ...      ...       ...\n",
       "85  2015-04-01   8.8386   10.1483\n",
       "86  2015-07-01   8.6847    9.9166\n",
       "87  2015-10-01   8.6650    9.8385\n",
       "88  2016-01-01   8.4330    9.6174\n",
       "89  2016-04-01   8.5400    9.7146\n",
       "\n",
       "[90 rows x 3 columns]"
      ]
     },
     "execution_count": 67,
     "metadata": {},
     "output_type": "execute_result"
    }
   ],
   "source": [
    "unemployment = pd.read_csv(\"unemployment.csv\")\n",
    "unemployment"
   ]
  },
  {
   "cell_type": "markdown",
   "metadata": {},
   "source": [
    "**Question 2:** Sort the data in descending order by NEI, naming the sorted table `by_nei`.  Create another table called `by_nei_pter` that's sorted in descending order by NEI-PTER instead.\n",
    "\n",
    "Reference this article for help: https://cmdlinetips.com/2018/02/how-to-sort-pandas-dataframe-by-columns-and-row/"
   ]
  },
  {
   "cell_type": "code",
   "execution_count": 68,
   "metadata": {},
   "outputs": [
    {
     "data": {
      "text/html": [
       "<div>\n",
       "<style scoped>\n",
       "    .dataframe tbody tr th:only-of-type {\n",
       "        vertical-align: middle;\n",
       "    }\n",
       "\n",
       "    .dataframe tbody tr th {\n",
       "        vertical-align: top;\n",
       "    }\n",
       "\n",
       "    .dataframe thead th {\n",
       "        text-align: right;\n",
       "    }\n",
       "</style>\n",
       "<table border=\"1\" class=\"dataframe\">\n",
       "  <thead>\n",
       "    <tr style=\"text-align: right;\">\n",
       "      <th></th>\n",
       "      <th>Date</th>\n",
       "      <th>NEI</th>\n",
       "      <th>NEI-PTER</th>\n",
       "    </tr>\n",
       "  </thead>\n",
       "  <tbody>\n",
       "    <tr>\n",
       "      <th>63</th>\n",
       "      <td>2009-10-01</td>\n",
       "      <td>10.9698</td>\n",
       "      <td>12.8557</td>\n",
       "    </tr>\n",
       "    <tr>\n",
       "      <th>64</th>\n",
       "      <td>2010-01-01</td>\n",
       "      <td>10.9054</td>\n",
       "      <td>12.7311</td>\n",
       "    </tr>\n",
       "    <tr>\n",
       "      <th>62</th>\n",
       "      <td>2009-07-01</td>\n",
       "      <td>10.8089</td>\n",
       "      <td>12.7404</td>\n",
       "    </tr>\n",
       "    <tr>\n",
       "      <th>61</th>\n",
       "      <td>2009-04-01</td>\n",
       "      <td>10.7082</td>\n",
       "      <td>12.5497</td>\n",
       "    </tr>\n",
       "    <tr>\n",
       "      <th>65</th>\n",
       "      <td>2010-04-01</td>\n",
       "      <td>10.6597</td>\n",
       "      <td>12.5664</td>\n",
       "    </tr>\n",
       "    <tr>\n",
       "      <th>...</th>\n",
       "      <td>...</td>\n",
       "      <td>...</td>\n",
       "      <td>...</td>\n",
       "    </tr>\n",
       "    <tr>\n",
       "      <th>28</th>\n",
       "      <td>2001-01-01</td>\n",
       "      <td>7.7570</td>\n",
       "      <td>8.4969</td>\n",
       "    </tr>\n",
       "    <tr>\n",
       "      <th>26</th>\n",
       "      <td>2000-07-01</td>\n",
       "      <td>7.6915</td>\n",
       "      <td>8.4458</td>\n",
       "    </tr>\n",
       "    <tr>\n",
       "      <th>27</th>\n",
       "      <td>2000-10-01</td>\n",
       "      <td>7.6769</td>\n",
       "      <td>8.4192</td>\n",
       "    </tr>\n",
       "    <tr>\n",
       "      <th>25</th>\n",
       "      <td>2000-04-01</td>\n",
       "      <td>7.6754</td>\n",
       "      <td>8.4199</td>\n",
       "    </tr>\n",
       "    <tr>\n",
       "      <th>24</th>\n",
       "      <td>2000-01-01</td>\n",
       "      <td>7.6128</td>\n",
       "      <td>8.3379</td>\n",
       "    </tr>\n",
       "  </tbody>\n",
       "</table>\n",
       "<p>90 rows × 3 columns</p>\n",
       "</div>"
      ],
      "text/plain": [
       "          Date      NEI  NEI-PTER\n",
       "63  2009-10-01  10.9698   12.8557\n",
       "64  2010-01-01  10.9054   12.7311\n",
       "62  2009-07-01  10.8089   12.7404\n",
       "61  2009-04-01  10.7082   12.5497\n",
       "65  2010-04-01  10.6597   12.5664\n",
       "..         ...      ...       ...\n",
       "28  2001-01-01   7.7570    8.4969\n",
       "26  2000-07-01   7.6915    8.4458\n",
       "27  2000-10-01   7.6769    8.4192\n",
       "25  2000-04-01   7.6754    8.4199\n",
       "24  2000-01-01   7.6128    8.3379\n",
       "\n",
       "[90 rows x 3 columns]"
      ]
     },
     "execution_count": 68,
     "metadata": {},
     "output_type": "execute_result"
    }
   ],
   "source": [
    "by_nei = unemployment.sort_values(\"NEI\", ascending=False)\n",
    "by_nei"
   ]
  },
  {
   "cell_type": "code",
   "execution_count": 69,
   "metadata": {},
   "outputs": [
    {
     "data": {
      "text/html": [
       "<div>\n",
       "<style scoped>\n",
       "    .dataframe tbody tr th:only-of-type {\n",
       "        vertical-align: middle;\n",
       "    }\n",
       "\n",
       "    .dataframe tbody tr th {\n",
       "        vertical-align: top;\n",
       "    }\n",
       "\n",
       "    .dataframe thead th {\n",
       "        text-align: right;\n",
       "    }\n",
       "</style>\n",
       "<table border=\"1\" class=\"dataframe\">\n",
       "  <thead>\n",
       "    <tr style=\"text-align: right;\">\n",
       "      <th></th>\n",
       "      <th>Date</th>\n",
       "      <th>NEI</th>\n",
       "      <th>NEI-PTER</th>\n",
       "    </tr>\n",
       "  </thead>\n",
       "  <tbody>\n",
       "    <tr>\n",
       "      <th>63</th>\n",
       "      <td>2009-10-01</td>\n",
       "      <td>10.9698</td>\n",
       "      <td>12.8557</td>\n",
       "    </tr>\n",
       "    <tr>\n",
       "      <th>62</th>\n",
       "      <td>2009-07-01</td>\n",
       "      <td>10.8089</td>\n",
       "      <td>12.7404</td>\n",
       "    </tr>\n",
       "    <tr>\n",
       "      <th>64</th>\n",
       "      <td>2010-01-01</td>\n",
       "      <td>10.9054</td>\n",
       "      <td>12.7311</td>\n",
       "    </tr>\n",
       "    <tr>\n",
       "      <th>65</th>\n",
       "      <td>2010-04-01</td>\n",
       "      <td>10.6597</td>\n",
       "      <td>12.5664</td>\n",
       "    </tr>\n",
       "    <tr>\n",
       "      <th>61</th>\n",
       "      <td>2009-04-01</td>\n",
       "      <td>10.7082</td>\n",
       "      <td>12.5497</td>\n",
       "    </tr>\n",
       "    <tr>\n",
       "      <th>...</th>\n",
       "      <td>...</td>\n",
       "      <td>...</td>\n",
       "      <td>...</td>\n",
       "    </tr>\n",
       "    <tr>\n",
       "      <th>28</th>\n",
       "      <td>2001-01-01</td>\n",
       "      <td>7.7570</td>\n",
       "      <td>8.4969</td>\n",
       "    </tr>\n",
       "    <tr>\n",
       "      <th>26</th>\n",
       "      <td>2000-07-01</td>\n",
       "      <td>7.6915</td>\n",
       "      <td>8.4458</td>\n",
       "    </tr>\n",
       "    <tr>\n",
       "      <th>25</th>\n",
       "      <td>2000-04-01</td>\n",
       "      <td>7.6754</td>\n",
       "      <td>8.4199</td>\n",
       "    </tr>\n",
       "    <tr>\n",
       "      <th>27</th>\n",
       "      <td>2000-10-01</td>\n",
       "      <td>7.6769</td>\n",
       "      <td>8.4192</td>\n",
       "    </tr>\n",
       "    <tr>\n",
       "      <th>24</th>\n",
       "      <td>2000-01-01</td>\n",
       "      <td>7.6128</td>\n",
       "      <td>8.3379</td>\n",
       "    </tr>\n",
       "  </tbody>\n",
       "</table>\n",
       "<p>90 rows × 3 columns</p>\n",
       "</div>"
      ],
      "text/plain": [
       "          Date      NEI  NEI-PTER\n",
       "63  2009-10-01  10.9698   12.8557\n",
       "62  2009-07-01  10.8089   12.7404\n",
       "64  2010-01-01  10.9054   12.7311\n",
       "65  2010-04-01  10.6597   12.5664\n",
       "61  2009-04-01  10.7082   12.5497\n",
       "..         ...      ...       ...\n",
       "28  2001-01-01   7.7570    8.4969\n",
       "26  2000-07-01   7.6915    8.4458\n",
       "25  2000-04-01   7.6754    8.4199\n",
       "27  2000-10-01   7.6769    8.4192\n",
       "24  2000-01-01   7.6128    8.3379\n",
       "\n",
       "[90 rows x 3 columns]"
      ]
     },
     "execution_count": 69,
     "metadata": {},
     "output_type": "execute_result"
    }
   ],
   "source": [
    "by_nei_pter = unemployment.sort_values(\"NEI-PTER\", ascending=False)\n",
    "by_nei_pter"
   ]
  },
  {
   "cell_type": "markdown",
   "metadata": {},
   "source": [
    "**Question 3:** Create a table containing the data for the 10 quarters when NEI was greatest.  Call that table `greatest_nei`.\n",
    "\n",
    "`greatest_nei` should be sorted in descending order of `NEI`. Note that each row of `unemployment` represents a quarter."
   ]
  },
  {
   "cell_type": "code",
   "execution_count": 70,
   "metadata": {},
   "outputs": [
    {
     "data": {
      "text/html": [
       "<div>\n",
       "<style scoped>\n",
       "    .dataframe tbody tr th:only-of-type {\n",
       "        vertical-align: middle;\n",
       "    }\n",
       "\n",
       "    .dataframe tbody tr th {\n",
       "        vertical-align: top;\n",
       "    }\n",
       "\n",
       "    .dataframe thead th {\n",
       "        text-align: right;\n",
       "    }\n",
       "</style>\n",
       "<table border=\"1\" class=\"dataframe\">\n",
       "  <thead>\n",
       "    <tr style=\"text-align: right;\">\n",
       "      <th></th>\n",
       "      <th>Date</th>\n",
       "      <th>NEI</th>\n",
       "      <th>NEI-PTER</th>\n",
       "    </tr>\n",
       "  </thead>\n",
       "  <tbody>\n",
       "    <tr>\n",
       "      <th>63</th>\n",
       "      <td>2009-10-01</td>\n",
       "      <td>10.9698</td>\n",
       "      <td>12.8557</td>\n",
       "    </tr>\n",
       "    <tr>\n",
       "      <th>64</th>\n",
       "      <td>2010-01-01</td>\n",
       "      <td>10.9054</td>\n",
       "      <td>12.7311</td>\n",
       "    </tr>\n",
       "    <tr>\n",
       "      <th>62</th>\n",
       "      <td>2009-07-01</td>\n",
       "      <td>10.8089</td>\n",
       "      <td>12.7404</td>\n",
       "    </tr>\n",
       "    <tr>\n",
       "      <th>61</th>\n",
       "      <td>2009-04-01</td>\n",
       "      <td>10.7082</td>\n",
       "      <td>12.5497</td>\n",
       "    </tr>\n",
       "    <tr>\n",
       "      <th>65</th>\n",
       "      <td>2010-04-01</td>\n",
       "      <td>10.6597</td>\n",
       "      <td>12.5664</td>\n",
       "    </tr>\n",
       "    <tr>\n",
       "      <th>67</th>\n",
       "      <td>2010-10-01</td>\n",
       "      <td>10.5856</td>\n",
       "      <td>12.4329</td>\n",
       "    </tr>\n",
       "    <tr>\n",
       "      <th>66</th>\n",
       "      <td>2010-07-01</td>\n",
       "      <td>10.5521</td>\n",
       "      <td>12.3897</td>\n",
       "    </tr>\n",
       "    <tr>\n",
       "      <th>68</th>\n",
       "      <td>2011-01-01</td>\n",
       "      <td>10.5024</td>\n",
       "      <td>12.3017</td>\n",
       "    </tr>\n",
       "    <tr>\n",
       "      <th>70</th>\n",
       "      <td>2011-07-01</td>\n",
       "      <td>10.4856</td>\n",
       "      <td>12.2507</td>\n",
       "    </tr>\n",
       "  </tbody>\n",
       "</table>\n",
       "</div>"
      ],
      "text/plain": [
       "          Date      NEI  NEI-PTER\n",
       "63  2009-10-01  10.9698   12.8557\n",
       "64  2010-01-01  10.9054   12.7311\n",
       "62  2009-07-01  10.8089   12.7404\n",
       "61  2009-04-01  10.7082   12.5497\n",
       "65  2010-04-01  10.6597   12.5664\n",
       "67  2010-10-01  10.5856   12.4329\n",
       "66  2010-07-01  10.5521   12.3897\n",
       "68  2011-01-01  10.5024   12.3017\n",
       "70  2011-07-01  10.4856   12.2507"
      ]
     },
     "execution_count": 70,
     "metadata": {},
     "output_type": "execute_result"
    }
   ],
   "source": [
    "greatest_nei = by_nei[0:9]\n",
    "greatest_nei"
   ]
  },
  {
   "cell_type": "markdown",
   "metadata": {},
   "source": [
    "**Question 4:** It's believed that many people became PTER (recall: \"Part-Time for Economic Reasons\") in the \"Great Recession\" of 2008-2009.  NEI-PTER is the percentage of people who are unemployed (and counted in the NEI) plus the percentage of people who are PTER.  Compute an array containing the percentage of people who were PTER in each quarter.  (The first element of the array should correspond to the first row of `unemployment`, and so on.)\n",
    "\n",
    "*Note:* Use the original `unemployment` table for this."
   ]
  },
  {
   "cell_type": "code",
   "execution_count": 71,
   "metadata": {},
   "outputs": [
    {
     "data": {
      "text/plain": [
       "0     1.0746\n",
       "1     1.1644\n",
       "2     1.1555\n",
       "3     1.1290\n",
       "4     1.2139\n",
       "       ...  \n",
       "85    1.3097\n",
       "86    1.2319\n",
       "87    1.1735\n",
       "88    1.1844\n",
       "89    1.1746\n",
       "Length: 90, dtype: float64"
      ]
     },
     "execution_count": 71,
     "metadata": {},
     "output_type": "execute_result"
    }
   ],
   "source": [
    "pter = unemployment['NEI-PTER'] - unemployment['NEI']\n",
    "pter"
   ]
  },
  {
   "cell_type": "markdown",
   "metadata": {},
   "source": [
    "**Question 5:** Add `pter` as a column to `unemployment` (named \"PTER\") and sort the resulting table by that column in descending order.  Call the table `by_pter`."
   ]
  },
  {
   "cell_type": "markdown",
   "metadata": {},
   "source": []
  },
  {
   "cell_type": "markdown",
   "metadata": {},
   "source": [
    "**Question 6:** \n",
    "\n",
    "Create a line plot of the PTER over time. \n",
    "\n",
    "To do this, create a new table called `pter_over_time` that adds the `year` array and the `pter` array to the `unemployment` table. Label these columns `Year` and `PTER`. Then, generate a line plot using one of the table methods you've learned in class.\n",
    "\n",
    "Helpful Link: https://pandas.pydata.org/pandas-docs/stable/reference/api/pandas.DataFrame.plot.line.html"
   ]
  },
  {
   "cell_type": "code",
   "execution_count": 72,
   "metadata": {},
   "outputs": [
    {
     "data": {
      "image/png": "[encoded data removed]",
      "text/plain": [
       "<Figure size 432x288 with 1 Axes>"
      ]
     },
     "metadata": {},
     "output_type": "display_data"
    }
   ],
   "source": [
    "#Question 5\n",
    "by_pter = unemployment\n",
    "by_pter[\"PTER\"] = pter\n",
    "by_pter = by_pter.sort_values(\"PTER\", ascending=False)\n",
    "\n",
    "\n",
    "#Question 6\n",
    "pter_over_time = unemployment\n",
    "pter_over_time['PTER'] = pter \n",
    "pter_over_time['Year'] = pd.DatetimeIndex(unemployment[\"Date\"]).year\n",
    "pter_over_time\n",
    "\n",
    "def get_averages(averages):\n",
    "    year = 1990\n",
    "    while year != 2017:\n",
    "        pter_data = pter_over_time[(pter_over_time.Year == year)]\n",
    "        values = pter_data['PTER'].values \n",
    "        if len(values > 1):\n",
    "            avg_rate = sum(values) / len(values) # calculate the average\n",
    "            averages[year] = avg_rate\n",
    "        year += 1\n",
    "\n",
    "aver_dict = {} # create a dictionary for the averages of MD unemployment over the years\n",
    "get_averages(aver_dict)\n",
    "\n",
    "Year = list(aver_dict.keys()) # get key for the year\n",
    "Unemployment_Rate = list(aver_dict.values()) # get average rate for each year\n",
    "\n",
    "plt.plot(Year, Unemployment_Rate)\n",
    "plt.title(\"PTER Over Time\")\n",
    "plt.xlabel('Year')\n",
    "plt.ylabel(\"Rate\")\n",
    "plt.show()"
   ]
  },
  {
   "cell_type": "markdown",
   "metadata": {},
   "source": [
    "**Question 7:** Were PTER rates high during the Great Recession (that is to say, were PTER rates particularly high in the years 2008 through 2011)? Assign highPTER to True if you think PTER rates were high in this period, and False if you think they weren't."
   ]
  },
  {
   "cell_type": "code",
   "execution_count": 73,
   "metadata": {},
   "outputs": [
    {
     "data": {
      "text/plain": [
       "'True'"
      ]
     },
     "execution_count": 73,
     "metadata": {},
     "output_type": "execute_result"
    }
   ],
   "source": [
    "highPTER = \"True\"\n",
    "highPTER"
   ]
  },
  {
   "cell_type": "markdown",
   "metadata": {},
   "source": [
    "# 4. Scatter Plots \n",
    "\n",
    "A **scatter plot** depicts the relationship between two variables on a rectangular coordinate system, where each axis corresponds to one variable. Scatter plots are used for both quantitative and categorical data.\n",
    "\n",
    "**NOTE:** Helpful rerefence: https://matplotlib.org/3.3.0/api/_as_gen/matplotlib.pyplot.scatter.html\n",
    "\n",
    "We'll use the scatter plot for quantitative data right now.\n",
    "\n",
    "The data set we'll use is the titanic."
   ]
  },
  {
   "cell_type": "code",
   "execution_count": 74,
   "metadata": {},
   "outputs": [
    {
     "name": "stdout",
     "output_type": "stream",
     "text": [
      "(891, 12)\n",
      "PassengerId      int64\n",
      "Survived         int64\n",
      "Pclass           int64\n",
      "Name            object\n",
      "Sex             object\n",
      "Age            float64\n",
      "SibSp            int64\n",
      "Parch            int64\n",
      "Ticket          object\n",
      "Fare           float64\n",
      "Cabin           object\n",
      "Embarked        object\n",
      "dtype: object\n"
     ]
    }
   ],
   "source": [
    "titanic = pd.read_csv(\"titanic.csv\")\n",
    "print(titanic.shape)\n",
    "print(titanic.dtypes)"
   ]
  },
  {
   "cell_type": "markdown",
   "metadata": {},
   "source": [
    "Let's create a scatter plot compare the 'Age' of a passenger to their 'Fare.'\n",
    "\n",
    "We'll begin by creating a subtable with the columns 'Age' and 'Fare.'"
   ]
  },
  {
   "cell_type": "code",
   "execution_count": 75,
   "metadata": {},
   "outputs": [
    {
     "data": {
      "text/html": [
       "<div>\n",
       "<style scoped>\n",
       "    .dataframe tbody tr th:only-of-type {\n",
       "        vertical-align: middle;\n",
       "    }\n",
       "\n",
       "    .dataframe tbody tr th {\n",
       "        vertical-align: top;\n",
       "    }\n",
       "\n",
       "    .dataframe thead th {\n",
       "        text-align: right;\n",
       "    }\n",
       "</style>\n",
       "<table border=\"1\" class=\"dataframe\">\n",
       "  <thead>\n",
       "    <tr style=\"text-align: right;\">\n",
       "      <th></th>\n",
       "      <th>Age</th>\n",
       "      <th>Fare</th>\n",
       "    </tr>\n",
       "  </thead>\n",
       "  <tbody>\n",
       "    <tr>\n",
       "      <th>0</th>\n",
       "      <td>22.0</td>\n",
       "      <td>7.2500</td>\n",
       "    </tr>\n",
       "    <tr>\n",
       "      <th>1</th>\n",
       "      <td>38.0</td>\n",
       "      <td>71.2833</td>\n",
       "    </tr>\n",
       "    <tr>\n",
       "      <th>2</th>\n",
       "      <td>26.0</td>\n",
       "      <td>7.9250</td>\n",
       "    </tr>\n",
       "    <tr>\n",
       "      <th>3</th>\n",
       "      <td>35.0</td>\n",
       "      <td>53.1000</td>\n",
       "    </tr>\n",
       "    <tr>\n",
       "      <th>4</th>\n",
       "      <td>35.0</td>\n",
       "      <td>8.0500</td>\n",
       "    </tr>\n",
       "    <tr>\n",
       "      <th>...</th>\n",
       "      <td>...</td>\n",
       "      <td>...</td>\n",
       "    </tr>\n",
       "    <tr>\n",
       "      <th>886</th>\n",
       "      <td>27.0</td>\n",
       "      <td>13.0000</td>\n",
       "    </tr>\n",
       "    <tr>\n",
       "      <th>887</th>\n",
       "      <td>19.0</td>\n",
       "      <td>30.0000</td>\n",
       "    </tr>\n",
       "    <tr>\n",
       "      <th>888</th>\n",
       "      <td>NaN</td>\n",
       "      <td>23.4500</td>\n",
       "    </tr>\n",
       "    <tr>\n",
       "      <th>889</th>\n",
       "      <td>26.0</td>\n",
       "      <td>30.0000</td>\n",
       "    </tr>\n",
       "    <tr>\n",
       "      <th>890</th>\n",
       "      <td>32.0</td>\n",
       "      <td>7.7500</td>\n",
       "    </tr>\n",
       "  </tbody>\n",
       "</table>\n",
       "<p>891 rows × 2 columns</p>\n",
       "</div>"
      ],
      "text/plain": [
       "      Age     Fare\n",
       "0    22.0   7.2500\n",
       "1    38.0  71.2833\n",
       "2    26.0   7.9250\n",
       "3    35.0  53.1000\n",
       "4    35.0   8.0500\n",
       "..    ...      ...\n",
       "886  27.0  13.0000\n",
       "887  19.0  30.0000\n",
       "888   NaN  23.4500\n",
       "889  26.0  30.0000\n",
       "890  32.0   7.7500\n",
       "\n",
       "[891 rows x 2 columns]"
      ]
     },
     "execution_count": 75,
     "metadata": {},
     "output_type": "execute_result"
    }
   ],
   "source": [
    "age_fare_table = titanic.filter(items = ['Age', 'Fare'])\n",
    "age_table = titanic.filter(items = ['Age', 'Fare'])\n",
    "age_fare_table"
   ]
  },
  {
   "cell_type": "markdown",
   "metadata": {},
   "source": [
    "Notice that some of the rows have null or **NaN** values. There are two things we can do when dealing with these values:\n",
    "    \n",
    "   1) Replace the NaN values with a value using the **`.isna()`**\n",
    "    \n",
    "   2) Drop the rows that have them using **`.dropna()`**\n",
    "    \n",
    "We'll be doing the latter first."
   ]
  },
  {
   "cell_type": "code",
   "execution_count": 76,
   "metadata": {},
   "outputs": [
    {
     "data": {
      "text/html": [
       "<div>\n",
       "<style scoped>\n",
       "    .dataframe tbody tr th:only-of-type {\n",
       "        vertical-align: middle;\n",
       "    }\n",
       "\n",
       "    .dataframe tbody tr th {\n",
       "        vertical-align: top;\n",
       "    }\n",
       "\n",
       "    .dataframe thead th {\n",
       "        text-align: right;\n",
       "    }\n",
       "</style>\n",
       "<table border=\"1\" class=\"dataframe\">\n",
       "  <thead>\n",
       "    <tr style=\"text-align: right;\">\n",
       "      <th></th>\n",
       "      <th>Age</th>\n",
       "      <th>Fare</th>\n",
       "    </tr>\n",
       "  </thead>\n",
       "  <tbody>\n",
       "    <tr>\n",
       "      <th>0</th>\n",
       "      <td>22.0</td>\n",
       "      <td>7.2500</td>\n",
       "    </tr>\n",
       "    <tr>\n",
       "      <th>1</th>\n",
       "      <td>38.0</td>\n",
       "      <td>71.2833</td>\n",
       "    </tr>\n",
       "    <tr>\n",
       "      <th>2</th>\n",
       "      <td>26.0</td>\n",
       "      <td>7.9250</td>\n",
       "    </tr>\n",
       "    <tr>\n",
       "      <th>3</th>\n",
       "      <td>35.0</td>\n",
       "      <td>53.1000</td>\n",
       "    </tr>\n",
       "    <tr>\n",
       "      <th>4</th>\n",
       "      <td>35.0</td>\n",
       "      <td>8.0500</td>\n",
       "    </tr>\n",
       "    <tr>\n",
       "      <th>...</th>\n",
       "      <td>...</td>\n",
       "      <td>...</td>\n",
       "    </tr>\n",
       "    <tr>\n",
       "      <th>885</th>\n",
       "      <td>39.0</td>\n",
       "      <td>29.1250</td>\n",
       "    </tr>\n",
       "    <tr>\n",
       "      <th>886</th>\n",
       "      <td>27.0</td>\n",
       "      <td>13.0000</td>\n",
       "    </tr>\n",
       "    <tr>\n",
       "      <th>887</th>\n",
       "      <td>19.0</td>\n",
       "      <td>30.0000</td>\n",
       "    </tr>\n",
       "    <tr>\n",
       "      <th>889</th>\n",
       "      <td>26.0</td>\n",
       "      <td>30.0000</td>\n",
       "    </tr>\n",
       "    <tr>\n",
       "      <th>890</th>\n",
       "      <td>32.0</td>\n",
       "      <td>7.7500</td>\n",
       "    </tr>\n",
       "  </tbody>\n",
       "</table>\n",
       "<p>714 rows × 2 columns</p>\n",
       "</div>"
      ],
      "text/plain": [
       "      Age     Fare\n",
       "0    22.0   7.2500\n",
       "1    38.0  71.2833\n",
       "2    26.0   7.9250\n",
       "3    35.0  53.1000\n",
       "4    35.0   8.0500\n",
       "..    ...      ...\n",
       "885  39.0  29.1250\n",
       "886  27.0  13.0000\n",
       "887  19.0  30.0000\n",
       "889  26.0  30.0000\n",
       "890  32.0   7.7500\n",
       "\n",
       "[714 rows x 2 columns]"
      ]
     },
     "execution_count": 76,
     "metadata": {},
     "output_type": "execute_result"
    }
   ],
   "source": [
    "age_fare_table = age_fare_table.dropna()\n",
    "age_fare_table"
   ]
  },
  {
   "cell_type": "markdown",
   "metadata": {},
   "source": [
    "Now let's get to scattering. \n",
    "\n",
    "First, store each column in an array.\n",
    "\n",
    "Next, scatter the values"
   ]
  },
  {
   "cell_type": "code",
   "execution_count": 77,
   "metadata": {},
   "outputs": [
    {
     "data": {
      "image/png": "[encoded data removed]",
      "text/plain": [
       "<Figure size 432x288 with 1 Axes>"
      ]
     },
     "metadata": {},
     "output_type": "display_data"
    }
   ],
   "source": [
    "age = age_fare_table['Age'].values\n",
    "fare= age_fare_table['Fare'].values\n",
    "\n",
    "plt.scatter(age, fare, c='red', alpha=0.5)\n",
    "plt.title('Age and Fare Correlation')\n",
    "plt.xlabel('Age')\n",
    "plt.ylabel('Fare')\n",
    "plt.show()"
   ]
  },
  {
   "cell_type": "markdown",
   "metadata": {},
   "source": [
    "**Question:** Take a look at the original table columns. Is there a better column we can compare the 'Fare' with ? Is there a better column we can compare the 'Age' with ? Explain why or why not below."
   ]
  },
  {
   "cell_type": "code",
   "execution_count": 78,
   "metadata": {},
   "outputs": [
    {
     "data": {
      "text/plain": [
       "'If we compared ticket and fare we could see a correllation between tickets or fare and cabin. If we compared age with sex we could see which groups by cruises'"
      ]
     },
     "execution_count": 78,
     "metadata": {},
     "output_type": "execute_result"
    }
   ],
   "source": [
    "explanation3 = \"If we compared ticket and fare we could see a correllation between tickets or fare and cabin. If we compared age with sex we could see which groups by cruises\"\n",
    "explanation3"
   ]
  },
  {
   "cell_type": "markdown",
   "metadata": {},
   "source": [
    "**Question:** Find the average age of the 'Age' column in the first `age_fare_table` (the one with NaN values). Using the **`.isna()`** function, fill the `age_fare_table` **NaN** values with the average age of the 'Age' column. Finally, created a scatter plot based on filled table."
   ]
  },
  {
   "cell_type": "code",
   "execution_count": 81,
   "metadata": {},
   "outputs": [
    {
     "data": {
      "image/png": "[encoded data removed]",
      "text/plain": [
       "<Figure size 432x288 with 1 Axes>"
      ]
     },
     "metadata": {},
     "output_type": "display_data"
    }
   ],
   "source": [
    "#Extra credit now\n",
    "mean_age = age_fare_table[\"Age\"].mean()\n",
    "age_table = age_table.fillna(mean_age)\n",
    "age = age_table['Age'].values\n",
    "fare= age_table['Fare'].values\n",
    "plt.scatter(age, fare, c='red', alpha=0.5)\n",
    "plt.title('Age and Fare Correlation')\n",
    "plt.xlabel('Age')\n",
    "plt.ylabel('Fare')\n",
    "plt.show()"
   ]
  }
 ],
 "metadata": {
  "kernelspec": {
   "display_name": "Python 3",
   "language": "python",
   "name": "python3"
  },
  "language_info": {
   "codemirror_mode": {
    "name": "ipython",
    "version": 3
   },
   "file_extension": ".py",
   "mimetype": "text/x-python",
   "name": "python",
   "nbconvert_exporter": "python",
   "pygments_lexer": "ipython3",
   "version": "3.7.6"
  }
 },
 "nbformat": 4,
 "nbformat_minor": 2
}
