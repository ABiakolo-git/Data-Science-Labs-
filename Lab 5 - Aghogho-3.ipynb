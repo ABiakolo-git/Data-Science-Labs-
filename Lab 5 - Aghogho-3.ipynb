{
 "cells": [
  {
   "cell_type": "markdown",
   "metadata": {},
   "source": [
    "# Lab 5 - Randomness, Simulations, and Probabilities"
   ]
  },
  {
   "cell_type": "code",
   "execution_count": 72,
   "metadata": {},
   "outputs": [],
   "source": [
    "import pandas as pd\n",
    "import numpy as np \n",
    "import matplotlib\n",
    "%matplotlib inline\n",
    "import matplotlib.pyplot as plt\n",
    "plt.style.use('fivethirtyeight')"
   ]
  },
  {
   "cell_type": "markdown",
   "metadata": {},
   "source": [
    "## 1. Randomness using `np.random`\n",
    "\n",
    "**Randomization** is a method based on chance alone by which the individuals or items to be studied are assigned to a treatment group based on chance. Two primary reasons why randomization is used is to:\n",
    "\n",
    "    1) Minimize the differences among groups by equally distributing people with \n",
    "       particular characteristics among all the trial arms. \n",
    "    \n",
    "    2) Eliminate the presence of bias.\n",
    "\n",
    "The **np.random** library contains a wide variety of functions that can be used to randomize our data. There are many different functions we can use from this library. Documentation for all of the methods can be found here: https://docs.scipy.org/doc/numpy-1.14.0/reference/routines.random.html\n",
    "\n",
    "For this lab, we'll stick to using **`np.random.randint.()`** and **`np.random.choice()`**."
   ]
  },
  {
   "cell_type": "markdown",
   "metadata": {},
   "source": [
    "**`np.random.choice.()`** picks one item at random from the given array. It is equally likely to pick any of the items. Run the cell below several times, and observe how the results change."
   ]
  },
  {
   "cell_type": "code",
   "execution_count": 73,
   "metadata": {},
   "outputs": [
    {
     "data": {
      "text/plain": [
       "'neither'"
      ]
     },
     "execution_count": 73,
     "metadata": {},
     "output_type": "execute_result"
    }
   ],
   "source": [
    "nachos = ['cheese', 'salsa', 'both', 'neither']\n",
    "np.random.choice(nachos)"
   ]
  },
  {
   "cell_type": "markdown",
   "metadata": {},
   "source": [
    "To repeat this process multiple times, pass the **size** parameter in as an int `n` as the second argument to return `n` different random choices. By default, **`np.random.choice()`** samples **with replacement** ( but we can change that if we want to ) and returns an *array* of items. \n",
    "\n",
    "Run the next cell to see an example of sampling with replacement 10 times from the `nachos` array."
   ]
  },
  {
   "cell_type": "code",
   "execution_count": 74,
   "metadata": {},
   "outputs": [
    {
     "data": {
      "text/plain": [
       "array(['neither', 'salsa', 'cheese', 'both', 'salsa', 'neither',\n",
       "       'neither', 'neither', 'both', 'salsa'], dtype='<U7')"
      ]
     },
     "execution_count": 74,
     "metadata": {},
     "output_type": "execute_result"
    }
   ],
   "source": [
    "# Run this cell a couple times\n",
    "np.random.choice(nachos, size =10)"
   ]
  },
  {
   "cell_type": "markdown",
   "metadata": {},
   "source": [
    "The **size** parameter can be used to specify rows and colums, so we can create NxN or NxM arrays depending on what we're trying to do."
   ]
  },
  {
   "cell_type": "code",
   "execution_count": 75,
   "metadata": {},
   "outputs": [
    {
     "data": {
      "text/plain": [
       "array([['cheese', 'neither'],\n",
       "       ['both', 'cheese'],\n",
       "       ['neither', 'salsa']], dtype='<U7')"
      ]
     },
     "execution_count": 75,
     "metadata": {},
     "output_type": "execute_result"
    }
   ],
   "source": [
    "# Run this cell a couple times\n",
    "np.random.choice(nachos, size =[3,2])"
   ]
  },
  {
   "cell_type": "markdown",
   "metadata": {},
   "source": [
    "Notice that using **`np.random.choice()`** is good when we are working with categorical data. When we're working with numerical data, we'll want to use **`np.random.randint()`**."
   ]
  },
  {
   "cell_type": "code",
   "execution_count": 76,
   "metadata": {},
   "outputs": [
    {
     "data": {
      "text/plain": [
       "3"
      ]
     },
     "execution_count": 76,
     "metadata": {},
     "output_type": "execute_result"
    }
   ],
   "source": [
    "# Run this cell a couple times\n",
    "np.random.randint(5)"
   ]
  },
  {
   "cell_type": "markdown",
   "metadata": {},
   "source": [
    "Similar to **`np.random.choice()`**, **`np.random.randint()`** has parameters **high** and **size** as optional parameters. Note that **low** is inclusive and **high** is exclusive."
   ]
  },
  {
   "cell_type": "code",
   "execution_count": 77,
   "metadata": {},
   "outputs": [
    {
     "data": {
      "text/plain": [
       "array([10,  9,  7])"
      ]
     },
     "execution_count": 77,
     "metadata": {},
     "output_type": "execute_result"
    }
   ],
   "source": [
    "# Run this cell a couple times\n",
    "one_to_five = np.random.randint(low = 5, high = 11, size = 3)\n",
    "one_to_five"
   ]
  },
  {
   "cell_type": "markdown",
   "metadata": {},
   "source": [
    "**Question 1:** Using **np.random.choice()**, write a function called `create_boggle_board` that generates a random boggle board. The function should have three parameteers: dxct, rows, columns. Dxct should be a list of all the letters of the alphabet, while rows and columns should the number of rows and columns on the board. Print out a sample boggle board using the function."
   ]
  },
  {
   "cell_type": "code",
   "execution_count": 78,
   "metadata": {},
   "outputs": [
    {
     "name": "stdout",
     "output_type": "stream",
     "text": [
      "[['A' 'V' 'K' 'C' 'B']\n",
      " ['D' 'F' 'Z' 'T' 'V']\n",
      " ['I' 'Q' 'G' 'J' 'X']\n",
      " ['Y' 'Z' 'H' 'V' 'R']\n",
      " ['F' 'I' 'O' 'D' 'Y']]\n"
     ]
    }
   ],
   "source": [
    "dxct = ['A','B','C','D','E','F','G','H','I','J','K','L','M','N','O','P','Q','R','S','T','U','V','W','X','Y','Z']\n",
    "def create_boggle_board(dxct, rows, columns):\n",
    "    return np.random.choice(dxct, size = (rows, columns))\n",
    "print(create_boggle_board(dxct, 5, 5)) "
   ]
  },
  {
   "cell_type": "markdown",
   "metadata": {},
   "source": [
    "**Question 2:** Using **np.random.randint()**, generate an array called `one_to_seven` that contains 100 values between one and seven (inclusive), ie [1,7]. Then create a histogram displaying the distribution of the generated values. Your x-axis should be titled \"Values.\" Your y-axis should be titled \"Frequency.\" Your title should be \"Distribution of random values from 1 to 7.\""
   ]
  },
  {
   "cell_type": "code",
   "execution_count": 79,
   "metadata": {},
   "outputs": [
    {
     "data": {
      "image/png": "[encoded data removed]",
      "text/plain": [
       "<Figure size 432x288 with 1 Axes>"
      ]
     },
     "metadata": {},
     "output_type": "display_data"
    }
   ],
   "source": [
    "one_to_seven = np.random.randint(low=1, high=8, size=100)\n",
    "bins = np.arange(1, 9, 1)\n",
    "plt.hist(one_to_seven, bins, edgecolor = 'black', linewidth = 1.2)\n",
    "plt.ylabel(\"Frequency\")\n",
    "plt.title(\"Distribution of random values from 1 to 7\")\n",
    "plt.xlabel(\"Values\")\n",
    "plt.show()"
   ]
  },
  {
   "cell_type": "markdown",
   "metadata": {},
   "source": [
    "## 2. Simulating with Descriptive Statistics\n",
    "\n",
    "**Simulation** is the process of using a computer to mimic a physical experiment. In this class, those experiments will almost invariably involve chance.\n",
    "\n",
    "Simulating involves four steps:\n",
    "\n",
    "    Step 1: What to Simulate \n",
    "   \n",
    "    Step 2: Simulating One Value\n",
    "   \n",
    "    Step 3: Number of Repetitions\n",
    "   \n",
    "    Step 4: Coding the Simulation\n",
    "    \n",
    "Let's do some simple simulations with some real-world examples."
   ]
  },
  {
   "cell_type": "markdown",
   "metadata": {},
   "source": [
    "**Question 1:** Whammy time ! Write a program  to simulate a game of Whammy 'n' number of times. \n",
    "\n",
    "Your program should have three functions:\n",
    "    \n",
    "  1) The first function called `whammy_x_1` should create a random NxM grid from parameters \n",
    "     `whammy_prizes`, `rows`, and `columns`. `whammy_prizes`, and should \n",
    "     have the string values: 'Whammy',\"$100\", \"$500\", \"$1000\", \"$5000\", 'Whammy' \n",
    "     ( Yes, there are two whammy values ). This function should randomnly return one of the values on the grid.\n",
    "      \n",
    "  2) The second function called `whammy_x_n` should take the same parameters \n",
    "     as `whammy_x_1` with the addition of the parameter called `reps`. 'reps', \n",
    "     which stands for \"repitions\", will represent the number of times we want to run our \n",
    "     simulation.  This function should randomnly populate and return an array called \n",
    "     `whammy_results`,by calling `whammy_x_1` 'n' number of times, where 'n' is equal\n",
    "     to reps\n",
    "     \n",
    "  3) The third function called `whammy_bar_plot` should take the array returned \n",
    "     from the second function as a parameter. Using that array, create a bar plot\n",
    "     that shows the count ( or frequency ) of each possible value in he `whammy_results`\n",
    "     array. Your chart should have a title, a labeled x-axis and a labeled y-axis. Each bar on\n",
    "     your x-axis should have a label name. Your labels should accuretely convey the information\n",
    "     you're trying to communicate.\n",
    "\n",
    "\n",
    "When you call your second function, you can pass **1000** in for the number of simulations\n",
    "     \n",
    "**Note:** You can read up about the game Whammy at this link: https://gameshows.fandom.com/wiki/The_Whammy\n",
    "\n",
    "\n",
    "      "
   ]
  },
  {
   "cell_type": "code",
   "execution_count": 80,
   "metadata": {},
   "outputs": [
    {
     "data": {
      "image/png": "[encoded data removed]",
      "text/plain": [
       "<Figure size 432x288 with 1 Axes>"
      ]
     },
     "metadata": {},
     "output_type": "display_data"
    }
   ],
   "source": [
    "from collections import Counter \n",
    "whammy_prizes = [\"Whammy\",\"$100\", \"$500\", \"$1000\", \"$5000\", \"Whammy\"]\n",
    "\n",
    "def whammy_x_1(whammy_prizes, rows, columns):\n",
    "    results = np.random.choice(whammy_prizes, size=(rows, columns))\n",
    "    return results [0][0]\n",
    "\n",
    "def whammy_x_n(whammy_prizes, rows, columns, reps):\n",
    "    nums = np.arange(reps)\n",
    "    whammy_results = np.array([])\n",
    "    for rep in nums:\n",
    "        whammy_result = np.array((whammy_x_1(whammy_prizes, rows, columns)))\n",
    "        whammy_results = np.append(whammy_results, whammy_result)\n",
    "    return whammy_results\n",
    "\n",
    "def whammy_bar_plot(whammy_prizes):\n",
    "    whammy = whammy_x_n(whammy_prizes, 2, 3, 1000)\n",
    "    whammies = Counter(whammy)\n",
    "    frequency = []\n",
    "    \n",
    "    for whammy in whammy_prizes:\n",
    "        frequency.append(whammies.get(whammy))\n",
    "\n",
    "    plt.bar(whammy_prizes, frequency, color='blue', edgecolor = 'black')\n",
    "    plt.plot()\n",
    "    plt.title(\"Distribution of values from Whammy Prizes\")\n",
    "    plt.ylabel(\"Frequency\")\n",
    "    plt.xlabel(\"Values\")\n",
    "    plt.show()\n",
    "\n",
    "whammy_bar_plot(whammy_prizes)\n",
    "\n"
   ]
  },
  {
   "cell_type": "markdown",
   "metadata": {},
   "source": [
    "**Question 2:** Whammy time again ! Modify your `whammy_prizes` array from Question 1 to  contain randomly generated values in between 1000 and 10000 (exclusive). Using the steps done in Question 1, randomnly populate the `whammy_results` array and plot the distribution of results using a histogram. Your code should be packaged in functions. Be sure to label **all** parts of your histogram properly. \n",
    "\n",
    "**Note:** Your bins can stride by **500** or **1000**, and the number of simulations you run should be **1000**."
   ]
  },
  {
   "cell_type": "code",
   "execution_count": null,
   "metadata": {},
   "outputs": [],
   "source": []
  },
  {
   "cell_type": "code",
   "execution_count": 81,
   "metadata": {},
   "outputs": [
    {
     "data": {
      "image/png": "[encoded data removed]",
      "text/plain": [
       "<Figure size 432x288 with 1 Axes>"
      ]
     },
     "metadata": {},
     "output_type": "display_data"
    }
   ],
   "source": [
    "whammy_prizes = np.random.randint(low=1000, high=10000, size=50)\n",
    "def whammy_bar_plot(whammy_prizes):\n",
    "    whammy = whammy_x_n(whammy_prizes, 2, 3, 1000)\n",
    "    plt.hist(whammy, 1000, color='blue', edgecolor = 'black')\n",
    "    plt.title(\"Distribution of values between 1000 and 10000\")\n",
    "    plt.ylabel(\"Frequency\")\n",
    "    plt.xlabel(\"Values\")\n",
    "    plt.show()\n",
    "    \n",
    "whammy_bar_plot(whammy_prizes)"
   ]
  },
  {
   "cell_type": "markdown",
   "metadata": {},
   "source": [
    "## 3. Using Simulations to get Probabilities \n",
    "\n",
    "**Note:** Reading from Chapter 9.5 of the Computational and Inferential Textbook will make understanding this section simpler.\n",
    "\n",
    "A **probability** is a number that reflects the chance or likelihood that a particular event will occur.\n",
    "\n",
    "Probabilities can be understood in various ways, but in data science, probabilities will be understood as **relative frequencies**.The ways in which probabilities are calculated and combined are consistent across the different interpretations.\n",
    "\n",
    "By convention, probabilities are numbers between 0 and 1, or, equivalently, 0% and 100%. Impossible events have probability 0. Events that are certain have probability 1.\n",
    "\n",
    "Using a \"deck of cards\", lets ask some questions to understand probablities better.\n",
    "\n",
    "**Note:** A playing card has a \"suit\" (\"♠︎\", \"♣︎\", \"♥︎\", or \"♦︎\") and a \"rank\" (2 through 10, J, Q, K, or A).  There are 4 suits and 13 ranks, so there are $4 \\times 13 = 52$ different cards."
   ]
  },
  {
   "cell_type": "code",
   "execution_count": 82,
   "metadata": {},
   "outputs": [
    {
     "data": {
      "text/html": [
       "<div>\n",
       "<style scoped>\n",
       "    .dataframe tbody tr th:only-of-type {\n",
       "        vertical-align: middle;\n",
       "    }\n",
       "\n",
       "    .dataframe tbody tr th {\n",
       "        vertical-align: top;\n",
       "    }\n",
       "\n",
       "    .dataframe thead th {\n",
       "        text-align: right;\n",
       "    }\n",
       "</style>\n",
       "<table border=\"1\" class=\"dataframe\">\n",
       "  <thead>\n",
       "    <tr style=\"text-align: right;\">\n",
       "      <th></th>\n",
       "      <th>Rank</th>\n",
       "      <th>Suit</th>\n",
       "    </tr>\n",
       "  </thead>\n",
       "  <tbody>\n",
       "    <tr>\n",
       "      <th>0</th>\n",
       "      <td>2</td>\n",
       "      <td>♠︎</td>\n",
       "    </tr>\n",
       "    <tr>\n",
       "      <th>1</th>\n",
       "      <td>2</td>\n",
       "      <td>♣︎</td>\n",
       "    </tr>\n",
       "    <tr>\n",
       "      <th>2</th>\n",
       "      <td>2</td>\n",
       "      <td>♥︎</td>\n",
       "    </tr>\n",
       "    <tr>\n",
       "      <th>3</th>\n",
       "      <td>2</td>\n",
       "      <td>♦︎</td>\n",
       "    </tr>\n",
       "    <tr>\n",
       "      <th>4</th>\n",
       "      <td>3</td>\n",
       "      <td>♠︎</td>\n",
       "    </tr>\n",
       "    <tr>\n",
       "      <th>5</th>\n",
       "      <td>3</td>\n",
       "      <td>♣︎</td>\n",
       "    </tr>\n",
       "    <tr>\n",
       "      <th>6</th>\n",
       "      <td>3</td>\n",
       "      <td>♥︎</td>\n",
       "    </tr>\n",
       "    <tr>\n",
       "      <th>7</th>\n",
       "      <td>3</td>\n",
       "      <td>♦︎</td>\n",
       "    </tr>\n",
       "    <tr>\n",
       "      <th>8</th>\n",
       "      <td>4</td>\n",
       "      <td>♠︎</td>\n",
       "    </tr>\n",
       "    <tr>\n",
       "      <th>9</th>\n",
       "      <td>4</td>\n",
       "      <td>♣︎</td>\n",
       "    </tr>\n",
       "    <tr>\n",
       "      <th>10</th>\n",
       "      <td>4</td>\n",
       "      <td>♥︎</td>\n",
       "    </tr>\n",
       "    <tr>\n",
       "      <th>11</th>\n",
       "      <td>4</td>\n",
       "      <td>♦︎</td>\n",
       "    </tr>\n",
       "    <tr>\n",
       "      <th>12</th>\n",
       "      <td>5</td>\n",
       "      <td>♠︎</td>\n",
       "    </tr>\n",
       "    <tr>\n",
       "      <th>13</th>\n",
       "      <td>5</td>\n",
       "      <td>♣︎</td>\n",
       "    </tr>\n",
       "    <tr>\n",
       "      <th>14</th>\n",
       "      <td>5</td>\n",
       "      <td>♥︎</td>\n",
       "    </tr>\n",
       "    <tr>\n",
       "      <th>15</th>\n",
       "      <td>5</td>\n",
       "      <td>♦︎</td>\n",
       "    </tr>\n",
       "    <tr>\n",
       "      <th>16</th>\n",
       "      <td>6</td>\n",
       "      <td>♠︎</td>\n",
       "    </tr>\n",
       "    <tr>\n",
       "      <th>17</th>\n",
       "      <td>6</td>\n",
       "      <td>♣︎</td>\n",
       "    </tr>\n",
       "    <tr>\n",
       "      <th>18</th>\n",
       "      <td>6</td>\n",
       "      <td>♥︎</td>\n",
       "    </tr>\n",
       "    <tr>\n",
       "      <th>19</th>\n",
       "      <td>6</td>\n",
       "      <td>♦︎</td>\n",
       "    </tr>\n",
       "    <tr>\n",
       "      <th>20</th>\n",
       "      <td>7</td>\n",
       "      <td>♠︎</td>\n",
       "    </tr>\n",
       "    <tr>\n",
       "      <th>21</th>\n",
       "      <td>7</td>\n",
       "      <td>♣︎</td>\n",
       "    </tr>\n",
       "    <tr>\n",
       "      <th>22</th>\n",
       "      <td>7</td>\n",
       "      <td>♥︎</td>\n",
       "    </tr>\n",
       "    <tr>\n",
       "      <th>23</th>\n",
       "      <td>7</td>\n",
       "      <td>♦︎</td>\n",
       "    </tr>\n",
       "    <tr>\n",
       "      <th>24</th>\n",
       "      <td>8</td>\n",
       "      <td>♠︎</td>\n",
       "    </tr>\n",
       "    <tr>\n",
       "      <th>25</th>\n",
       "      <td>8</td>\n",
       "      <td>♣︎</td>\n",
       "    </tr>\n",
       "    <tr>\n",
       "      <th>26</th>\n",
       "      <td>8</td>\n",
       "      <td>♥︎</td>\n",
       "    </tr>\n",
       "    <tr>\n",
       "      <th>27</th>\n",
       "      <td>8</td>\n",
       "      <td>♦︎</td>\n",
       "    </tr>\n",
       "    <tr>\n",
       "      <th>28</th>\n",
       "      <td>9</td>\n",
       "      <td>♠︎</td>\n",
       "    </tr>\n",
       "    <tr>\n",
       "      <th>29</th>\n",
       "      <td>9</td>\n",
       "      <td>♣︎</td>\n",
       "    </tr>\n",
       "    <tr>\n",
       "      <th>30</th>\n",
       "      <td>9</td>\n",
       "      <td>♥︎</td>\n",
       "    </tr>\n",
       "    <tr>\n",
       "      <th>31</th>\n",
       "      <td>9</td>\n",
       "      <td>♦︎</td>\n",
       "    </tr>\n",
       "    <tr>\n",
       "      <th>32</th>\n",
       "      <td>10</td>\n",
       "      <td>♠︎</td>\n",
       "    </tr>\n",
       "    <tr>\n",
       "      <th>33</th>\n",
       "      <td>10</td>\n",
       "      <td>♣︎</td>\n",
       "    </tr>\n",
       "    <tr>\n",
       "      <th>34</th>\n",
       "      <td>10</td>\n",
       "      <td>♥︎</td>\n",
       "    </tr>\n",
       "    <tr>\n",
       "      <th>35</th>\n",
       "      <td>10</td>\n",
       "      <td>♦︎</td>\n",
       "    </tr>\n",
       "    <tr>\n",
       "      <th>36</th>\n",
       "      <td>J</td>\n",
       "      <td>♠︎</td>\n",
       "    </tr>\n",
       "    <tr>\n",
       "      <th>37</th>\n",
       "      <td>J</td>\n",
       "      <td>♣︎</td>\n",
       "    </tr>\n",
       "    <tr>\n",
       "      <th>38</th>\n",
       "      <td>J</td>\n",
       "      <td>♥︎</td>\n",
       "    </tr>\n",
       "    <tr>\n",
       "      <th>39</th>\n",
       "      <td>J</td>\n",
       "      <td>♦︎</td>\n",
       "    </tr>\n",
       "    <tr>\n",
       "      <th>40</th>\n",
       "      <td>Q</td>\n",
       "      <td>♠︎</td>\n",
       "    </tr>\n",
       "    <tr>\n",
       "      <th>41</th>\n",
       "      <td>Q</td>\n",
       "      <td>♣︎</td>\n",
       "    </tr>\n",
       "    <tr>\n",
       "      <th>42</th>\n",
       "      <td>Q</td>\n",
       "      <td>♥︎</td>\n",
       "    </tr>\n",
       "    <tr>\n",
       "      <th>43</th>\n",
       "      <td>Q</td>\n",
       "      <td>♦︎</td>\n",
       "    </tr>\n",
       "    <tr>\n",
       "      <th>44</th>\n",
       "      <td>K</td>\n",
       "      <td>♠︎</td>\n",
       "    </tr>\n",
       "    <tr>\n",
       "      <th>45</th>\n",
       "      <td>K</td>\n",
       "      <td>♣︎</td>\n",
       "    </tr>\n",
       "    <tr>\n",
       "      <th>46</th>\n",
       "      <td>K</td>\n",
       "      <td>♥︎</td>\n",
       "    </tr>\n",
       "    <tr>\n",
       "      <th>47</th>\n",
       "      <td>K</td>\n",
       "      <td>♦︎</td>\n",
       "    </tr>\n",
       "    <tr>\n",
       "      <th>48</th>\n",
       "      <td>A</td>\n",
       "      <td>♠︎</td>\n",
       "    </tr>\n",
       "    <tr>\n",
       "      <th>49</th>\n",
       "      <td>A</td>\n",
       "      <td>♣︎</td>\n",
       "    </tr>\n",
       "    <tr>\n",
       "      <th>50</th>\n",
       "      <td>A</td>\n",
       "      <td>♥︎</td>\n",
       "    </tr>\n",
       "    <tr>\n",
       "      <th>51</th>\n",
       "      <td>A</td>\n",
       "      <td>♦︎</td>\n",
       "    </tr>\n",
       "  </tbody>\n",
       "</table>\n",
       "</div>"
      ],
      "text/plain": [
       "   Rank Suit\n",
       "0     2   ♠︎\n",
       "1     2   ♣︎\n",
       "2     2   ♥︎\n",
       "3     2   ♦︎\n",
       "4     3   ♠︎\n",
       "5     3   ♣︎\n",
       "6     3   ♥︎\n",
       "7     3   ♦︎\n",
       "8     4   ♠︎\n",
       "9     4   ♣︎\n",
       "10    4   ♥︎\n",
       "11    4   ♦︎\n",
       "12    5   ♠︎\n",
       "13    5   ♣︎\n",
       "14    5   ♥︎\n",
       "15    5   ♦︎\n",
       "16    6   ♠︎\n",
       "17    6   ♣︎\n",
       "18    6   ♥︎\n",
       "19    6   ♦︎\n",
       "20    7   ♠︎\n",
       "21    7   ♣︎\n",
       "22    7   ♥︎\n",
       "23    7   ♦︎\n",
       "24    8   ♠︎\n",
       "25    8   ♣︎\n",
       "26    8   ♥︎\n",
       "27    8   ♦︎\n",
       "28    9   ♠︎\n",
       "29    9   ♣︎\n",
       "30    9   ♥︎\n",
       "31    9   ♦︎\n",
       "32   10   ♠︎\n",
       "33   10   ♣︎\n",
       "34   10   ♥︎\n",
       "35   10   ♦︎\n",
       "36    J   ♠︎\n",
       "37    J   ♣︎\n",
       "38    J   ♥︎\n",
       "39    J   ♦︎\n",
       "40    Q   ♠︎\n",
       "41    Q   ♣︎\n",
       "42    Q   ♥︎\n",
       "43    Q   ♦︎\n",
       "44    K   ♠︎\n",
       "45    K   ♣︎\n",
       "46    K   ♥︎\n",
       "47    K   ♦︎\n",
       "48    A   ♠︎\n",
       "49    A   ♣︎\n",
       "50    A   ♥︎\n",
       "51    A   ♦︎"
      ]
     },
     "execution_count": 82,
     "metadata": {},
     "output_type": "execute_result"
    }
   ],
   "source": [
    "cards = pd.read_csv('deck.csv')\n",
    "suits = [\"♠︎\", \"♣︎\", \"♥︎\",\"♦︎\"]\n",
    "cards"
   ]
  },
  {
   "cell_type": "markdown",
   "metadata": {},
   "source": [
    "**Question 1:** Write a function that simulates drawing from a deck of 52 cards **once**, and answer the following question:\n",
    "        \n",
    "        What is the probability that you will draw a card with the suit \"♠︎\" and rank \"5\" ?\n",
    "        \n",
    "**Note:** Your answer should be a **single value**."
   ]
  },
  {
   "cell_type": "code",
   "execution_count": 83,
   "metadata": {},
   "outputs": [
    {
     "data": {
      "text/plain": [
       "'7♣︎'"
      ]
     },
     "execution_count": 83,
     "metadata": {},
     "output_type": "execute_result"
    }
   ],
   "source": [
    "cardsuit = []\n",
    "for index in range(len(cards)):\n",
    "    string = cards.loc[index, 'Rank'] + cards.loc[index, 'Suit']\n",
    "    cardsuit.append(string)\n",
    "def pick_a_card(deck):\n",
    "    return np.random.choice(cardsuit)\n",
    "\n",
    "# is_five_spades = 1/52 \n",
    "pick_a_card(cardsuit)"
   ]
  },
  {
   "cell_type": "markdown",
   "metadata": {},
   "source": [
    "**Question 2:** Write a function that simulates drawing from a deck of 52 cards **4 times without replacement**, and answer the following question:\n",
    "        \n",
    "        What is the probability that you will draw a card with suit \"♣︎\" ?\n",
    "        \n",
    "**Note:** Your answer should be a **table** with 2 columns and four rows. The column names should be \"Draw\" and \"Probability\", and should show the probability of drawing rank '10' on the corresponding draw."
   ]
  },
  {
   "cell_type": "code",
   "execution_count": 84,
   "metadata": {},
   "outputs": [
    {
     "data": {
      "text/html": [
       "<div>\n",
       "<style scoped>\n",
       "    .dataframe tbody tr th:only-of-type {\n",
       "        vertical-align: middle;\n",
       "    }\n",
       "\n",
       "    .dataframe tbody tr th {\n",
       "        vertical-align: top;\n",
       "    }\n",
       "\n",
       "    .dataframe thead th {\n",
       "        text-align: right;\n",
       "    }\n",
       "</style>\n",
       "<table border=\"1\" class=\"dataframe\">\n",
       "  <thead>\n",
       "    <tr style=\"text-align: right;\">\n",
       "      <th></th>\n",
       "      <th>Draw</th>\n",
       "      <th>Probability</th>\n",
       "    </tr>\n",
       "  </thead>\n",
       "  <tbody>\n",
       "    <tr>\n",
       "      <th>0</th>\n",
       "      <td>2♣︎</td>\n",
       "      <td>4/51</td>\n",
       "    </tr>\n",
       "    <tr>\n",
       "      <th>1</th>\n",
       "      <td>K♦︎</td>\n",
       "      <td>4/50</td>\n",
       "    </tr>\n",
       "    <tr>\n",
       "      <th>2</th>\n",
       "      <td>6♠︎</td>\n",
       "      <td>4/49</td>\n",
       "    </tr>\n",
       "    <tr>\n",
       "      <th>3</th>\n",
       "      <td>A♦︎</td>\n",
       "      <td>4/48</td>\n",
       "    </tr>\n",
       "  </tbody>\n",
       "</table>\n",
       "</div>"
      ],
      "text/plain": [
       "  Draw Probability\n",
       "0  2♣︎        4/51\n",
       "1  K♦︎        4/50\n",
       "2  6♠︎        4/49\n",
       "3  A♦︎        4/48"
      ]
     },
     "execution_count": 84,
     "metadata": {},
     "output_type": "execute_result"
    }
   ],
   "source": [
    "from copy import deepcopy\n",
    "from fractions import Fraction\n",
    "data = {'Draw': [], \n",
    "        'Probability':[]\n",
    "}\n",
    "def pick_four_cards(deck):\n",
    "    suitdeck = deepcopy(deck)\n",
    "    ten_num = 4\n",
    "    for i in range(4):\n",
    "        card_picked = np.random.choice(suitdeck)\n",
    "        data['Draw'].append(card_picked)\n",
    "        if '10' in card_picked:\n",
    "            ten_num -= 1\n",
    "        suitdeck.remove(card_picked)\n",
    "        data['Probability'].append(str(ten_num) +'/' + str(len(suitdeck)))\n",
    "    df = pd.DataFrame (data, columns = ['Draw','Probability'])\n",
    "    return df\n",
    "    \n",
    "#turn dataframe into a table \n",
    "\n",
    "\n",
    "# the probability that you will draw a card with suit \"♣︎\" = 13/52\n",
    "pick_four_cards(cardsuit)"
   ]
  },
  {
   "cell_type": "markdown",
   "metadata": {},
   "source": [
    "**Question 3:** Write a function that simulates drawing from a deck of 52 cards **10 times without replacement**, and answer the following question:\n",
    "        \n",
    "        What is the probability that you will draw a card with suit \"♥︎\" and \"♦︎\"?\n",
    "\n",
    "**Note:** Your answer should be a **table** with 2 columns and 10 rows. The column names should be \"Draw\" and \"Probability\", and should show the probability of drawing suit \"♥︎\" or \"♦︎\" on the corresponding draw."
   ]
  },
  {
   "cell_type": "code",
   "execution_count": 85,
   "metadata": {
    "scrolled": true
   },
   "outputs": [
    {
     "data": {
      "text/html": [
       "<div>\n",
       "<style scoped>\n",
       "    .dataframe tbody tr th:only-of-type {\n",
       "        vertical-align: middle;\n",
       "    }\n",
       "\n",
       "    .dataframe tbody tr th {\n",
       "        vertical-align: top;\n",
       "    }\n",
       "\n",
       "    .dataframe thead th {\n",
       "        text-align: right;\n",
       "    }\n",
       "</style>\n",
       "<table border=\"1\" class=\"dataframe\">\n",
       "  <thead>\n",
       "    <tr style=\"text-align: right;\">\n",
       "      <th></th>\n",
       "      <th>Draw</th>\n",
       "      <th>Probability</th>\n",
       "    </tr>\n",
       "  </thead>\n",
       "  <tbody>\n",
       "    <tr>\n",
       "      <th>0</th>\n",
       "      <td>3♦︎</td>\n",
       "      <td>25/51</td>\n",
       "    </tr>\n",
       "    <tr>\n",
       "      <th>1</th>\n",
       "      <td>2♣︎</td>\n",
       "      <td>25/50</td>\n",
       "    </tr>\n",
       "    <tr>\n",
       "      <th>2</th>\n",
       "      <td>J♦︎</td>\n",
       "      <td>24/49</td>\n",
       "    </tr>\n",
       "    <tr>\n",
       "      <th>3</th>\n",
       "      <td>A♠︎</td>\n",
       "      <td>24/48</td>\n",
       "    </tr>\n",
       "    <tr>\n",
       "      <th>4</th>\n",
       "      <td>K♦︎</td>\n",
       "      <td>23/47</td>\n",
       "    </tr>\n",
       "    <tr>\n",
       "      <th>5</th>\n",
       "      <td>9♦︎</td>\n",
       "      <td>22/46</td>\n",
       "    </tr>\n",
       "    <tr>\n",
       "      <th>6</th>\n",
       "      <td>10♥︎</td>\n",
       "      <td>21/45</td>\n",
       "    </tr>\n",
       "    <tr>\n",
       "      <th>7</th>\n",
       "      <td>5♥︎</td>\n",
       "      <td>20/44</td>\n",
       "    </tr>\n",
       "    <tr>\n",
       "      <th>8</th>\n",
       "      <td>Q♣︎</td>\n",
       "      <td>20/43</td>\n",
       "    </tr>\n",
       "    <tr>\n",
       "      <th>9</th>\n",
       "      <td>7♠︎</td>\n",
       "      <td>20/42</td>\n",
       "    </tr>\n",
       "  </tbody>\n",
       "</table>\n",
       "</div>"
      ],
      "text/plain": [
       "   Draw Probability\n",
       "0   3♦︎       25/51\n",
       "1   2♣︎       25/50\n",
       "2   J♦︎       24/49\n",
       "3   A♠︎       24/48\n",
       "4   K♦︎       23/47\n",
       "5   9♦︎       22/46\n",
       "6  10♥︎       21/45\n",
       "7   5♥︎       20/44\n",
       "8   Q♣︎       20/43\n",
       "9   7♠︎       20/42"
      ]
     },
     "execution_count": 85,
     "metadata": {},
     "output_type": "execute_result"
    }
   ],
   "source": [
    "from copy import deepcopy\n",
    "data = {'Draw': [], \n",
    "        'Probability':[]\n",
    "}\n",
    "def pick_ten_cards(deck):\n",
    "    suitdeck = deepcopy(deck)\n",
    "    heart_or_diamond = 26\n",
    "    for i in range(10):\n",
    "        card_picked = np.random.choice(suitdeck)\n",
    "        data['Draw'].append(card_picked)\n",
    "        if '♥︎' in card_picked or '♦︎' in card_picked:\n",
    "            heart_or_diamond -= 1\n",
    "        suitdeck.remove(card_picked)\n",
    "        data['Probability'].append(str(heart_or_diamond) +'/' + str(len(suitdeck))) \n",
    "        \n",
    "    heart_diamond = pd.DataFrame (data, columns = ['Draw','Probability'])\n",
    "    return heart_diamond\n",
    "    \n",
    "pick_ten_cards(cardsuit)\n",
    "# is_heart_diamond = 26/52\n",
    "\n",
    "#turn dataframe into a table "
   ]
  },
  {
   "cell_type": "markdown",
   "metadata": {},
   "source": [
    "**Question 4:** Write a function that simulates drawing from a deck of 52 cards **1000 times with replacement**, and answer the following question:\n",
    "\n",
    "        What is the probability that you will draw a card with a rank between 2 and 10 ( inclusive ) ?\n",
    "        \n",
    "**Note:** Your answer should be a a **histogram** and should show the frequency distribution of the values between 2 and 10 ( inclusive ). Be sure to label **all** parts of your histogram properly. "
   ]
  },
  {
   "cell_type": "code",
   "execution_count": 86,
   "metadata": {},
   "outputs": [
    {
     "data": {
      "image/png": "[encoded data removed]",
      "text/plain": [
       "<Figure size 432x288 with 1 Axes>"
      ]
     },
     "metadata": {},
     "output_type": "display_data"
    }
   ],
   "source": [
    "from copy import deepcopy\n",
    "data = {'Draw': [], \n",
    "}\n",
    "\n",
    "def pick_thousand_cards(deck):\n",
    "    suitdeck = deepcopy(deck)\n",
    "    dataset = []\n",
    "    for i in range(1000):\n",
    "        card_picked = np.random.choice(suitdeck)\n",
    "        data['Draw'].append(card_picked)\n",
    "        if 'A' in card_picked:\n",
    "            continue\n",
    "        elif 'J' in card_picked:\n",
    "            continue\n",
    "        elif 'K' in card_picked:\n",
    "            continue\n",
    "        elif 'Q' in card_picked: \n",
    "            continue\n",
    "        else:\n",
    "            num = card_picked\n",
    "            num = num[:1]\n",
    "            if num == '1' :\n",
    "                num = '10'\n",
    "            dataset.append(int(num))\n",
    "            \n",
    "    bins = np.arange(2, 12, 1)\n",
    "    \n",
    "    plt.hist(dataset, bins, edgecolor = 'black')\n",
    "    plt.xlabel(\"Values\")\n",
    "    plt.ylabel(\"Frequency\")\n",
    "    plt.title(\"Distribution of values between 2 and 10 (inclusive)\")\n",
    "    return plt.show()\n",
    "    \n",
    "pick_thousand_cards(cardsuit)\n",
    "\n",
    "# the probability I will draw a card with a rank between 2 ansd 10 is_two_to_ten = 36/52\n",
    "\n",
    "#turn data into a histogram "
   ]
  },
  {
   "cell_type": "markdown",
   "metadata": {},
   "source": [
    "**Question 5:** Write a function that simulates drawing from a deck of 52 cards **50 times with replacement** and answer the following question:\n",
    "\n",
    "        What is the probability that you will draw a card with a rank that is a letter (J, Q, K, A) ?\n",
    "        \n",
    "**Note:** You should have **two** answers: \n",
    "    \n",
    "   (1) The first should be a **table** with 2 columns and 50 rows. The column names should \n",
    "    be \"Draw\" and \"Probability\", and should show the probability of drawing rank with a letter on the corresponding draw.\n",
    "    \n",
    "   (2) The second should be a **scatterplot** of the table from answer (1)."
   ]
  },
  {
   "cell_type": "code",
   "execution_count": 87,
   "metadata": {},
   "outputs": [
    {
     "data": {
      "image/png": "[encoded data removed]",
      "text/plain": [
       "<Figure size 432x288 with 1 Axes>"
      ]
     },
     "metadata": {},
     "output_type": "display_data"
    }
   ],
   "source": [
    "from copy import deepcopy\n",
    "data = {'Draw': [], \n",
    "        'Probability':[]\n",
    "}\n",
    "\n",
    "\n",
    "frequency = []\n",
    "def pick_fifty_cards(deck):\n",
    "    count = 0\n",
    "    suitdeck = deepcopy(deck)\n",
    "    heart_or_diamond = 26\n",
    "    for i in range(50):\n",
    "        card_picked = np.random.choice(suitdeck)\n",
    "        data['Draw'].append(card_picked)\n",
    "        data['Probability'].append(1 - (36/52)**i)\n",
    "    letters = pd.DataFrame(data, columns = ['Draw','Probability'])\n",
    "    \n",
    "\n",
    "for freq in range(50):\n",
    "    frequency.append(freq)\n",
    "    \n",
    "\n",
    "pick_fifty_cards(cardsuit)\n",
    "\n",
    "plt.scatter(frequency, data['Probability'], c='red', alpha=0.5)\n",
    "plt.title(\"Number of times Picked\")\n",
    "plt.xlabel('Rank')\n",
    "plt.ylabel(\"Chance of at least one of letter rank\")\n",
    "plt.show()"
   ]
  },
  {
   "cell_type": "code",
   "execution_count": null,
   "metadata": {},
   "outputs": [],
   "source": []
  }
 ],
 "metadata": {
  "kernelspec": {
   "display_name": "Python 3",
   "language": "python",
   "name": "python3"
  },
  "language_info": {
   "codemirror_mode": {
    "name": "ipython",
    "version": 3
   },
   "file_extension": ".py",
   "mimetype": "text/x-python",
   "name": "python",
   "nbconvert_exporter": "python",
   "pygments_lexer": "ipython3",
   "version": "3.7.6"
  }
 },
 "nbformat": 4,
 "nbformat_minor": 4
}
