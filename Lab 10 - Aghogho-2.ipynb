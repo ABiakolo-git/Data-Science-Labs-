{
 "cells": [
  {
   "cell_type": "markdown",
   "metadata": {},
   "source": [
    "# Lab 10: Testing Hypotheses\n",
    "\n",
    "Welcome to Lab 10 !\n",
    "\n",
    "After such an extensive introduction to programming for data science, we are finally moving into the section of the course where we can apply our new skils to answer real questions.  \n",
    "\n",
    "In this lab, we'll take a look again at probabilities with decks of cards followed by using testing techniques in the Chapter 11 to test the idea of the therapeutic touch, the idea that some practitioner can feel and massage your human energy field. \n",
    "\n",
    "Outline:\n",
    "\n",
    "     1: Assesing Jades Models\n",
    "    \n",
    "     2: Examining the Therapeutic Touch  \n",
    "    \n",
    "Run the cells below to get started."
   ]
  },
  {
   "cell_type": "code",
   "execution_count": 104,
   "metadata": {},
   "outputs": [],
   "source": [
    "from datascience import *\n",
    "import pandas as pd\n",
    "import numpy as np \n",
    "import matplotlib\n",
    "%matplotlib inline\n",
    "import matplotlib.pyplot as plt\n",
    "plt.style.use('fivethirtyeight')"
   ]
  },
  {
   "cell_type": "markdown",
   "metadata": {},
   "source": [
    "## 1. Assessing Jade's Models\n",
    "#### Games with Jade\n",
    "\n",
    "Our friend Jade comes over and asks us to play a game with her. The game works like this: \n",
    "\n",
    "> We will draw randomly with replacement from a simplified 13 card deck with 4 face cards (A, J, Q, K), and 9 numbered cards (2, 3, 4, 5, 6, 7, 8, 9, 10). If we draw cards with replacement 13 times, and if the number of face cards is greater than or equal to 4, we lose.\n",
    "> \n",
    "> Otherwise, Jade wins.\n",
    "\n",
    "We play the game once and we lose, observing 8 total face cards. We are angry and accuse Jade of cheating! Jade is adamant, however, that the deck is fair.\n",
    "\n",
    "Jade's model claims that there is an equal chance of getting any of the cards (A, 2, 3, 4, 5, 6, 7, 8, 9, 10, J, Q, K), but we do not believe her. We believe that the deck is clearly rigged, with face cards (A, J, Q, K) being more likely than the numbered cards (2, 3, 4, 5, 6, 7, 8, 9, 10)."
   ]
  },
  {
   "cell_type": "markdown",
   "metadata": {},
   "source": [
    "**Question 1:** Assign `deck_model_probabilities` to a two-item array containing the chance of drawing a face card as the first element, and the chance of drawing a numbered card as the second element under Jade's model. Since we're working with probabilities, make sure your values are between 0 and 1. "
   ]
  },
  {
   "cell_type": "code",
   "execution_count": 105,
   "metadata": {},
   "outputs": [
    {
     "data": {
      "text/plain": [
       "[0.3076923076923077, 0.6923076923076923]"
      ]
     },
     "execution_count": 105,
     "metadata": {},
     "output_type": "execute_result"
    }
   ],
   "source": [
    "face_cards = ('A', 'J', 'Q', 'K')\n",
    "numbered_cards = ('1', '2', '3', '4', '5', '6', '7', '8', '9')\n",
    "face_card = len(face_cards)/(len(face_cards) + len(numbered_cards))\n",
    "numbered_card = len(numbered_cards)/(len(face_cards) + len(numbered_cards))\n",
    "deck_model_probabilities = [face_card, numbered_card]\n",
    "deck_model_probabilities"
   ]
  },
  {
   "cell_type": "markdown",
   "metadata": {},
   "source": [
    "**Question 2:** We believe Jade's model is incorrect. In particular, we believe there to be a  larger chance of getting a face card. Which of the following statistics can we use during our simulation to test between the model and our alternative? Assign `statistic_choice` to the correct answer. \n",
    "\n",
    "1. The actual number of face cards we get in 13 draws\n",
    "2. The distance (absolute value) between the actual number of face cards in 13 draws and the expected number of face cards in 13 draws (4)\n",
    "3. The expected number of face cards in 13 draws (4)"
   ]
  },
  {
   "cell_type": "code",
   "execution_count": 106,
   "metadata": {},
   "outputs": [
    {
     "data": {
      "text/plain": [
       "2"
      ]
     },
     "execution_count": 106,
     "metadata": {},
     "output_type": "execute_result"
    }
   ],
   "source": [
    "statistic_choice = 2\n",
    "statistic_choice"
   ]
  },
  {
   "cell_type": "markdown",
   "metadata": {},
   "source": [
    "**Question 3:** Define the function `deck_simulation_and_statistic`, which, given a sample size and an array of model proportions (like the one you created in Question 1), returns the number of face cards in one simulation of drawing a card under the model specified in `model_proportions`. "
   ]
  },
  {
   "cell_type": "code",
   "execution_count": 107,
   "metadata": {},
   "outputs": [
    {
     "data": {
      "text/plain": [
       "1.0"
      ]
     },
     "execution_count": 107,
     "metadata": {},
     "output_type": "execute_result"
    }
   ],
   "source": [
    "def deck_simulation_and_statistic(sample_size, model_proportions):\n",
    "    return sample_proportions(sample_size, model_proportions).item(0)*sample_size\n",
    "\n",
    "deck_simulation_and_statistic(13, deck_model_probabilities)"
   ]
  },
  {
   "cell_type": "markdown",
   "metadata": {},
   "source": [
    "**Question 4:** Use your function from above to simulate the drawing of 13 cards 5000 times under the proportions that you specified in Question 1. Keep track of all of your statistics in `deck_statistics`. "
   ]
  },
  {
   "cell_type": "code",
   "execution_count": 108,
   "metadata": {},
   "outputs": [
    {
     "data": {
      "text/plain": [
       "[6.0, 6.0, 3.0, 4.0, 5.0]"
      ]
     },
     "execution_count": 108,
     "metadata": {},
     "output_type": "execute_result"
    }
   ],
   "source": [
    "repetitions = 5000 \n",
    "deck_statistics = []\n",
    "repetitions = 5000 \n",
    "for rep in range(repetitions):\n",
    "    deck_statistics.append(deck_simulation_and_statistic(13, deck_model_probabilities))\n",
    "deck_statistics[:5]"
   ]
  },
  {
   "cell_type": "markdown",
   "metadata": {},
   "source": [
    "**Question 5:** Given your observed value, do you believe that Jade's model is reasonable, or is our alternative more likely? Explain your answer using the distribution drawn in the previous problem. "
   ]
  },
  {
   "cell_type": "markdown",
   "metadata": {},
   "source": [
    "*Write your answer here, replacing this text.*"
   ]
  },
  {
   "cell_type": "markdown",
   "metadata": {},
   "source": [
    "## 2. Examining the Therapeutic Touch\n",
    "\n",
    "### What is the Therapeutic Touch\n",
    "\n",
    "The Therapeutic Touch (TT) is the idea that everyone can feel the Human Energy Field (HEF) around individuals.  Those who practice TT have described different people's HEFs as \"warm as Jell-O\" and \"tactile as taffy.\" \n",
    "\n",
    "TT was a popular technique used throughout the 20th century that was toted as a great way to bring balance to a person's health. Certain practitioners claim they have the ability to feel the HEF and can massage it in order to promote health and relaxation in individuals.\n",
    "\n",
    "### Emily Rosa\n",
    "\n",
    "[Emily Rosa](https://en.wikipedia.org/wiki/Emily_Rosa) was a 4th grade student who was very familiar with the world of TT, thanks to her parents, who were both medical practitioners and skeptics of TT.\n",
    "\n",
    "For her 4th grade science fair project, Emily decided to test whether or not TT practitioners could truly interact with a person's HEF. She later went on to p"
   ]
  },
  {
   "cell_type": "markdown",
   "metadata": {},
   "source": [
    "### Emily's Experiment\n",
    "\n",
    "Emily's experiment was clean, simple, and effective. Due to her parents' occupations in the medical field, she had wide access to people who claimed to be TT practitioners. \n",
    "\n",
    "Emily took 21 TT practitioners and used them for her science experiment. She would take a TT practitioner and ask them to extend their hands through a screen (which they can't see through). Emily would be on the other side and would flip a fair coin. Depending on how the coin landed, she would put out either her left hand or her right hand. The TT practitioner would then have to answer which hand Emily put out. If a pracitioner could truly interact with a person's HEF, it would be expected that they answered correctly.\n",
    "\n",
    "Overall, through 210 samples, the practitioner picked the correct hand 44% of the time. \n",
    "\n",
    "Emily's main goal here was to test whether or not the TT practicioners' guesses were random, like the flip of a coin. In most medical experiments, this is the norm. We want to test whether or not the treatment has an effect, *not* whether or not the treatment actually works. \n",
    "\n",
    "We will now begin to formulate this experiment in terms of the terminology we learned in this course. "
   ]
  },
  {
   "cell_type": "markdown",
   "metadata": {},
   "source": [
    "**Question 1:** Describe Emily’s model for how likely the TT practitioners are to choose the correct hand. What alternative model is her model meant to discredit? Discuss with students around you to come to a conclusion. Check in with a TA or LA if you are stuck."
   ]
  },
  {
   "cell_type": "markdown",
   "metadata": {},
   "source": [
    "Emily's model shows that TT practioners like every human would guess and is based on chance, they cannot actually tell which hand is which. Her model discredits that TT Practioners could more accurately guess which hand is accurate. "
   ]
  },
  {
   "cell_type": "markdown",
   "metadata": {},
   "source": [
    "**Question 2:** Remember that the practitioner got the correct answer 44% (0.44) of the time. According to Emily's model, on average, what proportion of times do we expect the practitioner to guess the correct hand? Make sure your answer is between 0 and 1. "
   ]
  },
  {
   "cell_type": "code",
   "execution_count": 109,
   "metadata": {},
   "outputs": [
    {
     "data": {
      "text/plain": [
       "0.5"
      ]
     },
     "execution_count": 109,
     "metadata": {},
     "output_type": "execute_result"
    }
   ],
   "source": [
    "expected_proportion_correct = 1/2\n",
    "expected_proportion_correct"
   ]
  },
  {
   "cell_type": "markdown",
   "metadata": {},
   "source": [
    "The goal now is to see if our deviation from this expected proportion of correct answers is due to something other than chance. \n",
    "\n",
    "**Question 3:** We usually use a statistic to help determine which model the evidence points towards. What is a statistic that we can use to compare outcomes under Emily’s model to what was observed? Assign `valid_stat` to an array of integer(s) representing test statistics that Emily can use: \n",
    "\n",
    "1. The difference between the expected percent correct and the actual percent correct\n",
    "2. The absolute difference between the expected percent correct and the actual percent correct\n",
    "3. The sum of the expected percent correct and the actual percent correct\n"
   ]
  },
  {
   "cell_type": "code",
   "execution_count": 110,
   "metadata": {},
   "outputs": [
    {
     "data": {
      "text/plain": [
       "[2]"
      ]
     },
     "execution_count": 110,
     "metadata": {},
     "output_type": "execute_result"
    }
   ],
   "source": [
    "valid_stat = [2]\n",
    "valid_stat"
   ]
  },
  {
   "cell_type": "markdown",
   "metadata": {},
   "source": [
    "**Question 4:** Why is the statistic from Question 3 the best choice for comparing outcomes in Emily's experiment? How does it relate to the models you defined in question 1?"
   ]
  },
  {
   "cell_type": "markdown",
   "metadata": {},
   "source": [
    "TT practioners guess, thus the percent of correct predictions should be close to 50%; if TT has any effect on prediction, the percentage will be significantly larger than or smaller than 50%. If the absolute distance between TT prediction accuracy and the percentage of correct guesses is significantly larger than 50% then we could support the hypthesis that TT affects predicition."
   ]
  },
  {
   "cell_type": "markdown",
   "metadata": {},
   "source": [
    "**Question 5:** Define the function `statistic` which takes in an expected proportion and an actual proportion, and returns the value of the statistic chosen in Question 3. Assume that the argument takes in proportions, but  return your answer as a percentage. \n",
    "\n",
    "*Hint:* Remember we are asking for a **percentage**, not a proportion. "
   ]
  },
  {
   "cell_type": "code",
   "execution_count": 111,
   "metadata": {},
   "outputs": [],
   "source": [
    "def statistic(expected_prop, actual_prop):\n",
    "    return abs(100*(expected_prop - actual_prop))\n"
   ]
  },
  {
   "cell_type": "markdown",
   "metadata": {},
   "source": [
    "**Question 6:** Use your newly defined function to calculate the observed statistic from Emily's experiment. "
   ]
  },
  {
   "cell_type": "code",
   "execution_count": 112,
   "metadata": {},
   "outputs": [
    {
     "data": {
      "text/plain": [
       "6.0"
      ]
     },
     "execution_count": 112,
     "metadata": {},
     "output_type": "execute_result"
    }
   ],
   "source": [
    "observed_statistic = statistic(0.5, 0.44)\n",
    "observed_statistic"
   ]
  },
  {
   "cell_type": "markdown",
   "metadata": {},
   "source": [
    "**Is this observed statistic consistent with what we might see under Emily’s model?**\n",
    "\n",
    "In order to answer this question, we must simulate the experiment as though Emily's model was correct, and calculate our statistic for every simulation.\n",
    "\n",
    "### `sample_proportions`\n",
    "\n",
    "`sample_proportions` is a function in the **datascience** package. It can be used to randomly sample from multiple categories when you know the proportion of data points that are expected to fall in each category. `sample_proportions` takes two arguments: the sample size and an array that contains the distribution of categories in the population (should sum to 1).\n",
    "\n",
    "Consider flipping a fair coin, where the two outcomes (coin lands heads and coin lands tails) occur with an equal chance. We expect that half of all coin flips will land heads, and half of all coin flips will land tails.\n",
    "\n",
    "Run the following cell to see the simulation of 10 flips of a fair coin. Let the first item of `coin_proportions` be the proportion of heads and the second item of `coin_proportions` be the proportion of tails."
   ]
  },
  {
   "cell_type": "code",
   "execution_count": 113,
   "metadata": {},
   "outputs": [
    {
     "data": {
      "text/plain": [
       "array([0.4, 0.6])"
      ]
     },
     "execution_count": 113,
     "metadata": {},
     "output_type": "execute_result"
    }
   ],
   "source": [
    "coin_proportions = [0.5,0.5]\n",
    "ten_flips = sample_proportions(10, coin_proportions)\n",
    "ten_flips"
   ]
  },
  {
   "cell_type": "markdown",
   "metadata": {},
   "source": [
    "`sample_proportions` returns an array that is the same length as the proportion array that is passed through. It contains the proportion of each category that appears in the sample. \n",
    "\n",
    "In our example, the first item of `ten_flips` is the simulated proportion of heads and the second item of `ten_flips` is the simulated proportion of tails."
   ]
  },
  {
   "cell_type": "code",
   "execution_count": 114,
   "metadata": {},
   "outputs": [
    {
     "name": "stdout",
     "output_type": "stream",
     "text": [
      "In our simluation, 0.4 of flips were heads and 0.6 of flips were tails.\n"
     ]
    }
   ],
   "source": [
    "simluated_proportion_heads = ten_flips[0]\n",
    "simluated_proportion_tails = ten_flips[1]\n",
    "\n",
    "print(\"In our simluation, \" + str(simluated_proportion_heads) + \" of flips were heads and \" \\\n",
    "     + str(simluated_proportion_tails) + \" of flips were tails.\")"
   ]
  },
  {
   "cell_type": "markdown",
   "metadata": {},
   "source": [
    "**Question 7:** To begin simulating, we should start by creating a representation of Emily's model to use for our simulation. This will be an array with two items in it. The first item should be the proportion of times, assuming that Emily’s model was correct, a TT practictioner picks the correct hand. The second item should be the proportion of times, under the same assumption, that the TT practitioner picks the incorrect hand. Assign `model_proportions` to this array. \n",
    "\n",
    "After this, we can simulate 210 hand choices, as Emily evaluated in real life, and find a single statistic to summarize this instance of the simulation. Use the `sample_proportions` function and assign the proportion of correct hand choices (out of 210) to `simulation_proportion_correct`. Lastly, use your statistic function to assign `one_statistic`  to the value of the statistic for this one simulation."
   ]
  },
  {
   "cell_type": "code",
   "execution_count": 115,
   "metadata": {},
   "outputs": [
    {
     "data": {
      "text/plain": [
       "4.761904761904767"
      ]
     },
     "execution_count": 115,
     "metadata": {},
     "output_type": "execute_result"
    }
   ],
   "source": [
    "model_proportions = [0.5, 0.5]\n",
    "simulation_proportion_correct = sample_proportions(210, model_proportions)\n",
    "one_statistic = statistic(simulation_proportion_correct[0], simulation_proportion_correct[1])\n",
    "one_statistic"
   ]
  },
  {
   "cell_type": "markdown",
   "metadata": {},
   "source": [
    "**Question 8:** Let's now see what the distribution of statistics is actually like under Emily's model. \n",
    "\n",
    "Define the function `simulation_and_statistic` to take in the `model_proportions` array and the expected proportion of times a TT practitioner would guess a hand correctly under Emily's model. The function should simulate Emily running through the experiment 210 times and return the statistic of this one simulation. \n",
    "\n",
    "*Hint:* This should follow the same pattern as the code you did in the previous problem.  "
   ]
  },
  {
   "cell_type": "code",
   "execution_count": 116,
   "metadata": {},
   "outputs": [
    {
     "data": {
      "text/plain": [
       "1.9047619047619035"
      ]
     },
     "execution_count": 116,
     "metadata": {},
     "output_type": "execute_result"
    }
   ],
   "source": [
    "def simulation_and_statistic(model_proportions, expected_proportion_correct):\n",
    "    '''Simulates 210 TT hand choices under Emily’s model. \n",
    "    Returns one statistic from the simulation.'''\n",
    "    simulation_and_statistic = sample_proportions(210, model_proportions)\n",
    "    one_statistic = statistic(simulation_and_statistic[0], simulation_and_statistic[1])\n",
    "    return  one_statistic\n",
    "simulation_and_statistic([0.5, 0.5], 0.5)"
   ]
  },
  {
   "cell_type": "markdown",
   "metadata": {},
   "source": [
    "Using this function, assign `simulated_statistics` to an array of 1000 statistics that you calculated under the assumption that Emily's model was true."
   ]
  },
  {
   "cell_type": "code",
   "execution_count": 117,
   "metadata": {},
   "outputs": [
    {
     "data": {
      "text/plain": [
       "array([ 0.        ,  0.        ,  2.85714286, 12.38095238,  6.66666667,\n",
       "       11.42857143,  7.61904762,  1.9047619 , 10.47619048,  1.9047619 ,\n",
       "        9.52380952,  4.76190476,  8.57142857,  4.76190476,  2.85714286,\n",
       "        0.        , 10.47619048,  5.71428571, 17.14285714,  2.85714286,\n",
       "        6.66666667,  8.57142857,  7.61904762,  7.61904762,  1.9047619 ,\n",
       "        0.95238095,  4.76190476,  0.        , 12.38095238,  5.71428571,\n",
       "        3.80952381,  6.66666667,  0.95238095,  3.80952381,  5.71428571,\n",
       "        4.76190476,  4.76190476,  4.76190476,  7.61904762, 11.42857143,\n",
       "        0.        ,  9.52380952,  1.9047619 , 13.33333333,  2.85714286,\n",
       "        4.76190476, 11.42857143, 16.19047619, 15.23809524,  3.80952381,\n",
       "        5.71428571,  8.57142857,  3.80952381,  5.71428571,  1.9047619 ,\n",
       "        2.85714286,  0.        ,  7.61904762,  7.61904762,  0.95238095,\n",
       "        5.71428571,  0.        ,  2.85714286,  0.95238095,  7.61904762,\n",
       "       12.38095238, 12.38095238,  0.        , 10.47619048,  0.95238095,\n",
       "       16.19047619,  1.9047619 ,  0.        ,  8.57142857, 15.23809524,\n",
       "        2.85714286,  1.9047619 ,  2.85714286,  4.76190476,  8.57142857,\n",
       "        0.        ,  7.61904762,  9.52380952,  1.9047619 ,  6.66666667,\n",
       "        0.95238095,  4.76190476,  0.95238095,  2.85714286,  0.        ,\n",
       "        4.76190476,  7.61904762,  4.76190476,  3.80952381,  1.9047619 ,\n",
       "        3.80952381,  3.80952381,  6.66666667, 12.38095238,  2.85714286,\n",
       "        6.66666667,  9.52380952,  7.61904762,  4.76190476,  7.61904762,\n",
       "       19.04761905,  6.66666667,  7.61904762,  0.95238095,  4.76190476,\n",
       "        7.61904762,  7.61904762,  0.95238095,  5.71428571,  2.85714286,\n",
       "        3.80952381,  0.95238095, 10.47619048,  1.9047619 ,  3.80952381,\n",
       "        3.80952381, 19.04761905, 11.42857143,  2.85714286,  2.85714286,\n",
       "       13.33333333,  4.76190476,  8.57142857,  0.95238095,  9.52380952,\n",
       "        0.95238095,  3.80952381, 11.42857143,  2.85714286,  0.        ,\n",
       "        0.95238095,  0.        ,  0.95238095,  9.52380952, 13.33333333,\n",
       "        3.80952381,  6.66666667,  0.95238095,  2.85714286,  2.85714286,\n",
       "        7.61904762,  0.95238095,  4.76190476,  3.80952381,  0.95238095,\n",
       "        1.9047619 , 13.33333333,  5.71428571,  4.76190476,  2.85714286,\n",
       "        2.85714286, 10.47619048, 10.47619048, 15.23809524, 13.33333333,\n",
       "        2.85714286,  7.61904762,  8.57142857,  1.9047619 ,  7.61904762,\n",
       "       15.23809524,  2.85714286, 12.38095238,  0.        ,  6.66666667,\n",
       "        3.80952381, 24.76190476,  4.76190476,  2.85714286,  0.        ,\n",
       "       20.95238095,  6.66666667,  4.76190476,  4.76190476,  1.9047619 ,\n",
       "        1.9047619 ,  0.95238095,  3.80952381,  4.76190476,  8.57142857,\n",
       "        5.71428571,  2.85714286,  3.80952381,  7.61904762,  5.71428571,\n",
       "        3.80952381, 15.23809524,  2.85714286, 10.47619048,  4.76190476,\n",
       "        1.9047619 ,  0.        ,  4.76190476,  8.57142857,  6.66666667,\n",
       "        1.9047619 ,  3.80952381, 12.38095238,  6.66666667,  9.52380952,\n",
       "        1.9047619 ,  8.57142857,  3.80952381,  5.71428571,  8.57142857,\n",
       "        2.85714286,  6.66666667,  2.85714286,  8.57142857, 13.33333333,\n",
       "       14.28571429,  9.52380952,  6.66666667,  6.66666667, 12.38095238,\n",
       "        3.80952381,  1.9047619 ,  1.9047619 ,  2.85714286,  0.        ,\n",
       "        0.        ,  0.95238095, 10.47619048,  5.71428571,  3.80952381,\n",
       "       10.47619048,  5.71428571,  6.66666667,  0.95238095, 13.33333333,\n",
       "        6.66666667,  0.95238095,  3.80952381,  6.66666667,  0.        ,\n",
       "        0.95238095, 12.38095238,  0.95238095,  9.52380952,  3.80952381,\n",
       "        0.95238095,  8.57142857,  7.61904762,  4.76190476, 13.33333333,\n",
       "        1.9047619 , 19.04761905,  3.80952381,  8.57142857,  4.76190476,\n",
       "        2.85714286,  2.85714286,  7.61904762,  8.57142857,  2.85714286,\n",
       "        0.        ,  6.66666667,  4.76190476, 16.19047619, 11.42857143,\n",
       "        0.95238095,  0.95238095,  9.52380952,  6.66666667,  0.95238095,\n",
       "       14.28571429,  0.95238095, 18.0952381 ,  9.52380952,  5.71428571,\n",
       "        6.66666667,  0.        ,  7.61904762,  7.61904762,  3.80952381,\n",
       "        7.61904762,  3.80952381,  2.85714286,  2.85714286,  1.9047619 ,\n",
       "        2.85714286,  0.95238095, 12.38095238,  3.80952381,  5.71428571,\n",
       "       17.14285714,  3.80952381,  6.66666667,  8.57142857,  0.95238095,\n",
       "       14.28571429,  1.9047619 ,  2.85714286,  2.85714286,  6.66666667,\n",
       "       10.47619048,  8.57142857,  1.9047619 ,  0.        ,  3.80952381,\n",
       "        9.52380952,  2.85714286,  2.85714286,  1.9047619 ,  7.61904762,\n",
       "        0.95238095,  4.76190476, 17.14285714,  4.76190476,  9.52380952,\n",
       "        0.95238095,  2.85714286,  3.80952381,  7.61904762,  5.71428571,\n",
       "        2.85714286,  2.85714286, 12.38095238,  0.95238095,  3.80952381,\n",
       "       12.38095238, 15.23809524,  0.95238095,  0.95238095,  7.61904762,\n",
       "        2.85714286,  2.85714286,  9.52380952,  5.71428571,  2.85714286,\n",
       "       15.23809524,  2.85714286,  6.66666667,  6.66666667,  0.95238095,\n",
       "       16.19047619,  4.76190476,  3.80952381,  2.85714286, 12.38095238,\n",
       "        6.66666667, 16.19047619,  3.80952381, 10.47619048,  3.80952381,\n",
       "        5.71428571, 10.47619048,  2.85714286,  3.80952381,  9.52380952,\n",
       "        0.95238095,  9.52380952,  6.66666667,  5.71428571, 10.47619048,\n",
       "       10.47619048,  1.9047619 ,  3.80952381,  2.85714286, 10.47619048,\n",
       "        4.76190476, 23.80952381, 15.23809524,  3.80952381,  1.9047619 ,\n",
       "        0.95238095,  9.52380952,  6.66666667,  4.76190476,  5.71428571,\n",
       "        0.95238095,  8.57142857,  9.52380952,  4.76190476,  3.80952381,\n",
       "       16.19047619,  2.85714286, 13.33333333,  0.95238095, 10.47619048,\n",
       "        2.85714286,  3.80952381,  0.        , 12.38095238,  2.85714286,\n",
       "        7.61904762,  0.        ,  1.9047619 , 11.42857143,  5.71428571,\n",
       "        1.9047619 ,  8.57142857,  5.71428571,  2.85714286,  6.66666667,\n",
       "        2.85714286,  5.71428571,  1.9047619 ,  1.9047619 ,  6.66666667,\n",
       "        4.76190476, 13.33333333,  4.76190476, 14.28571429,  7.61904762,\n",
       "        8.57142857,  0.        ,  5.71428571,  0.95238095, 10.47619048,\n",
       "        8.57142857,  2.85714286,  0.        ,  8.57142857,  4.76190476,\n",
       "        7.61904762,  9.52380952,  1.9047619 ,  5.71428571, 11.42857143,\n",
       "        2.85714286,  0.        ,  1.9047619 ,  0.95238095,  1.9047619 ,\n",
       "        1.9047619 ,  4.76190476,  1.9047619 , 21.9047619 ,  2.85714286,\n",
       "        1.9047619 ,  5.71428571,  0.95238095,  3.80952381,  3.80952381,\n",
       "        2.85714286,  2.85714286,  1.9047619 ,  5.71428571,  2.85714286,\n",
       "        3.80952381,  7.61904762,  7.61904762,  8.57142857,  7.61904762,\n",
       "        0.95238095,  5.71428571, 12.38095238,  2.85714286,  2.85714286,\n",
       "        0.95238095,  9.52380952,  3.80952381,  4.76190476,  3.80952381,\n",
       "        1.9047619 ,  0.95238095,  0.        ,  0.95238095,  6.66666667,\n",
       "        0.95238095,  2.85714286,  6.66666667,  3.80952381,  2.85714286,\n",
       "        0.95238095,  2.85714286, 11.42857143,  0.95238095,  0.95238095,\n",
       "        1.9047619 ,  0.        , 16.19047619,  7.61904762,  0.95238095,\n",
       "       12.38095238,  1.9047619 ,  5.71428571,  0.        ,  7.61904762,\n",
       "        0.95238095,  4.76190476,  7.61904762, 13.33333333,  6.66666667,\n",
       "        4.76190476,  4.76190476,  2.85714286,  6.66666667,  5.71428571,\n",
       "        3.80952381,  3.80952381,  2.85714286,  0.        ,  1.9047619 ,\n",
       "        0.95238095,  0.95238095,  4.76190476,  6.66666667,  2.85714286,\n",
       "        5.71428571,  4.76190476,  3.80952381,  0.95238095,  1.9047619 ,\n",
       "        1.9047619 ,  0.95238095,  3.80952381,  9.52380952, 11.42857143,\n",
       "        9.52380952,  7.61904762,  9.52380952, 12.38095238, 10.47619048,\n",
       "        5.71428571,  4.76190476,  1.9047619 ,  4.76190476,  1.9047619 ,\n",
       "        8.57142857,  3.80952381,  0.95238095,  8.57142857, 15.23809524,\n",
       "        2.85714286,  0.95238095,  0.        ,  7.61904762,  7.61904762,\n",
       "        8.57142857,  4.76190476,  0.95238095,  7.61904762,  5.71428571,\n",
       "        9.52380952, 11.42857143,  0.95238095,  8.57142857,  1.9047619 ,\n",
       "        0.95238095, 16.19047619,  3.80952381,  4.76190476,  7.61904762,\n",
       "       16.19047619,  0.        , 11.42857143,  5.71428571,  2.85714286,\n",
       "        7.61904762, 10.47619048,  4.76190476,  0.        ,  5.71428571,\n",
       "        8.57142857,  3.80952381,  6.66666667,  7.61904762,  8.57142857,\n",
       "        2.85714286,  8.57142857, 14.28571429,  2.85714286,  3.80952381,\n",
       "        0.        ,  6.66666667,  4.76190476,  0.95238095,  2.85714286,\n",
       "        2.85714286, 10.47619048,  3.80952381,  6.66666667, 11.42857143,\n",
       "        9.52380952,  8.57142857,  6.66666667,  2.85714286,  2.85714286,\n",
       "        0.95238095,  4.76190476,  3.80952381,  6.66666667,  4.76190476,\n",
       "       10.47619048, 10.47619048, 10.47619048, 12.38095238,  3.80952381,\n",
       "       13.33333333,  3.80952381,  8.57142857,  8.57142857,  1.9047619 ,\n",
       "        7.61904762,  0.95238095,  1.9047619 ,  4.76190476,  8.57142857,\n",
       "        3.80952381, 13.33333333,  1.9047619 ,  3.80952381,  7.61904762,\n",
       "        2.85714286,  3.80952381,  3.80952381,  1.9047619 , 10.47619048,\n",
       "        2.85714286,  4.76190476,  4.76190476, 13.33333333,  1.9047619 ,\n",
       "        4.76190476,  5.71428571,  3.80952381,  7.61904762,  5.71428571,\n",
       "        7.61904762,  1.9047619 ,  1.9047619 ,  0.        ,  0.        ,\n",
       "        0.95238095,  7.61904762,  0.        ,  8.57142857,  8.57142857,\n",
       "        3.80952381,  5.71428571,  7.61904762,  5.71428571,  4.76190476,\n",
       "        0.95238095,  1.9047619 ,  3.80952381,  1.9047619 ,  7.61904762,\n",
       "        8.57142857,  9.52380952,  5.71428571, 11.42857143,  5.71428571,\n",
       "        2.85714286,  2.85714286,  1.9047619 ,  2.85714286,  5.71428571,\n",
       "        3.80952381,  2.85714286,  0.        ,  3.80952381, 19.04761905,\n",
       "        3.80952381,  8.57142857,  3.80952381, 11.42857143,  0.        ,\n",
       "       14.28571429,  6.66666667,  1.9047619 ,  3.80952381,  4.76190476,\n",
       "        0.95238095,  3.80952381,  9.52380952,  7.61904762,  5.71428571,\n",
       "        0.95238095,  5.71428571, 14.28571429,  7.61904762,  1.9047619 ,\n",
       "        5.71428571,  7.61904762,  1.9047619 ,  7.61904762, 13.33333333,\n",
       "        3.80952381,  5.71428571,  5.71428571,  0.95238095,  8.57142857,\n",
       "       11.42857143, 13.33333333,  6.66666667,  2.85714286,  0.95238095,\n",
       "        2.85714286,  8.57142857,  5.71428571,  1.9047619 ,  8.57142857,\n",
       "        5.71428571,  5.71428571,  3.80952381,  0.        ,  1.9047619 ,\n",
       "        0.        ,  7.61904762,  5.71428571,  0.95238095,  7.61904762,\n",
       "        1.9047619 ,  0.95238095,  2.85714286,  0.95238095,  2.85714286,\n",
       "        9.52380952, 11.42857143,  5.71428571,  9.52380952,  1.9047619 ,\n",
       "        4.76190476,  0.95238095,  9.52380952,  0.95238095,  2.85714286,\n",
       "        1.9047619 ,  3.80952381,  8.57142857,  0.95238095,  5.71428571,\n",
       "        0.        ,  3.80952381,  5.71428571,  3.80952381,  4.76190476,\n",
       "        7.61904762,  0.95238095,  4.76190476,  9.52380952,  4.76190476,\n",
       "        5.71428571,  0.95238095,  0.95238095,  6.66666667,  4.76190476,\n",
       "        2.85714286,  3.80952381, 13.33333333,  2.85714286,  7.61904762,\n",
       "       15.23809524,  1.9047619 ,  8.57142857,  9.52380952,  7.61904762,\n",
       "        0.95238095,  9.52380952,  0.95238095,  0.95238095,  9.52380952,\n",
       "       10.47619048,  5.71428571,  5.71428571,  9.52380952,  2.85714286,\n",
       "        4.76190476,  6.66666667,  4.76190476,  1.9047619 ,  3.80952381,\n",
       "        3.80952381,  0.95238095,  0.95238095, 11.42857143, 14.28571429,\n",
       "       12.38095238,  4.76190476,  9.52380952,  9.52380952,  5.71428571,\n",
       "        3.80952381,  4.76190476,  2.85714286,  3.80952381,  0.95238095,\n",
       "       10.47619048,  1.9047619 ,  0.        , 10.47619048,  5.71428571,\n",
       "        4.76190476,  2.85714286,  0.95238095,  1.9047619 ,  2.85714286,\n",
       "        7.61904762,  0.95238095,  0.        ,  4.76190476,  5.71428571,\n",
       "       10.47619048,  6.66666667,  2.85714286,  8.57142857,  2.85714286,\n",
       "        5.71428571, 12.38095238,  2.85714286,  0.95238095,  2.85714286,\n",
       "       10.47619048, 18.0952381 ,  3.80952381,  3.80952381,  5.71428571,\n",
       "        3.80952381,  0.95238095,  2.85714286, 10.47619048,  0.95238095,\n",
       "        1.9047619 ,  7.61904762,  4.76190476,  2.85714286,  7.61904762,\n",
       "        5.71428571,  2.85714286,  2.85714286,  7.61904762,  7.61904762,\n",
       "       12.38095238,  0.        , 11.42857143,  4.76190476,  8.57142857,\n",
       "        2.85714286,  9.52380952, 16.19047619,  1.9047619 ,  1.9047619 ,\n",
       "        0.95238095,  6.66666667,  7.61904762,  0.95238095,  3.80952381,\n",
       "        0.95238095,  4.76190476,  4.76190476,  1.9047619 ,  3.80952381,\n",
       "        0.95238095,  4.76190476,  6.66666667, 14.28571429,  0.95238095,\n",
       "        4.76190476,  0.95238095,  9.52380952,  2.85714286,  7.61904762,\n",
       "        6.66666667, 10.47619048,  0.        ,  7.61904762,  0.95238095,\n",
       "        9.52380952,  4.76190476,  0.95238095,  3.80952381, 11.42857143,\n",
       "        3.80952381,  3.80952381,  2.85714286,  2.85714286,  1.9047619 ,\n",
       "        0.95238095,  0.95238095,  3.80952381,  5.71428571,  6.66666667,\n",
       "        6.66666667,  3.80952381,  3.80952381,  5.71428571,  0.95238095,\n",
       "       10.47619048,  9.52380952,  4.76190476,  0.95238095,  8.57142857,\n",
       "        5.71428571,  0.        ,  7.61904762,  4.76190476,  0.95238095,\n",
       "        0.95238095,  0.95238095,  4.76190476,  0.95238095,  1.9047619 ,\n",
       "        8.57142857,  0.95238095, 11.42857143,  6.66666667,  0.95238095,\n",
       "        9.52380952,  8.57142857,  1.9047619 ,  0.        ,  3.80952381,\n",
       "        2.85714286,  2.85714286,  0.95238095,  0.95238095,  6.66666667,\n",
       "        3.80952381,  1.9047619 ,  1.9047619 ,  3.80952381, 10.47619048,\n",
       "        9.52380952,  5.71428571,  4.76190476,  1.9047619 ,  7.61904762,\n",
       "        5.71428571,  3.80952381,  6.66666667, 10.47619048,  0.95238095,\n",
       "        6.66666667,  0.95238095, 14.28571429,  4.76190476,  5.71428571,\n",
       "        2.85714286,  0.95238095,  7.61904762,  9.52380952,  6.66666667,\n",
       "        1.9047619 ,  1.9047619 , 13.33333333,  6.66666667,  3.80952381,\n",
       "       20.        ,  1.9047619 ,  7.61904762,  3.80952381,  3.80952381,\n",
       "        1.9047619 ,  1.9047619 ,  4.76190476,  4.76190476,  9.52380952,\n",
       "        5.71428571,  4.76190476,  0.95238095, 19.04761905,  0.        ,\n",
       "        2.85714286, 12.38095238,  8.57142857, 10.47619048,  0.95238095,\n",
       "        7.61904762,  2.85714286,  1.9047619 ,  7.61904762,  6.66666667,\n",
       "       14.28571429,  4.76190476,  0.        ,  3.80952381,  1.9047619 ,\n",
       "        5.71428571,  3.80952381,  5.71428571,  3.80952381,  6.66666667,\n",
       "        1.9047619 ,  0.95238095, 18.0952381 ,  2.85714286, 12.38095238,\n",
       "       15.23809524,  0.95238095,  1.9047619 ,  6.66666667,  3.80952381,\n",
       "        1.9047619 ,  9.52380952,  2.85714286,  4.76190476,  4.76190476,\n",
       "        3.80952381,  3.80952381,  3.80952381,  9.52380952,  5.71428571])"
      ]
     },
     "execution_count": 117,
     "metadata": {},
     "output_type": "execute_result"
    }
   ],
   "source": [
    "num_repetitions = 1000\n",
    "simulated_statistics = []\n",
    "for i in np.arange(num_repetitions):\n",
    "    simulated_statistics = np.append(simulated_statistics, simulation_and_statistic(model_proportions, sample_proportions(210, model_proportions)))\n",
    "simulated_statistics"
   ]
  },
  {
   "cell_type": "markdown",
   "metadata": {},
   "source": [
    "**Question 9:** Create a percent distribution histogram of your `simulated_statistics`. Be sure to label all parts of your plot."
   ]
  },
  {
   "cell_type": "code",
   "execution_count": 118,
   "metadata": {},
   "outputs": [
    {
     "data": {
      "text/plain": [
       "Text(0.5, 1.0, 'Distance Distribution')"
      ]
     },
     "execution_count": 118,
     "metadata": {},
     "output_type": "execute_result"
    },
    {
     "data": {
      "image/png": "[encoded data removed]",
      "text/plain": [
       "<Figure size 432x288 with 1 Axes>"
      ]
     },
     "metadata": {},
     "output_type": "display_data"
    }
   ],
   "source": [
    "Table().with_column(\n",
    "    'Distance between Sample % and 50%', simulated_statistics\n",
    ").hist()\n",
    "plt.scatter(observed_statistic, 0, color='red', s=30);\n",
    "plt.title(\"Distance Distribution\")"
   ]
  },
  {
   "cell_type": "markdown",
   "metadata": {},
   "source": [
    "We can make a visual argument as to whether we believe the observed statistic is consistent with Emily’s model. Here, since larger values of the test statistic suggest the alternative model (where the chance of guessing the correct hand is something other than 50%), we can formalize our analysis by finding what proportion of simulated statistics were as large or larger than our observed test statistic (the area at or to the right of the observed test statistic). If this area is small enough, we’ll declare that the observed data are inconsistent with our simulated model."
   ]
  },
  {
   "cell_type": "markdown",
   "metadata": {},
   "source": [
    "**Question 10:** Calculate the proportion of simulated statistics greater than or equal to the observed statistic. \n"
   ]
  },
  {
   "cell_type": "code",
   "execution_count": 121,
   "metadata": {},
   "outputs": [
    {
     "data": {
      "text/plain": [
       "0.372"
      ]
     },
     "execution_count": 121,
     "metadata": {},
     "output_type": "execute_result"
    }
   ],
   "source": [
    "proportion_greater_or_equal = proportion_greater_or_equal = len([x for x in simulated_statistics if x >= 6])/len(simulated_statistics)\n",
    "proportion_greater_or_equal"
   ]
  },
  {
   "cell_type": "markdown",
   "metadata": {},
   "source": [
    "By convention, we often compare the proportion we just calculated to 0.05. If the proportion of simulated statistics greater than or equal to the observed statistic is sufficiently small (less than or equal to 0.05), then this is evidence against Emily's model. Otherwise, we don’t have any reason to doubt Emily’s model.\n",
    "\n",
    "This should help you make your own conclusions about Emily Rosa's experiment.\n",
    "\n",
    "Therapeutic touch fell out of use after this experiment, which was eventually accepted into one of the premier medical journals. TT practitioners hit back and accused Emily and her family of tampering with the results, while some claimed that Emily's bad spiritual mood towards therapeutic touch made it difficult to read her HEF. Whatever it may be, Emily's experiment is a classic example about how anyone, with the right resources, can test anything they want!\n",
    "\n",
    "Think to yourself about the following questions:\n",
    "\n",
    "1. Is the data more consistent with Emily' model (practioners were randomly guessing)?\n",
    "2. What does this mean in terms of Emily's experiment? Do the TT practitioners' answers follow an even chance model or is there something else at play? "
   ]
  },
  {
   "cell_type": "markdown",
   "metadata": {},
   "source": [
    "I will thank to myself."
   ]
  }
 ],
 "metadata": {
  "kernelspec": {
   "display_name": "Python 3",
   "language": "python",
   "name": "python3"
  },
  "language_info": {
   "codemirror_mode": {
    "name": "ipython",
    "version": 3
   },
   "file_extension": ".py",
   "mimetype": "text/x-python",
   "name": "python",
   "nbconvert_exporter": "python",
   "pygments_lexer": "ipython3",
   "version": "3.7.6"
  }
 },
 "nbformat": 4,
 "nbformat_minor": 4
}
